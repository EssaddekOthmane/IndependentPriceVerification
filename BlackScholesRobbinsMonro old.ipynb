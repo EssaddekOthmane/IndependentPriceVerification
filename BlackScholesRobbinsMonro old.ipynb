{
 "cells": [
  {
   "cell_type": "markdown",
   "id": "8d10ac5a",
   "metadata": {},
   "source": [
    "<h1><center>Questions sur l'Ajustement de Valorisation IPV</center></h1>\n"
   ]
  },
  {
   "cell_type": "markdown",
   "id": "f31a574b",
   "metadata": {},
   "source": [
    "# Introduction\n",
    "\n",
    "Le but de cet exercice est d'impliciter la volatilité du sous jacent dans le modèle de Black Scholes et de faire un Ajustement de Valorisation à Valeur Principale d'un call *(le prix que nous donne le pricer)* pour s'approcher de la **Juste Valeur**.\n",
    "\n",
    "$$\\text{Juste Valeur}=\\text{Valorisation Principale}+\\text{Ajustement de Valorisation (IPV)}$$\n",
    "\n",
    "Soit $C(\\sigma)$ le prix fourni par le pricer d'un call européen de sous jacent une action $A$ dont le prix est $S_0$ à l'émission du contrat, de strike $K=100$ et de maturité $T=1$ an et $C_m$ le prix consensus d'un call avec les mêmes caractéristiques founi par Totem.\n",
    "\n",
    "On définit la fonction $f$ comme suit :\n",
    "\n",
    "$$f(\\sigma)=C(\\sigma)-C_m$$\n",
    "\n",
    "L'objectif est alors de trouver $\\sigma '$ telle que \n",
    "\n",
    "$$f(\\sigma ')=C(\\sigma ')-C_m=0$$\n",
    "\n",
    "Pour faire notre premiere éstimation du prix de ce call nous avons utilisé une volatilité historique $\\sigma_h=0.3$\n",
    "\n",
    "Pour trouver $\\sigma '$ nous allons utiliser l'algorithme de Newton Raphson"
   ]
  },
  {
   "cell_type": "markdown",
   "id": "192e8523",
   "metadata": {},
   "source": [
    "# Modèle de Black Scholes"
   ]
  },
  {
   "cell_type": "markdown",
   "id": "412ac634",
   "metadata": {},
   "source": [
    "## Calcul du taux d'actualisation "
   ]
  },
  {
   "cell_type": "markdown",
   "id": "5c185b7d",
   "metadata": {},
   "source": [
    "On considère une obligation de maturité M=5ans un notionnel N=100.\n",
    "On suppose que le coupon de l’obligation est de la forme c_0=ref + s_0\n",
    "Avec ref un taux de référence par exemple le taux de rendement d’une obligation émise par l’état américain.\n",
    "A l’émission de l’obligation on actualise les flux future avec le taux c_0=ref + s_0 pour être au pair (Question?)\n",
    "\n",
    "On a alors le prix initial de l’obligation :\n",
    " $$ \\pi_0=\\pi(s_0)=N.\\sum_{i=0}^M B(t_i)(ref+s_0)+N.B(t_n)$$\n",
    " \n",
    " avec,\n",
    " \n",
    " $$B(t_i)=\\frac{1}{(1+ref+s_0)^{t_i}}$$\n",
    " \n",
    " On pose maintenant \n",
    " \n",
    " $$\\pi(s)=N.\\sum_{i=0}^M B(t_i)(ref+s)+N.B(t_n)$$\n",
    " \n",
    " On a alors,\n",
    " \n",
    "  $$\\pi'(s)=N.\\sum_{i=0}^M B(t_i)$$\n",
    "  \n",
    "Etant donné un prix $π_{mkt}$ on peut trouver $s_{mkt}$ tel que \n",
    "$$\\pi(s_{mkt})=π_{mkt}=N.\\sum_{i=0}^M B(t_i)(ref+s_{mkt})+N.B(t_n)$$\n",
    "donc\n",
    "$$s_{mkt}=\\frac{\\frac{π_{mkt}}{N}-B(t_n)-ref.\\sum_{i=0}^M B(t_i)}{\\sum_{i=0}^M B(t_i)}$$"
   ]
  },
  {
   "cell_type": "markdown",
   "id": "980a48d2",
   "metadata": {},
   "source": [
    "On a "
   ]
  },
  {
   "cell_type": "code",
   "execution_count": 1,
   "id": "6e8a0f75",
   "metadata": {},
   "outputs": [],
   "source": [
    "import numpy as np\n",
    "import scipy\n",
    "from scipy.stats import norm\n",
    "import matplotlib.pyplot as plt"
   ]
  },
  {
   "cell_type": "code",
   "execution_count": 2,
   "id": "29bec81c",
   "metadata": {},
   "outputs": [
    {
     "name": "stdout",
     "output_type": "stream",
     "text": [
      "New price :101.5496368038741\n",
      "Initial price + delta * sensi :101.5496368038741\n",
      "theoSpread - spread0 :160.00000000000065\n",
      "market spread - spread0 :160.0\n",
      "0.04850000000000007\n"
     ]
    }
   ],
   "source": [
    "OneBP = 0.0001\n",
    "\n",
    "refRate = 250 * OneBP\n",
    "s0 = 75 * OneBP\n",
    "\n",
    "coupon0 = refRate + s0\n",
    "\n",
    "ParDiscount = coupon0\n",
    "\n",
    "Notional = 100\n",
    "Maturity = 1\n",
    "\n",
    "\n",
    "def BondPrice(refrate, spread, discount, maturity, notional):\n",
    "    leg = sum([(refrate + spread) / (1 + discount) ** i for i in range(1, maturity + 1)])\n",
    "    discountEnd = 1 / (1 + discount) ** maturity\n",
    "    return (leg + discountEnd) * notional\n",
    "    \n",
    "\n",
    "\n",
    "def dBondPrice(discount, maturity, notional):\n",
    "    return notional * sum([1 / (1 + discount) ** i for i in range(1, maturity + 1)])\n",
    "\n",
    "\n",
    "\n",
    "\n",
    "def GetSpreadFromPrice(refrate, discount, maturity, notional, price):\n",
    "    leg = sum([refrate / (1 + discount) ** i for i in range(1, maturity + 1)])\n",
    "    bpv = sum([1 / (1 + discount) ** i for i in range(1, maturity + 1)])\n",
    "    discountEnd = 1 / (1 + discount) ** maturity\n",
    "    return (price / notional - discountEnd - leg) / bpv\n",
    "    pass\n",
    "\n",
    "\n",
    "\n",
    "initialPrice = BondPrice(refRate, s0, ParDiscount, Maturity, Notional)\n",
    "\n",
    "delta = 160 * OneBP\n",
    "\n",
    "newPrice = BondPrice(refRate, s0 + delta, ParDiscount, Maturity, Notional)\n",
    "\n",
    "sensi = dBondPrice(ParDiscount, Maturity, Notional)\n",
    "\n",
    "TehoSpread = GetSpreadFromPrice(refRate, ParDiscount, Maturity, Notional, newPrice) / OneBP\n",
    "\n",
    "print(f\"New price :{newPrice}\")\n",
    "\n",
    "print(f\"Initial price + delta * sensi :{initialPrice + delta * sensi}\")\n",
    "\n",
    "print(f\"theoSpread - spread0 :{TehoSpread-s0/OneBP}\")\n",
    "print(f\"market spread - spread0 :{delta/OneBP}\")\n",
    "\n",
    "MarketRate=(refRate+TehoSpread*OneBP)\n",
    "print(MarketRate)"
   ]
  },
  {
   "cell_type": "markdown",
   "id": "c13fbc04",
   "metadata": {},
   "source": [
    "Je suppose que le prix $S_t$ d'une action A suit la dynamique suivante:\n",
    "\n",
    "$$dS_t=S_t\\left(rdt+\\sigma dB_t\\right)$$\n",
    "\n",
    "Avec\n",
    "\n",
    "$$X_t=ln(S_t)$$\n",
    "\n",
    "Je trouve que\n",
    "\n",
    "$$dX_t=(r-\\frac{\\sigma^2}{2})dt+\\sigma dB_t$$\n",
    "\n",
    "Donc\n",
    "\n",
    "$$X_t=X_0+(r-\\frac{\\sigma^2}{2})t+\\sigma B_t$$\n",
    "\n",
    "Alors $\\forall t\\geq 0,$\n",
    "\n",
    "$$S_t(\\sigma)=S_0exp\\left\\{(r-\\frac{\\sigma^2}{2})t+\\sigma B_t\\right\\}=S_0exp\\left\\{(r-\\frac{\\sigma^2}{2})t+\\sigma \\sqrt{t} G\\right\\}$$\n",
    "\n",
    "Le prix d'un call $C$ s'ecrit sous la forme suivante:\n",
    "\n",
    "$$\\begin{align*}\n",
    "C(\\sigma)&=\\mathbb{E}\\big\\{e^{-rT}(S_T(\\sigma)-K)_+\\big\\}\\\\\n",
    "\\\\\n",
    "&=\\mathbb{E}\\big\\{\\mathbb{1}_{S_T(\\sigma)-K>0}e^{-rT}(S_T(\\sigma)-K)\\big\\}\\\\\n",
    "\\\\\n",
    "&=e^{-rT}\\mathbb{E}\\big\\{S_T(\\sigma)\\mathbb{1}_{S_T(\\sigma)-K>0}\\big\\}+Ke^{-rT}\\mathbb{P}\\big\\{S_T(\\sigma)-K>0\\big\\}\n",
    "\\end{align*}$$\n",
    "\n",
    "J'ai d'un coté\n",
    "\n",
    "$$\\begin{align*}\n",
    "\\mathbb{P}\\big\\{S_T(\\sigma)-K>0\\big\\}&=\\mathbb{P}\\big\\{(r-\\frac{\\sigma^2}{2})T+\\sigma B_T>ln(\\frac{K}{S_0})\\big\\}\\\\\n",
    "\\\\\n",
    "&=\\mathbb{P}\\big\\{G>-d_2\\big\\}\n",
    "\\end{align*}$$\n",
    "\n",
    "Et vu que $-G$ et $G$ suivent la meme loi,\n",
    "\n",
    "$$\\mathbb{P}\\big\\{S_T(\\sigma)-K>0\\big\\}=\\mathbb{P}\\big\\{G<d_2\\big\\}=N(d_2)$$\n",
    "\n",
    "D'un autre coté j'ai,\n",
    "\n",
    "$$\\begin{align*}\n",
    "\\mathbb{E}\\left\\{S_T(\\sigma)\\mathbb{1}_{S_T(\\sigma)-K>0}\\right\\}&=S_0\\mathbb{E}\\left\\{ e^{(r-\\frac{\\sigma^2}{2})T+\\sigma B_T} \\mathbb{1}_{G>d_2}\\right\\}\\\\\n",
    "\\\\\n",
    "&=\\int_{\\mathbb{R}}\\mathbb{1}_{G>x}e^{-\\frac{x^2}{2}T+\\sigma \\sqrt{T} x-\\frac{\\sigma^2}{2}T}\\frac{dx}{\\sqrt{2\\pi}} \\\\\n",
    "\\\\\n",
    "&=\\int_{-d2}^{+\\infty}e^{-\\frac{x^2}{2}}\\\\\n",
    "\\\\\n",
    "&=S_0N(d1)\n",
    "\\end{align*}$$\n",
    "\n",
    "Finalement je trouve que :\n",
    "\n",
    "$$C(\\sigma)=S_0N(d_1)-Ke^{-rT}N(d_2)$$\n",
    "\n",
    "Où\n",
    "\n",
    "$$\\begin{cases}\n",
    "      r \\text{ : taux d'actualisation} & \\\\\n",
    "      \\sigma \\text{ : la volatilité} & \\\\\n",
    "      N \\text{: la fonction de répartition de la loi normale}\n",
    "    \\end{cases}$$\n",
    "\n",
    "Et\n",
    "\n",
    "$$d_1=\\frac{ln\\left(\\frac{S_0}{K}\\right)+\\left(r+\\frac{\\sigma^2}{2}\\right)T}{\\sigma\\sqrt{T}} \\text{ et } d_2=d_1-\\sigma\\sqrt{T}$$"
   ]
  },
  {
   "cell_type": "code",
   "execution_count": 3,
   "id": "279c7f1a",
   "metadata": {},
   "outputs": [],
   "source": [
    "# !pip install numpy\n",
    "# !pip install scipy"
   ]
  },
  {
   "cell_type": "code",
   "execution_count": 4,
   "id": "5d60b4b9",
   "metadata": {},
   "outputs": [
    {
     "data": {
      "text/plain": [
       "14.159052097079396"
      ]
     },
     "execution_count": 4,
     "metadata": {},
     "output_type": "execute_result"
    }
   ],
   "source": [
    "T=1\n",
    "S_0=100\n",
    "r=MarketRate\n",
    "sigma_h=0.3\n",
    "K=100\n",
    "C_m=10\n",
    "\n",
    "\n",
    "def d1(x):\n",
    "    return (1/(x*np.sqrt(T)))*(np.log(S_0/K)+(r+0.5*x**2)*T)\n",
    "\n",
    "\n",
    "def d2(x):\n",
    "    return d1(x)-x*np.sqrt(T)\n",
    "\n",
    "\n",
    "def call_ferme(x):\n",
    "    return S_0*norm.cdf(d1(x))-K*np.exp(-r*T)*norm.cdf(d2(x))\n",
    "\n",
    "call_ferme(sigma_h)\n"
   ]
  },
  {
   "cell_type": "markdown",
   "id": "083be942",
   "metadata": {},
   "source": [
    "On va chercher alors la racine de la fonction $f$. Pour faire cela nous allons utiliser l'algorithme de Newton Raphson.\n",
    "\n",
    "------------------------------------------------------------------\n",
    "\n",
    "**Définiton :**\n",
    "\n",
    "On utilise l'algorithme de Newton Raphson pour trouver la racine d'une fonction $f$ et est définit itérativement de la manière suivante\n",
    " $$\\begin{cases}\n",
    "      x_0=v & \\\\\n",
    "      x_{n+1}=x_{n}-\\frac{f(x_n)}{f'(x_n)} & \n",
    "    \\end{cases}$$\n",
    "    \n",
    "    \n",
    "-----------------------------------------------------------------\n"
   ]
  },
  {
   "cell_type": "markdown",
   "id": "3c45bd32",
   "metadata": {},
   "source": [
    "On a\n",
    "\n",
    "$$f(\\sigma)=C(\\sigma)-C_m=S_0N(d_1)-Ke^{-rT}N(d_2)-C_m$$\n",
    "\n",
    "Et on peut monter que \n",
    "\n",
    "$$\\frac{\\partial f(\\sigma)}{\\partial \\sigma}=\\frac{\\partial C(\\sigma)}{\\partial \\sigma}=S_0\\sqrt{T}N'(d1)$$\n",
    "\n",
    "Où\n",
    "$$N'(x)=\\frac{1}{\\sqrt{2\\pi}}e^{\\frac{-x^2}{2}}$$\n",
    "\n"
   ]
  },
  {
   "cell_type": "code",
   "execution_count": 5,
   "id": "2d33aff0",
   "metadata": {},
   "outputs": [
    {
     "data": {
      "text/plain": [
       "0.19012900625808873"
      ]
     },
     "execution_count": 5,
     "metadata": {},
     "output_type": "execute_result"
    }
   ],
   "source": [
    "def f(x):\n",
    "    return call_ferme(x)-C_m\n",
    "\n",
    "\n",
    "def dN(x):\n",
    "    return 1/(np.sqrt(2*np.pi))*np.exp(-x**2/2)\n",
    "\n",
    "\n",
    "def df(x):\n",
    "    return S_0*np.sqrt(T)*dN(d1(x))\n",
    "\n",
    "\n",
    "\n",
    "def newton_raphson(x_0,conf,max_iter,g,dg):\n",
    "    x_n=x_0\n",
    "    for i in range(max_iter):\n",
    "        x_n_plus_1= x_n-g(x_n)/dg(x_n)\n",
    "        \n",
    "        if abs(x_n_plus_1-x_n)<conf:\n",
    "            return x_n_plus_1\n",
    "        x_n=x_n_plus_1\n",
    "    print(\"solution non trouvé\")\n",
    "    \n",
    "    \n",
    "sigma_prim=newton_raphson(1,conf=10**-5,max_iter=1000,g=f,dg=df)\n",
    "\n",
    "sigma_prim"
   ]
  },
  {
   "cell_type": "markdown",
   "id": "c3174f97",
   "metadata": {},
   "source": [
    "# Calcul de l'Ajusttement de Valorisation\n",
    "\n",
    "## définition de l'IPV\n",
    "\n",
    "La **vérification indépendante des prix** est un processus de plus en plus important pour soutenir les fonctions financières et de risque dans un large éventail d'institutions financières. Le processus de base de la IPV exige que les prix internes soient vérifiés par rapport à des sources tierces indépendantes.\n",
    "\n",
    "Le Prudent Valuation Guidance de Bâle II définit la Vérification Indépendante des Prix comme \"le processus par lequel les prix du marché ou les données d'entrée des modèles sont régulièrement vérifiés pour s'assurer de leur exactitude\". La vérification des prix du marché ou des données du modèle doit être effectuée par une unité indépendante de la salle des marchés, au moins une fois par mois (ou, selon la nature du marché/de l'activité de négociation, plus fréquemment)\".\n",
    "\n",
    "## Application numérique\n",
    "\n",
    "### Sensibilité\n",
    "\n",
    "Le Vega est un type de grecque qui est utilisé pour calculer la sensibilité ou le taux de variation de la valeur d'un contrat d'option par rapport à la volatilité de l'actif sous-jacent. Le Vega est désigné par la lettre $V$. Essentiellement, le vega est la dérivée partielle première de la valeur du contrat d'option par rapport à la volatilité de l'actif sous-jacent.\n",
    "\n",
    "$$V=\\frac{\\partial C(\\sigma)}{\\partial \\sigma}(\\sigma_h)=S_0\\sqrt{T}N'(d1)$$\n",
    "\n",
    "Où\n",
    "$$N'(x)=\\frac{1}{\\sqrt{2\\pi}}e^{\\frac{-x^2}{2}}$$"
   ]
  },
  {
   "cell_type": "code",
   "execution_count": 6,
   "id": "5ca81237",
   "metadata": {},
   "outputs": [
    {
     "data": {
      "text/plain": [
       "38.002942738993845"
      ]
     },
     "execution_count": 6,
     "metadata": {},
     "output_type": "execute_result"
    }
   ],
   "source": [
    "\n",
    "\n",
    "sensi=S_0*np.sqrt(T)*dN(d1(sigma_h))\n",
    "\n",
    "sensi"
   ]
  },
  {
   "cell_type": "markdown",
   "id": "a118571e",
   "metadata": {},
   "source": [
    "**Remarque :**\n",
    "\n",
    "En pratique on utilise plutot la formule suivante pour calculer la senbilité:\n",
    "\n",
    "$$sensi_{bis}=\\frac{\\partial C(\\sigma)}{\\partial \\sigma}(\\sigma_h)=\\lim\\limits_{\\delta \\sigma \\rightarrow + 0}\\frac{C(\\sigma_h + \\delta \\sigma)-C(\\sigma_h)}{\\delta \\sigma}=\\frac{C(\\sigma_h + 1BP)-C(\\sigma_h)}{1BP}$$"
   ]
  },
  {
   "cell_type": "code",
   "execution_count": 7,
   "id": "6fd127ce",
   "metadata": {},
   "outputs": [
    {
     "data": {
      "text/plain": [
       "38.00296569849593"
      ]
     },
     "execution_count": 7,
     "metadata": {},
     "output_type": "execute_result"
    }
   ],
   "source": [
    "sensi_bis=(call_ferme(sigma_h+0.0001)-call_ferme(sigma_h))/0.0001\n",
    "\n",
    "sensi_bis"
   ]
  },
  {
   "cell_type": "markdown",
   "id": "c8911fc5",
   "metadata": {},
   "source": [
    "### IPV ( sensi choc )\n",
    "----------------\n",
    "\n",
    "**Définitions :**\n",
    "\n",
    "* Dans notre contexte, la **choc** est définie comme suit :\n",
    "$$\\text{choc}=\\sigma '-\\sigma_h$$\n",
    "\n",
    "* Et on définit l'IPV comme suit :\n",
    "$$IPV=\\text{choc} . sensi = (\\sigma '-\\sigma_h).sensi$$\n",
    "\n",
    "---------------"
   ]
  },
  {
   "cell_type": "code",
   "execution_count": 8,
   "id": "ece12c58",
   "metadata": {},
   "outputs": [
    {
     "data": {
      "text/plain": [
       "-4.175421083850204"
      ]
     },
     "execution_count": 8,
     "metadata": {},
     "output_type": "execute_result"
    }
   ],
   "source": [
    "IPV=(sigma_prim-sigma_h)*sensi\n",
    "\n",
    "IPV"
   ]
  },
  {
   "cell_type": "code",
   "execution_count": 9,
   "id": "cf07e19b",
   "metadata": {},
   "outputs": [
    {
     "data": {
      "text/plain": [
       "10.000000000000206"
      ]
     },
     "execution_count": 9,
     "metadata": {},
     "output_type": "execute_result"
    }
   ],
   "source": [
    "call_ferme(sigma_prim)"
   ]
  },
  {
   "cell_type": "markdown",
   "id": "fc7fd764",
   "metadata": {},
   "source": [
    "# Ajustement de valorisation\n",
    "\n",
    "Finalement, On calcule le proxy de la **Juste Valeur** comme suit :\n",
    "\n",
    "$$\\text{Juste Valeur}=\\text{Valorisation principale}+\\text{Ajustement de valorisation (IPV)}$$"
   ]
  },
  {
   "cell_type": "code",
   "execution_count": 10,
   "id": "317f3aa3",
   "metadata": {},
   "outputs": [
    {
     "data": {
      "text/plain": [
       "9.983631013229193"
      ]
     },
     "execution_count": 10,
     "metadata": {},
     "output_type": "execute_result"
    }
   ],
   "source": [
    "fair_value=call_ferme(sigma_h)+IPV\n",
    "\n",
    "fair_value"
   ]
  },
  {
   "cell_type": "markdown",
   "id": "c1d142c0",
   "metadata": {},
   "source": [
    "-----------------\n",
    "\n",
    "**Remarque 1:**\n",
    "On retombe bien sur une valeur proche du prix sur le marché.\n",
    "\n",
    "--------------------\n",
    "\n",
    "-------------------------\n",
    "\n",
    "**Remarque 2:**\n",
    "\n",
    "On a grace au développement de Taylor-Young au point $\\sigma '$\n",
    "\n",
    "$$C(\\sigma ')\\approx C(\\sigma_h) +(\\sigma '-\\sigma_h)\\partial_{\\sigma}C(\\sigma_h)$$\n",
    "\n",
    "Donc\n",
    "\n",
    "$$C_m\\approx C(\\sigma_h) +(\\sigma '-\\sigma_h).sensi$$\n",
    "\n",
    "Donc \n",
    "\n",
    "$$C_m \\approx \\text{Juste Valeur}$$\n",
    "\n",
    "----------------------------\n",
    "\n",
    "# Conclusion\n",
    "\n",
    "----------------------\n",
    "\n",
    "**Définition :**\n",
    "\n",
    "D'après La **norme IFRS 13**, la **\"juste valeur\"** (ou \"fair value\" en anglais) se définit comme *\"le prix qui serait reçu pour la vente d'un actif ou payé pour le transfert d'un passif lors d'une transaction normale entre des participants de marché bien informés à la date d'évaluation\"*.\n",
    "\n",
    "-------------------\n",
    "**Conclusion :**\n",
    "\n",
    "D'après les remarques 1 et 2 on peut conclure que notre démarche nous permet de retrouver la Juste Valeur qui est approximativement la valeur sur le marché."
   ]
  },
  {
   "cell_type": "markdown",
   "id": "71149426",
   "metadata": {},
   "source": [
    "**************************"
   ]
  },
  {
   "cell_type": "markdown",
   "id": "9731751e",
   "metadata": {},
   "source": [
    "# Algorithme de Robbins Monro\n",
    "\n",
    "soit $f$ une fonction continue telle qu'il existe $F$ une fonction et $U$ une variable aléatoire de loi connue telles que \n",
    "\n",
    "$$f(x)=\\mathbb{E}[F(x,U)]$$\n",
    "\n",
    "Le but de l'algorithme de Robbins Monro est de trouver, presque surement, $x'$ tel que \n",
    "\n",
    "$$f(x')=\\mathbb{E}[F(x',U)]=0$$\n",
    "\n",
    "-----------------\n",
    "**Définition:**\n",
    "\n",
    "Le théoreme de Robbins Monro stipule que si on définie itérativement une suite de variables aléatoires $(X_n)_{n\\geq0}$:\n",
    "\n",
    "$$\\begin{cases}\n",
    "      X_0= x_0 & \\\\\n",
    "      X_{n+1}=X_n-\\gamma_nF(X_n,U_{n+1}) & \n",
    "    \\end{cases}$$\n",
    "    \n",
    "Où $(\\gamma_n)_{n\\geq0}$ une suite telle que $\\sum_{n\\geq0}\\gamma_n<\\infty$ et $(U_n)_{n\\geq0}$ une suite de variables aléatoires idépendantes et identiquement distribuées selon la même loi que $U$.\n",
    "\n",
    "Alors, \n",
    "$$X_n \\text{ converge presque surement vers }x'$$\n",
    "\n",
    "----------------"
   ]
  },
  {
   "cell_type": "markdown",
   "id": "b56d53d8",
   "metadata": {},
   "source": [
    "soit la suite de variable aleatoires \n",
    "$$V_i=e^{-rT}(S_T-K)_{+}=e^{-rT}\\left(S_0exp\\left\\{(r-\\frac{\\sigma^2}{2})T+\\sigma \\sqrt{T}G_i\\right\\}-K\\right)_{+}=H(\\sigma,G_i)$$\n",
    "\n",
    "\n",
    "Alors\n",
    "\n",
    "$$M_n=\\frac{V_0+....+V_n}{n} \\text{, alors, $M_n$ converge présque surement vers } C \\text{ le prix d'un call}$$\n",
    "\n",
    "J'ai avec $\\gamma_n=\\frac{1}{n+1}$\n",
    "\n",
    "$$M_{n+1} = M_n -\\gamma_n \\left(M_n - V_{n+1}\\right)=M_n -\\gamma_n \\left(M_n - H(\\sigma,G_{n+1})\\right)= M_n -\\gamma_n F \\left(M_n , G_{n+1}\\right)$$\n",
    "\n",
    "En effet,\n",
    "\n",
    "$$\\begin{align*}\n",
    "M_{n+1}-M_n&=\\frac{n\\sum_{i=1}^{n+1}V_i-(n+1)\\sum_{i=1}^nV_i}{n(n+1)}&\\\\\n",
    "\\\\\n",
    "&=\\frac{V_{n+1}}{n+1}-\\frac{M_n}{n+1}&\\\\\n",
    "\\\\\n",
    "&=-\\gamma_n(M_n-V_{n+1})\\\\\n",
    "\\\\\n",
    "&= -\\gamma_n F \\left(M_n , G_{n+1}\\right)\\\\\n",
    "\\\\\n",
    "\\end{align*}$$\n",
    "\n",
    "Soit $f(x)=x-C$  et $x'$ tel que $f(x')=x'-C=0$ et $G$ une gaussienne centrée réduite, donc $\\mathbb{E}[G]=0$ et $Var[G]=1$.\n",
    "\n",
    "\n",
    "\n",
    "Finalement je trouve que,\n",
    "\n",
    "$$f(x)=\\mathbb{E}[F(x,G)]=x-C$$\n"
   ]
  },
  {
   "cell_type": "code",
   "execution_count": null,
   "id": "308d748b",
   "metadata": {},
   "outputs": [],
   "source": []
  },
  {
   "cell_type": "code",
   "execution_count": 169,
   "id": "b1a81e40",
   "metadata": {},
   "outputs": [
    {
     "name": "stderr",
     "output_type": "stream",
     "text": [
      "C:\\Users\\oessadde040723\\AppData\\Local\\Temp\\ipykernel_12892\\2268543903.py:10: RuntimeWarning: divide by zero encountered in scalar divide\n",
      "  return (1/(x*np.sqrt(T)))*(np.log(S_0/K)+(r+0.5*x**2)*T)\n"
     ]
    },
    {
     "data": {
      "image/png": "[encoded data removed]",
      "text/plain": [
       "<Figure size 640x480 with 1 Axes>"
      ]
     },
     "metadata": {},
     "output_type": "display_data"
    },
    {
     "name": "stdout",
     "output_type": "stream",
     "text": [
      "0.18060680134045023\n"
     ]
    }
   ],
   "source": [
    "MAX=5\n",
    "n=100000\n",
    "beta=1\n",
    "c=1\n",
    "\n",
    "def gamma(n):\n",
    "    return c/(n+1)**beta\n",
    "\n",
    "def Theta(n):\n",
    "    return 1/np.sqrt(n)\n",
    "\n",
    "def algorithme_rm(x_0,n,F,G):\n",
    "    X=np.zeros(n)\n",
    "    X[0]=x_0\n",
    "    for i in range(0,n-1):\n",
    "        X[i+1]=X[i]-gamma(i)*F(X[i],G[i+1])\n",
    "    return X\n",
    "    \n",
    "\n",
    "def algorithme_rm_chen(x_0,MAX,n,F,G):\n",
    "    X=np.zeros(n);\n",
    "    X[0] = x_0;\n",
    "    for i in range(n-1):\n",
    "        X[i+1]=X[i]-gamma(i)*F(X[i],G[i+1])\n",
    "        if(abs(X[i+1]) >= MAX): \n",
    "            X[i+1]=0 \n",
    "    return X\n",
    "    \n",
    "\n",
    "\n",
    "    \n",
    "def F_BS(x,U):\n",
    "    return np.exp(-r*T)*max(S_0*np.exp((r-0.5*x**2)*T+x*np.sqrt(T)*U)-K,0)-C_m\n",
    "\n",
    "\n",
    "def FP(x,g):\n",
    "    u=0\n",
    "    v=0\n",
    "    if g<=d1(x): \n",
    "        u=S_0\n",
    "    else:\n",
    "        u=0\n",
    "    if g<=d2(x):\n",
    "        v=K*np.exp(-r*T)\n",
    "    else:\n",
    "        v=0\n",
    "    return u-v-C_m\n",
    "        \n",
    "        \n",
    "        \n",
    "G1=np.random.normal(size=n)\n",
    "G2=np.random.normal(size=n)\n",
    "\n",
    "\n",
    "Y1=algorithme_rm_chen(sigma_prim,sigma_prim*2.6,n,FP,G1)\n",
    "Y2=algorithme_rm_chen(sigma_prim,sigma_prim*2.6,n,F_BS,G2)\n",
    "\n",
    "plt.plot(Y1,'red')\n",
    "plt.plot(Y2,'black')\n",
    "plt.plot([sigma_prim for i in range(n)],'green')\n",
    "plt.show()\n",
    "\n",
    "sigma_prim=Y1[-1]\n",
    "print(sigma_prim)"
   ]
  },
  {
   "cell_type": "markdown",
   "id": "2976f9e3",
   "metadata": {},
   "source": [
    "# Optimisation du paramètre d'une fonction d'importance\\n\",\n",
    "On veut calculer $\\mathbb{E}(f(G))$. Avec $\\frac{d\\mathbb{Q}}{d\\mathbb{P}}=e^{-\\lambda G - \\frac{\\lambda^2}{2}}$, on a,\n",
    "$$\\mathbb{E}\\left\\{e^{-\\lambda G - \\frac{\\lambda^2}{2}} f(G+\\lambda)\\right\\}= \\mathbb{E}^{\\mathbb{Q}}\\left\\{f(G+\\lambda)\\right\\}=\\mathbb{E}\\left\\{f(G)\\right\\}=\\mathbb{E}\\left\\{V\\right\\}=C$$,\n",
    "\n",
    "\n",
    "On cherche a minimiser en $\\lambda$ la variance de ,\n",
    "        $$X_\\lambda = e^{-\\lambda G - \\frac{\\lambda^2}{2}} f(G+\\lambda)$$\n",
    "\n",
    "***************\n",
    "**Proposition :**\n",
    "        $$Var\\left\\{X_\\lambda\\right\\}= \\mathbb{E}\\left\\{e^{-\\lambda G + \\frac{\\lambda^2}{2}} f^2(G)\\right\\} - \\mathbb{E}{f(G)}^2$$,\n",
    "***************\n",
    "On a,\n",
    "$$\\begin{align*}\n",
    "        Var\\{X_{\\lambda}\\}&=\\mathbb{E}\\left\\{(e^{-\\lambda G - \\frac{\\lambda^2}{2}} f(G+\\lambda))^2\\right\\}-\\mathbb{E}\\{f(G)\\}^2\\\\\n",
    "&=\\mathbb{E}\\left\\{e^{-\\lambda G - \\frac{\\lambda^2}{2}} g(G+\\lambda)\\right\\}-\\mathbb{E}\\{f(G)\\}^2\\\\\n",
    "&=\\mathbb{E}\\left\\{g(G)\\right\\}-\\mathbb{E}\\{f(G)\\}^2\n",
    "\\end{align*}$$\n",
    "\n",
    "Avec $g(x)=e^{-\\lambda x+\\frac{\\lambda^2}{2}}f^2(x)$,\n",
    "\n",
    "On traitera le cas du call dans le modèle de Black et Scholes avec les paramètres suivants\\n\",\n",
    "        $r=r_{mkt}$, $\\sigma=\\sigma'/\\mbox{an}$, $S_0=x=100$, $T=1$.\""
   ]
  },
  {
   "cell_type": "code",
   "execution_count": null,
   "id": "86c987c4",
   "metadata": {},
   "outputs": [],
   "source": []
  },
  {
   "cell_type": "code",
   "execution_count": 115,
   "id": "48c21e92",
   "metadata": {},
   "outputs": [],
   "source": [
    "from math import exp\n",
    "import math\n",
    "# r=0.02\n",
    "sigma=sigma_prim\n",
    "T=1\n",
    "x=100\n",
    "K=100\n",
    "n=1000\n",
    "N=100\n",
    "def f1(g):\n",
    "    d=np.size(g);\n",
    "    S_T=np.zeros(d);\n",
    "    S_T= x * np.exp((r - sigma*sigma/2)*T*np.ones(d)+sigma*np.sqrt(T)*g);\n",
    "    return(math.exp(-r*T)*np.maximum(S_T-K*np.ones(np.size(S_T)),np.zeros(np.size(S_T))));\n",
    "\n",
    "def f(g):\n",
    "    if(isinstance(g,float) or isinstance(g,int)):\n",
    "        ST=0;\n",
    "        ST=float( x * exp((r - sigma*sigma/2)*T+sigma*math.sqrt(T)*g));\n",
    "        return(exp(-r*T)*max(ST-K,0))\n",
    "    else:\n",
    "        d=np.size(g)\n",
    "        S_T=np.zeros(d)\n",
    "        S_T= x * np.exp((r - sigma*sigma/2)*T*np.ones(d)+sigma*np.sqrt(T)*g)\n",
    "        return(math.exp(-r*T)*np.maximum(S_T-K*np.ones(np.size(S_T)),np.zeros(np.size(S_T))))\n",
    "\n",
    "\n",
    "def F_B(x,U):\n",
    "    return np.exp(-r*T)*max(S_0*np.exp((r-0.5*x**2)*T+x*np.sqrt(T)*U)-K,0)\n",
    "\n",
    "\n",
    "# print(f(3))\n",
    "\n",
    "def approx_variance(Lambda,G):\n",
    "    # ATTENTION: G est un vecteur echantillon de gaussiennes\n",
    "    return(np.mean(np.exp(-Lambda*G+0.5*Lambda**2)*f(G)**2)-(np.mean(f(G))**2))  \n",
    "\n"
   ]
  },
  {
   "cell_type": "code",
   "execution_count": 116,
   "id": "67f8c197",
   "metadata": {},
   "outputs": [
    {
     "data": {
      "image/png": "[encoded data removed]",
      "text/plain": [
       "<Figure size 640x480 with 1 Axes>"
      ]
     },
     "metadata": {},
     "output_type": "display_data"
    }
   ],
   "source": [
    "Lambda = np.linspace(0,2.6,1000)\n",
    "z=np.zeros(np.size(Lambda));\n",
    "G=np.random.normal(size=n);\n",
    "mean=np.zeros(np.size(Lambda))\n",
    "for j in range(N):\n",
    "    G=np.random.normal(size=n);\n",
    "    z=np.zeros(np.size(Lambda));\n",
    "    for i in range(np.size(Lambda)):\n",
    "        z[i]=approx_variance(Lambda[i],G);\n",
    "        mean[i]=mean[i]-1/(j+1)*(mean[i]-z[i])\n",
    "# plt.plot(Lambda,z,'red');\n",
    "plt.plot(Lambda,mean,'black');"
   ]
  },
  {
   "cell_type": "markdown",
   "id": "05ce6aad",
   "metadata": {},
   "source": [
    "**Proposition :** *la dérivée peut s'écrire sous les deux formes suivantes*\\n,\n",
    "$$\\frac{\\partial}{\\partial \\lambda}Var\\left(X_\\lambda\\right)\n",
    "           =  \\mathbb{E}\\left\\{(\\lambda - G)e^{-\\lambda G + \\frac{\\lambda^2}{2}} f^2(G)\\right\\}\n",
    "           =  - \\mathbb{E}\\left\\{ G e^{-2\\lambda G - \\lambda^2} f^2(G+\\lambda)\\right\\}$$\n",
    "On a\n",
    "$$\\begin{align*}\n",
    "\\frac{\\partial}{\\partial \\lambda}Var\\left(X_\\lambda\\right)&= \\frac{\\partial}{\\partial \\lambda}\\mathbb{E}\\left\\{e^{-\\lambda G+\\frac{\\lambda^2}{2}}f^2(G)\\right\\}=\\mathbb{E}\\left\\{(\\lambda - G)e^{-\\lambda G + \\frac{\\lambda^2}{2}} f^2(G)\\right\\}\n",
    "\\end{align*}$$,\n",
    "D'autre part, avec $h(x)=(\\lambda - x)e^{-\\lambda G + \\frac{\\lambda^2}{2}} f^2(x)$,\n",
    "$$\\begin{align*},\n",
    "\\mathbb{E}\\left\\{(\\lambda - G)e^{-\\lambda G + \\frac{\\lambda^2}{2}} f^2(G)\\right\\}&= \\mathbb{E}\\left\\{h(G)\\right\\}\\\\\n",
    "&=\\mathbb{E}\\left\\{e^{-\\lambda G - \\frac{\\lambda^2}{2}} h(G+\\lambda)\\right\\}\\\\\n",
    "&= - \\mathbb{E}\\left\\{ G e^{-2\\lambda G - \\lambda^2} f^2(G+\\lambda)\\right\\}\n",
    "\\end{align*}$$\n",
    "\n",
    "On vérifie ce fait par simulation en tracant les deux approximationsn Monte-Carlo de la dérivées."
   ]
  },
  {
   "cell_type": "markdown",
   "id": "af431d2b",
   "metadata": {},
   "source": [
    "On chercher à résoudre $\\frac{\\partial}{\\partial \\lambda}Var\\left(X_\\lambda \\right)=0$ en utilisant la première représentation de la dérivée. \\n\",\n",
    "\n",
    "On prendra $K=200$.\n",
    "\n",
    "Pour cela, on pose $X_0=0$, puis,\n",
    "$$X_{n+1}=X_n-\\gamma_n (X_n - G_{n+1})e^{-X_n G_{n+1} + \\frac{X_n^2}{2}} f^2(G_{n+1})$$,\n",
    "Ou bien,\n",
    "\n",
    "$$X_{n+1}=X_n +\\gamma_n G_{n+1} e^{-2X_n G_{n+1} - X_n^2} f^2(G_{n+1}+X_n)$$\n",
    "\n",
    "\n",
    "On remarque alors que l'algorithme ne converge pas, $f$ n'est pas continue ?\n",
    "\n",
    "On implémente cet algorithme en ramenant  $X_n$ une valeur initiale commune lorsque $X_n$ dépasse la valeur de  5  (procédure dite de *projection de Chen*). On peut voir que l'algorithme converge"
   ]
  },
  {
   "cell_type": "code",
   "execution_count": 14,
   "id": "8f52ef39",
   "metadata": {},
   "outputs": [
    {
     "data": {
      "image/png": "[encoded data removed]",
      "text/plain": [
       "<Figure size 640x480 with 1 Axes>"
      ]
     },
     "metadata": {},
     "output_type": "display_data"
    }
   ],
   "source": [
    "def approx_1_derivee_variance(Lambda):\n",
    "    #G=np.random.normal(size=2000)\n",
    "    Y=(Lambda-G)*np.exp(-Lambda*G+Lambda**2*0.5)*f(G)**2\n",
    "    return np.mean(Y);\n",
    "\n",
    "def approx_2_derivee_variance(Lambda):\n",
    "    #G=np.random.normal(size=2000)\n",
    "    Y=-G*np.exp(-2*Lambda*G-Lambda**2)*f(G+Lambda)**2\n",
    "    return np.mean(Y);\n",
    "\n",
    "\n",
    "K=100;\n",
    "Lambda=np.linspace(0,3,n)\n",
    "z1=np.zeros(np.size(Lambda));\n",
    "z2=np.zeros(np.size(Lambda));\n",
    "G=np.random.normal(size=n);\n",
    "mean=np.zeros(np.size(Lambda))\n",
    "for i in range(np.size(Lambda)):\n",
    "    z1[i]=approx_1_derivee_variance(Lambda[i]);\n",
    "    z2[i]=approx_2_derivee_variance(Lambda[i]);\n",
    "plt.plot(Lambda,z1,'red');\n",
    "plt.plot(Lambda,z2,'black');"
   ]
  },
  {
   "cell_type": "code",
   "execution_count": 15,
   "id": "5edee5ad",
   "metadata": {},
   "outputs": [
    {
     "data": {
      "image/png": "[encoded data removed]",
      "text/plain": [
       "<Figure size 640x480 with 1 Axes>"
      ]
     },
     "metadata": {},
     "output_type": "display_data"
    }
   ],
   "source": [
    "\n",
    "z=np.zeros(1000);\n",
    "for i in range(1000):\n",
    "    G=np.random.normal(size=n);\n",
    "    X=algorithme_rm_chen(0.1,MAX,n,F_BS,G)\n",
    "#     X=algorithme_rm(x_0,n,C,Beta,F1,G)\n",
    "    z[i]=X[-1]\n",
    "    \n",
    "# La densité gaussienne de référence\n",
    "x = np.linspace(-1,1,100)\n",
    "densiteGaussienne = 1./(0.05*np.sqrt(2*np.pi))*np.exp(-0.5*((x-sigma_prim)/0.05)**2)\n",
    "plt.plot(x, densiteGaussienne,color='black', label=\"densite gaussienne\")\n",
    "plt.legend(loc=\"best\")\n",
    "\n",
    "plt.hist(z, color=\"red\", density=\"True\", bins=100, label=\"erreur normalisee\");"
   ]
  },
  {
   "cell_type": "markdown",
   "id": "46bee18b",
   "metadata": {},
   "source": [
    "# Playing around\n",
    "\n",
    "## 1 \n",
    "On suppose que le prix $S_t$ d'une action A suit la dynamique suivante:\n",
    " \n",
    "$$dS_t=rS_t+\\sigma dB_t$$\n",
    "\n",
    "\n",
    "\n",
    "On alors avec $d_t=1/n$ et $\\theta_n=\\frac{1}{\\sqrt{n}}$\n",
    "$$S_{n+1}-S_{n}=-\\theta_nB(S_n,G_{n+1})$$\n",
    "avec\n",
    "$$B(S_n,G_{n+1})=-S_nnr-\\sigma \\frac{n}{\\sqrt{n}} G_{n+1}$$\n",
    "\n"
   ]
  },
  {
   "cell_type": "code",
   "execution_count": 98,
   "id": "69fa3b24",
   "metadata": {},
   "outputs": [],
   "source": [
    "def algorithme_rm_chen_martingal(x_0,MAX,t,F,G):\n",
    "    X=np.zeros(t);\n",
    "    X[0] = x_0;\n",
    "    for i in range(1,t-1):\n",
    "        X[i+1]=X[i]-gamma(i)*F(X[i],G[i],i)\n",
    "        if(abs(X[i+1]) >= MAX): \n",
    "            X[i+1]=0\n",
    "    return X\n"
   ]
  },
  {
   "cell_type": "code",
   "execution_count": 401,
   "id": "afd5dd9a",
   "metadata": {},
   "outputs": [
    {
     "data": {
      "image/png": "[encoded data removed]",
      "text/plain": [
       "<Figure size 640x400 with 1 Axes>"
      ]
     },
     "metadata": {},
     "output_type": "display_data"
    },
    {
     "data": {
      "image/png": "[encoded data removed]",
      "text/plain": [
       "<Figure size 640x400 with 1 Axes>"
      ]
     },
     "metadata": {},
     "output_type": "display_data"
    }
   ],
   "source": [
    "n=10000\n",
    "\n",
    "\n",
    "def F(x,U,n):\n",
    "    return x*r/n+sigma_prim*1*np.sqrt(n)*U\n",
    "\n",
    "\n",
    "def Bi(x,U,n):\n",
    "    return x*r*1+sigma_prim*U\n",
    "\n",
    "\n",
    "def B(x,u,i):\n",
    "    return -x*r*i-sigma_prim*np.sqrt(i)*u\n",
    "\n",
    "G=np.random.normal(size=n)\n",
    "\n",
    "def algorithme_rm_chen_Price(x_0,MAX,n,F,G):\n",
    "    X=np.zeros(n);\n",
    "    X[0] = x_0;\n",
    "    for i in range(1,n-1):\n",
    "        X[i+1]=X[i]-gamma(i)*F(X[i],G[i],i)\n",
    "        if(abs(X[i+1]) >= MAX): \n",
    "            X[i+1]=0\n",
    "    return X\n",
    "\n",
    "\n",
    "target=10\n",
    "G=np.random.normal(size=2*n)\n",
    "G2=np.random.normal(size=2*n)\n",
    "Y=algorithme_rm_chen_martingal(0,2.5*S_0,2*n,F,G)\n",
    "u=algorithme_rm_chen_martingal(0,2.5*S_0,2*n,F,G)\n",
    "Z=[x for x in reversed(u)]\n",
    "plt.figure().set_figheight(4)\n",
    "plt.plot(Y,'red',Z,'black')\n",
    "#plt.plot(Z,'black')\n",
    "plt.show()\n",
    "\n",
    "n=699\n",
    "cible =S_0\n",
    "N=int(2*n)\n",
    "# G=np.random.normal(size=N)\n",
    "Y=algorithme_rm_chen_martingal(cible,cible*6.6,N,B,G)\n",
    "f=max(Y)\n",
    "U=[y/f for y in Y]\n",
    "#plt.figure().set_figwidth(4)#(figsize=(6,6))\n",
    "plt.figure().set_figheight(4)\n",
    "plt.plot(Y,'red')\n",
    "plt.show()"
   ]
  },
  {
   "cell_type": "code",
   "execution_count": null,
   "id": "4827aed5",
   "metadata": {},
   "outputs": [],
   "source": []
  },
  {
   "cell_type": "code",
   "execution_count": null,
   "id": "3b58d09d",
   "metadata": {},
   "outputs": [],
   "source": []
  },
  {
   "cell_type": "markdown",
   "id": "c0e305c0",
   "metadata": {},
   "source": [
    "## 2\n",
    "\n",
    "Sinon si on prends le modele de black scholes\n",
    "$$dS_t=S_t\\left(rdt+\\sigma dB_t\\right)$$\n",
    "Donc \n",
    "$$S_{n+1}-S_{n}=-\\theta_nB(S_n,G_{n+1})$$\n",
    "avec\n",
    "$$B(S_n,G_{n+1})=\\frac{S_n}{n}\\left(r+\\sigma \\sqrt{n} G_{n+1}\\right)$$\n",
    "et si on fixe $n=N (\\text{ maturité } T)$ et on prends\n",
    "$$B(S_n,G_{n+1})=\\frac{S_n}{N}\\left(r+\\sigma \\sqrt{N} G_{n+1}\\right)$$\n",
    "\n",
    "On trouve le processus suivant :"
   ]
  },
  {
   "cell_type": "code",
   "execution_count": 316,
   "id": "da5d9a35",
   "metadata": {},
   "outputs": [
    {
     "data": {
      "text/plain": [
       "[<matplotlib.lines.Line2D at 0x25406a48a60>]"
      ]
     },
     "execution_count": 316,
     "metadata": {},
     "output_type": "execute_result"
    },
    {
     "data": {
      "image/png": "[encoded data removed]",
      "text/plain": [
       "<Figure size 640x480 with 1 Axes>"
      ]
     },
     "metadata": {},
     "output_type": "display_data"
    }
   ],
   "source": [
    "def B(x,u):\n",
    "    return x*(r/n+sigma_prim/n*np.sqrt(n)*u)\n",
    "\n",
    "\n",
    "G=np.random.normal(size=n)\n",
    "\n",
    "\n",
    "cible =666\n",
    "Y=algorithme_rm_chen(cible,cible*6.6,n,B,G)\n",
    "plt.plot(Y,'red')"
   ]
  },
  {
   "cell_type": "code",
   "execution_count": 321,
   "id": "21692fbb",
   "metadata": {},
   "outputs": [
    {
     "data": {
      "text/plain": [
       "[<matplotlib.lines.Line2D at 0x25407c59550>]"
      ]
     },
     "execution_count": 321,
     "metadata": {},
     "output_type": "execute_result"
    },
    {
     "data": {
      "image/png": "[encoded data removed]",
      "text/plain": [
       "<Figure size 640x480 with 1 Axes>"
      ]
     },
     "metadata": {},
     "output_type": "display_data"
    }
   ],
   "source": [
    "def B(x,U):\n",
    "    return x*r/n+sigma*1/np.sqrt(n)*U\n",
    "\n",
    "cible=6\n",
    "G=np.random.normal(size=n)\n",
    "\n",
    "Y=algorithme_rm_chen(cible,cible*6,n,B,G)\n",
    "\n",
    "plt.plot(Y,'red')"
   ]
  },
  {
   "cell_type": "markdown",
   "id": "7bbd0dfc",
   "metadata": {},
   "source": [
    "# END "
   ]
  },
  {
   "cell_type": "code",
   "execution_count": null,
   "id": "92ad9e9d",
   "metadata": {},
   "outputs": [],
   "source": []
  },
  {
   "cell_type": "code",
   "execution_count": null,
   "id": "481bb527",
   "metadata": {},
   "outputs": [],
   "source": []
  },
  {
   "cell_type": "code",
   "execution_count": null,
   "id": "8e1e8462",
   "metadata": {},
   "outputs": [],
   "source": []
  },
  {
   "cell_type": "code",
   "execution_count": null,
   "id": "fcd1030e",
   "metadata": {},
   "outputs": [],
   "source": []
  },
  {
   "cell_type": "code",
   "execution_count": null,
   "id": "4f4553fc",
   "metadata": {},
   "outputs": [],
   "source": []
  },
  {
   "cell_type": "code",
   "execution_count": null,
   "id": "838bba4e",
   "metadata": {},
   "outputs": [],
   "source": []
  },
  {
   "cell_type": "code",
   "execution_count": null,
   "id": "616bdc07",
   "metadata": {},
   "outputs": [],
   "source": []
  },
  {
   "cell_type": "code",
   "execution_count": null,
   "id": "ba7df014",
   "metadata": {},
   "outputs": [],
   "source": []
  },
  {
   "cell_type": "code",
   "execution_count": null,
   "id": "290c4394",
   "metadata": {},
   "outputs": [],
   "source": []
  },
  {
   "cell_type": "code",
   "execution_count": null,
   "id": "d348512a",
   "metadata": {},
   "outputs": [],
   "source": []
  },
  {
   "cell_type": "markdown",
   "id": "a2b8a40c",
   "metadata": {},
   "source": [
    "# Modèle de Black and Scholes et Ajustement de Valorisation stochastique\n",
    "\n",
    "## Modèle de black scholes \n",
    "\n",
    "### Méthode Monte Carlo \n",
    "Soit \n",
    "$$S_t=\\frac{1}{r}\\sigma dB_t-\\frac{1}{r}dS_t$$\n",
    "\n",
    "On suppose que le prix $S_t$ d'une action A suit la dynamique suivante:\n",
    "\n",
    "$$dS_t=S_t\\left(rdt+\\sigma dB_t\\right)$$\n",
    "\n",
    "Où\n",
    "\n",
    "$$X_t=ln(S_t)$$\n",
    "\n",
    "donc\n",
    "\n",
    "$$dX_t=(r-\\frac{\\sigma^2}{2})dt+\\sigma dB_t$$\n",
    "\n",
    "\n",
    "\n",
    "\n",
    "\n",
    "\n",
    "\n",
    "\n",
    "\n",
    "\n",
    "\n",
    "\n",
    "Soit $Y_t=exp(-rt+X_t)=exp(-rt)S_t$\n",
    "donc,\n",
    "\n",
    "$$dY_t=X_tY_tdt+Y_tdX_t+\\frac{1}{2}\\sigma^2Y_tdt=Y_t(r-\\frac{\\sigma^2}{2}dt+\\sigma dB_t)+\\frac{1}{2}\\sigma^2Y_tdt=X_tY_tdt+Y_t\\left(rdt+\\sigma dB_t\\right)$$\n",
    "\n",
    "donc\n",
    "\n",
    "$$dY_t=X_tY_tdt+exp(-rt)dS_t=exp(-rt)(S_tln(S_t)+dS_t)$$\n",
    "\n",
    "\n",
    "On a alors,$$X_{n+1}-X_{n}=(r-\\frac{\\sigma^2}{2})\\frac{1}{n}+\\sigma \\frac{1}{\\sqrt{n}}G=-\\theta_nB(S_n,G_{n+1})$$\n",
    "\n",
    "\n",
    "\n",
    "\n",
    "\n",
    "\n",
    "\n",
    "\n",
    "\n",
    "$$\\begin{cases}\n",
    "      r= 5\\text{% : taux d'actualisation} & \\\\\n",
    "      \\sigma \\text{ : la volatilité} & \\\\\n",
    "      B_t \\text{ : Un mouvement brownien standard, } B_t \\sim \\mathcal{N}(0,\\,t) &\n",
    "    \\end{cases}$$\n",
    "\n",
    "la solution de cette EDS est la diffusion suivante $\\forall t\\geq 0$ et $\\sigma \\in [0,1]$:\n",
    "\n",
    "$$S_t(\\sigma)=S_0exp\\left\\{(r-\\frac{\\sigma^2}{2})t+\\sigma B_t\\right\\}=S_0exp\\left\\{(r-\\frac{\\sigma^2}{2})t+\\sigma \\sqrt{t} G\\right\\}$$\n",
    "\n",
    "On définit alors le prix d'un call europeen dont le sous jacent est A de la maniere suivante:\n",
    "\n",
    "$$C(\\sigma)=\\mathbb{E}\\left[e^{-rT}(S_T(\\sigma)-K)_+\\right]=\\mathbb{E}\\left[\\mathbb{1}_{e^{-rT}(S_T(\\sigma)-K)>0}e^{-rT}(S_T(\\sigma)-K)\\right]$$\n",
    "\n",
    "\n",
    "On a $\\forall t>0$\n",
    "\n",
    "$$e^{-rT}(S_T(\\sigma)-K)>0 \\iff S_0exp\\left\\{(r-\\frac{\\sigma^2}{2})T+\\sigma B_T\\right\\}>0$$\n",
    "\n",
    "$$\\iff S_0exp\\left\\{(r-\\frac{\\sigma^2}{2})T+\\sigma B_T\\right\\}>0$$\n",
    "\n",
    "On a aussi avec $d_t=1/n$ et $\\theta_n=\\frac{1}{\\sqrt{n}}$\n",
    "$$S_{n+1}-S_{n}=-\\theta_nB(S_n,G_{n+1})$$\n",
    "avec\n",
    "$$B(S_n,G_{n+1})=\\frac{S_n}{n}\\left(r+\\sigma \\sqrt{n} G\\right)$$\n",
    "\n",
    "soit la suite de variable aleatoires \n",
    "$$V_i=(S_T-K)_{+}=\\left(S_0exp\\left\\{(r-\\frac{\\sigma^2}{2})T+\\sigma \\sqrt{T}G_i\\right\\}-K\\right)_{+}$$\n",
    "avec\n",
    "$$t_i=\\frac{i}{n} \\text{  pour 0$\\leq$ i$\\leq$ n}$$\n",
    "\n",
    "Soit\n",
    "$$M_n=\\frac{V_0+....+V_n}{n} \\text{, alors, $M_n$ converge présque surement vers } C \\text{ le prix d'un call}$$\n",
    "\n",
    "On a avec $\\gamma_n=\\frac{1}{n+1}$\n",
    "\n",
    "$$M_{n+1} = M_n -\\gamma_n \\left(M_n - V_{n+1}\\right)= M_n -\\gamma_n F \\left(M_n , V_{n+1}\\right)$$\n",
    "En effet,\n",
    "\n",
    "$$\\begin{align*}\n",
    "M_{n+1}-M_n&=\\frac{n\\sum_{i=1}^{n+1}V_i-(n+1)\\sum_{i=1}^nG_i}{n(n+1)}&\\\\\n",
    "&=\\frac{V_{n+1}}{n+1}-\\frac{M_n}{n+1}&\\\\\n",
    "&=-\\gamma_n(M_n-V_{n+1})\n",
    "\\end{align*}$$\n",
    "\n",
    "Soit $f(x)=x-C$  et $x'$ tel que $f(x')=x'-C=0$ et $G$ une gaussienne centrée réduite, donc $\\mathbb{E}[G]=0$ et $Var[G]=1$.\n",
    "\n",
    "On a alors avec $F(x,G)=x-H(\\sigma,G)$\n",
    "\n",
    "avec\n",
    "\n",
    "$$F(\\sigma,G)=e^{-rT}\\left(S_0exp\\left\\{(r-\\frac{\\sigma^2}{2})T+\\sigma \\sqrt{T}G\\right\\}-K\\right)_+$$\n",
    "donc\n",
    "\n",
    "$$f(x)=\\mathbb{E}[F(x,G)]=x-C$$\n"
   ]
  },
  {
   "cell_type": "code",
   "execution_count": null,
   "id": "188843ef",
   "metadata": {},
   "outputs": [],
   "source": []
  },
  {
   "cell_type": "code",
   "execution_count": null,
   "id": "aa780fcf",
   "metadata": {},
   "outputs": [],
   "source": []
  },
  {
   "cell_type": "code",
   "execution_count": 412,
   "id": "655f2abb",
   "metadata": {},
   "outputs": [
    {
     "data": {
      "image/png": "[encoded data removed]",
      "text/plain": [
       "<Figure size 640x480 with 1 Axes>"
      ]
     },
     "metadata": {},
     "output_type": "display_data"
    },
    {
     "data": {
      "image/png": "[encoded data removed]",
      "text/plain": [
       "<Figure size 640x480 with 1 Axes>"
      ]
     },
     "metadata": {},
     "output_type": "display_data"
    }
   ],
   "source": [
    "c_=np.linspace(0,1,1000)\n",
    "Varc=[]\n",
    "espc=[]\n",
    "Gh=np.random.normal(size=6000)\n",
    "for c in (c_):\n",
    "    #Gh=np.random.normal(size=6000) Meme alogo mais differents c\n",
    "    Xh=algorithme_rm_chen(sigma_prim,sigma_prim*2.6,n,F_BS,G2)#algorithme_rm_hyper(x_0,n,h,F1,Gh)\n",
    "    Xtr=Xh[int(len(Xh)/2):len(Xh)]\n",
    "    Varc.append(np.var(Xtr))\n",
    "    espc.append(np.mean(Xtr))\n",
    "    \n",
    "plt.plot(c_,Varc,'black',label=\"C\")\n",
    "plt.show()\n",
    "#plt.legend(loc=\"best\")\n",
    "plt.plot(c_,espc,'green')\n",
    "plt.show()"
   ]
  },
  {
   "cell_type": "code",
   "execution_count": null,
   "id": "eb7deac2",
   "metadata": {},
   "outputs": [],
   "source": []
  },
  {
   "cell_type": "code",
   "execution_count": null,
   "id": "5239eb6d",
   "metadata": {},
   "outputs": [],
   "source": []
  },
  {
   "cell_type": "markdown",
   "id": "f639ccd3",
   "metadata": {},
   "source": [
    "**Théorème:**(Loi des grands nombres pour les martingale)\n",
    "\n",
    "Soit $(S_n)_{n\\geq0}$ une martingale de carrée integrable, on a alors:\n",
    "\n",
    " +*Sur* $\\langle S\\rangle_\\infty:=\\lim_{n\\rightarrow \\infty}\\langle S\\rangle_n<\\infty$ $S_n$ *converge présque surement vers une variable :$S_\\infty$,\n",
    "\n",
    "+*Sur* $\\{\\langle S\\rangle_\\infty=\\infty\\}$\n",
    "          $$\\lim_{n\\rightarrow\\infty}\\frac{S_n}{\\langle S\\rangle_n}=0 \\text{ , p.s}$$\n",
    "\n",
    "En plus, si $a(t)$ est une fonction positive, croissante telle que \n",
    "\n",
    "$\\int_0^{\\infty}\\frac{dt}{1+a(t)}<\\infty$, \n",
    "alors,\n",
    "       $$\\lim_{n\\rightarrow \\infty}\\frac{S_n}{\\sqrt{a(\\langle S\\rangle_n)}}=0\\text{ , p.s}$$\n",
    "       \n",
    "\n",
    "**Proposition:** Avec les même notations, on pose $S_0=0$ et $S_n=nM_n, \\forall n >0$, alors $(S_n)_{n\\geq0}$ est une martingale,et $\\langle S\\rangle_n=n$\n",
    "\n",
    "On a\n",
    "\n",
    "$$\\begin{align*}\n",
    "        \\mathbb{E}\\left\\{S_{n+1}\\mid\\mathcal{F}_n\\right\\}&=\\mathbb{E}\\left\\{V_1+...+V_V+V_{n+1}\\mid\\mathcal{F}_n\\right\\}\\\\\n",
    " &=V_1+...+V_n+C=S_n+C\n",
    " \\end{align*}$$\n",
    " \n",
    "\n",
    "Donc $(S_n)_{n\\\\geq0}$ est une martingale, en plus $\\langle S\\rangle_0=0$, et $\\forall n>0$\n",
    "\n",
    "\n",
    "Avec $g(x)=e^{-\\lambda x+\\frac{\\lambda^2}{2}}f^2(x)$,\n",
    "\n",
    "$$\\langle S\\rangle_{n+1}-\\langle S\\rangle_n=\\mathbb{E}\\left\\{(S_{n+1}-S_n)^2\\mid\\mathcal{F}_n\\right\\}=Var\\{V_{n+1}\\}=\\mathbb{E}\\left\\{g(G)\\right\\}-\\mathbb{E}\\{f(G)\\}^2$$\n",
    "\n",
    "Donc\n",
    "\n",
    "\n",
    "$$\\langle S\\rangle_n=\\sum_{k=0}^{n-1}\\langle S\\rangle_{k+1}-\\langle S\\rangle_k=n\\left(\\mathbb{E}\\left\\{g(G)\\right\\}-\\mathbb{E}\\{f(G)\\}^2\\right)$$\n",
    "\n",
    "\n",
    "\n",
    "Donc $\\langle S\\rangle_\\infty=\\infty$, et en utilisant le théorème précédant on retrouve la loi forte des grands nombre. \\n\",\n",
    "\n",
    "On a alors\n",
    "$$\\lim_{n\\rightarrow\\infty}\\frac{V_1+...+V_n}{n\\left(\\mathbb{E}\\left\\{g(G)\\right\\}-\\mathbb{E}\\{f(G)\\}^2\\right)}=C \\text{  p.s}$$\n"
   ]
  },
  {
   "cell_type": "code",
   "execution_count": 168,
   "id": "61ab8de7",
   "metadata": {},
   "outputs": [
    {
     "ename": "TypeError",
     "evalue": "'numpy.float64' object is not callable",
     "output_type": "error",
     "traceback": [
      "\u001b[1;31m---------------------------------------------------------------------------\u001b[0m",
      "\u001b[1;31mTypeError\u001b[0m                                 Traceback (most recent call last)",
      "Cell \u001b[1;32mIn[168], line 7\u001b[0m\n\u001b[0;32m      3\u001b[0m     \u001b[38;5;28;01mreturn\u001b[39;00m(np\u001b[38;5;241m.\u001b[39mmean(np\u001b[38;5;241m.\u001b[39mexp(\u001b[38;5;241m-\u001b[39mLambda\u001b[38;5;241m*\u001b[39mG\u001b[38;5;241m+\u001b[39m\u001b[38;5;241m0.5\u001b[39m\u001b[38;5;241m*\u001b[39mLambda\u001b[38;5;241m*\u001b[39m\u001b[38;5;241m*\u001b[39m\u001b[38;5;241m2\u001b[39m)\u001b[38;5;241m*\u001b[39mf(G)\u001b[38;5;241m*\u001b[39m\u001b[38;5;241m*\u001b[39m\u001b[38;5;241m2\u001b[39m)\u001b[38;5;241m-\u001b[39m(np\u001b[38;5;241m.\u001b[39mmean(f(G))\u001b[38;5;241m*\u001b[39m\u001b[38;5;241m*\u001b[39m\u001b[38;5;241m2\u001b[39m)) \n\u001b[0;32m      5\u001b[0m G\u001b[38;5;241m=\u001b[39mnp\u001b[38;5;241m.\u001b[39mrandom\u001b[38;5;241m.\u001b[39mnormal(size\u001b[38;5;241m=\u001b[39mn)\n\u001b[1;32m----> 7\u001b[0m u\u001b[38;5;241m=\u001b[39m\u001b[43mapprox_variance\u001b[49m\u001b[43m(\u001b[49m\u001b[38;5;241;43m1\u001b[39;49m\u001b[43m,\u001b[49m\u001b[43mG\u001b[49m\u001b[43m)\u001b[49m\n",
      "Cell \u001b[1;32mIn[168], line 3\u001b[0m, in \u001b[0;36mapprox_variance\u001b[1;34m(Lambda, G)\u001b[0m\n\u001b[0;32m      1\u001b[0m \u001b[38;5;28;01mdef\u001b[39;00m \u001b[38;5;21mapprox_variance\u001b[39m(Lambda,G):\n\u001b[0;32m      2\u001b[0m     \u001b[38;5;66;03m# ATTENTION: G est un vecteur echantillon de gaussiennes\u001b[39;00m\n\u001b[1;32m----> 3\u001b[0m     \u001b[38;5;28;01mreturn\u001b[39;00m(np\u001b[38;5;241m.\u001b[39mmean(np\u001b[38;5;241m.\u001b[39mexp(\u001b[38;5;241m-\u001b[39mLambda\u001b[38;5;241m*\u001b[39mG\u001b[38;5;241m+\u001b[39m\u001b[38;5;241m0.5\u001b[39m\u001b[38;5;241m*\u001b[39mLambda\u001b[38;5;241m*\u001b[39m\u001b[38;5;241m*\u001b[39m\u001b[38;5;241m2\u001b[39m)\u001b[38;5;241m*\u001b[39m\u001b[43mf\u001b[49m\u001b[43m(\u001b[49m\u001b[43mG\u001b[49m\u001b[43m)\u001b[49m\u001b[38;5;241m*\u001b[39m\u001b[38;5;241m*\u001b[39m\u001b[38;5;241m2\u001b[39m)\u001b[38;5;241m-\u001b[39m(np\u001b[38;5;241m.\u001b[39mmean(f(G))\u001b[38;5;241m*\u001b[39m\u001b[38;5;241m*\u001b[39m\u001b[38;5;241m2\u001b[39m))\n",
      "\u001b[1;31mTypeError\u001b[0m: 'numpy.float64' object is not callable"
     ]
    }
   ],
   "source": [
    "\n",
    "def approx_variance(Lambda,G):\n",
    "    # ATTENTION: G est un vecteur echantillon de gaussiennes\n",
    "    return(np.mean(np.exp(-Lambda*G+0.5*Lambda**2)*f(G)**2)-(np.mean(f(G))**2)) \n",
    "\n",
    "G=np.random.normal(size=n)\n",
    "\n",
    "u=approx_variance(1,G)"
   ]
  },
  {
   "cell_type": "code",
   "execution_count": 167,
   "id": "bea70d2e",
   "metadata": {},
   "outputs": [
    {
     "ename": "ValueError",
     "evalue": "setting an array element with a sequence.",
     "output_type": "error",
     "traceback": [
      "\u001b[1;31m---------------------------------------------------------------------------\u001b[0m",
      "\u001b[1;31mTypeError\u001b[0m                                 Traceback (most recent call last)",
      "\u001b[1;31mTypeError\u001b[0m: only length-1 arrays can be converted to Python scalars",
      "\nThe above exception was the direct cause of the following exception:\n",
      "\u001b[1;31mValueError\u001b[0m                                Traceback (most recent call last)",
      "Cell \u001b[1;32mIn[167], line 17\u001b[0m\n\u001b[0;32m     13\u001b[0m     \u001b[38;5;28;01mreturn\u001b[39;00m np\u001b[38;5;241m.\u001b[39mexp(\u001b[38;5;241m-\u001b[39mr\u001b[38;5;241m*\u001b[39mT)\u001b[38;5;241m*\u001b[39m\u001b[38;5;28mmax\u001b[39m(S_0\u001b[38;5;241m*\u001b[39mnp\u001b[38;5;241m.\u001b[39mexp((r\u001b[38;5;241m-\u001b[39m\u001b[38;5;241m0.5\u001b[39m\u001b[38;5;241m*\u001b[39mx\u001b[38;5;241m*\u001b[39m\u001b[38;5;241m*\u001b[39m\u001b[38;5;241m2\u001b[39m)\u001b[38;5;241m*\u001b[39mT\u001b[38;5;241m+\u001b[39mx\u001b[38;5;241m*\u001b[39mnp\u001b[38;5;241m.\u001b[39msqrt(T)\u001b[38;5;241m*\u001b[39mU)\u001b[38;5;241m-\u001b[39mK,\u001b[38;5;241m0\u001b[39m)\u001b[38;5;241m-\u001b[39mC_m\u001b[38;5;241m*\u001b[39mu\u001b[38;5;66;03m#approx_variance(1,G)\u001b[39;00m\n\u001b[0;32m     16\u001b[0m cible\u001b[38;5;241m=\u001b[39msigma_prim\n\u001b[1;32m---> 17\u001b[0m Y\u001b[38;5;241m=\u001b[39m\u001b[43malgorithme_rm_chen_MGL\u001b[49m\u001b[43m(\u001b[49m\u001b[43mcible\u001b[49m\u001b[43m,\u001b[49m\u001b[43mcible\u001b[49m\u001b[38;5;241;43m*\u001b[39;49m\u001b[38;5;241;43m6\u001b[39;49m\u001b[43m,\u001b[49m\u001b[38;5;241;43m66\u001b[39;49m\u001b[38;5;241;43m*\u001b[39;49m\u001b[43mn\u001b[49m\u001b[43m,\u001b[49m\u001b[43mF_BS\u001b[49m\u001b[43m)\u001b[49m\n\u001b[0;32m     19\u001b[0m plt\u001b[38;5;241m.\u001b[39mplot(Y,\u001b[38;5;124m'\u001b[39m\u001b[38;5;124mred\u001b[39m\u001b[38;5;124m'\u001b[39m)\n",
      "Cell \u001b[1;32mIn[167], line 6\u001b[0m, in \u001b[0;36malgorithme_rm_chen_MGL\u001b[1;34m(x_0, MAX, n, F)\u001b[0m\n\u001b[0;32m      4\u001b[0m X[\u001b[38;5;241m0\u001b[39m] \u001b[38;5;241m=\u001b[39m x_0;\n\u001b[0;32m      5\u001b[0m \u001b[38;5;28;01mfor\u001b[39;00m i \u001b[38;5;129;01min\u001b[39;00m \u001b[38;5;28mrange\u001b[39m(n\u001b[38;5;241m-\u001b[39m\u001b[38;5;241m1\u001b[39m):\n\u001b[1;32m----> 6\u001b[0m     \u001b[43mX\u001b[49m\u001b[43m[\u001b[49m\u001b[43mi\u001b[49m\u001b[38;5;241;43m+\u001b[39;49m\u001b[38;5;241;43m1\u001b[39;49m\u001b[43m]\u001b[49m\u001b[38;5;241m=\u001b[39mX[i]\u001b[38;5;241m-\u001b[39mgamma(i)\u001b[38;5;241m*\u001b[39mF(X[i],G[i\u001b[38;5;241m+\u001b[39m\u001b[38;5;241m1\u001b[39m])\n\u001b[0;32m      7\u001b[0m     \u001b[38;5;28;01mif\u001b[39;00m(\u001b[38;5;28mabs\u001b[39m(X[i\u001b[38;5;241m+\u001b[39m\u001b[38;5;241m1\u001b[39m]) \u001b[38;5;241m>\u001b[39m\u001b[38;5;241m=\u001b[39m MAX): \n\u001b[0;32m      8\u001b[0m         X[i\u001b[38;5;241m+\u001b[39m\u001b[38;5;241m1\u001b[39m]\u001b[38;5;241m=\u001b[39m\u001b[38;5;241m0\u001b[39m \n",
      "\u001b[1;31mValueError\u001b[0m: setting an array element with a sequence."
     ]
    }
   ],
   "source": [
    "def algorithme_rm_chen_MGL(x_0,MAX,n,F):\n",
    "    G=np.random.normal(size=n)\n",
    "    X=np.zeros(n);\n",
    "    X[0] = x_0;\n",
    "    for i in range(n-1):\n",
    "        X[i+1]=X[i]-gamma(i)*F(X[i],G[i+1])\n",
    "        if(abs(X[i+1]) >= MAX): \n",
    "            X[i+1]=0 \n",
    "    return X\n",
    "\n",
    "\n",
    "def F_BS(x,U):\n",
    "    return np.exp(-r*T)*max(S_0*np.exp((r-0.5*x**2)*T+x*np.sqrt(T)*U)-K,0)-C_m*u#approx_variance(1,G)\n",
    "\n",
    "\n",
    "cible=sigma_prim\n",
    "Y=algorithme_rm_chen_MGL(cible,cible*6,66*n,F_BS)\n",
    "\n",
    "plt.plot(Y,'red')"
   ]
  }
 ],
 "metadata": {
  "kernelspec": {
   "display_name": "rdwsenv_py39",
   "language": "python",
   "name": "rdwsenv_py39"
  },
  "language_info": {
   "codemirror_mode": {
    "name": "ipython",
    "version": 3
   },
   "file_extension": ".py",
   "mimetype": "text/x-python",
   "name": "python",
   "nbconvert_exporter": "python",
   "pygments_lexer": "ipython3",
   "version": "3.9.18"
  }
 },
 "nbformat": 4,
 "nbformat_minor": 5
}
