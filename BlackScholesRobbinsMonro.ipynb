{
  "cells": [
    {
      "cell_type": "markdown",
      "id": "8d10ac5a",
      "metadata": {
        "id": "8d10ac5a"
      },
      "source": [
        "<h1><center>Sur l'Ajustement de Valorisation IPV</center></h1>\n"
      ]
    },
    {
      "cell_type": "markdown",
      "id": "f31a574b",
      "metadata": {
        "id": "f31a574b"
      },
      "source": [
        "# Introduction\n",
        "\n",
        "Le but de ce travail est d'impliciter la volatilité du sous jacent dans le modèle de Black Scholes et de faire un Ajustement de Valorisation à Valeur Principale d'un call *(le prix que nous donne le pricer)* pour s'approcher de la **Juste Valeur**.\n",
        "\n",
        "$$\\text{Juste Valeur}=\\text{Valorisation Principale}+\\text{Ajustement de Valorisation (IPV)}$$\n",
        "\n",
        "Soit $C(\\sigma)$ le prix fourni par le pricer d'un call européen de sous jacent une action $A$ dont le prix est $S_0$ à l'émission du contrat, de strike $K=100$ et de maturité $T=1$ an et $C_m$ le prix consensus d'un call avec les mêmes caractéristiques founi par Totem.\n",
        "\n",
        "On définit la fonction $f$ comme suit :\n",
        "\n",
        "$$f(\\sigma)=C(\\sigma)-C_m$$\n",
        "\n",
        "L'objectif est alors de trouver $\\sigma '$ telle que\n",
        "\n",
        "$$f(\\sigma ')=C(\\sigma ')-C_m=0$$\n",
        "\n",
        "\n",
        "\n",
        "Pour faire notre premiere éstimation du prix de ce call nous avons utilisé une volatilité historique $\\sigma_h=0.3$\n",
        "\n",
        "Pour trouver $\\sigma '$ nous allons utiliser l'algorithme de Newton Raphson"
      ]
    },
    {
      "cell_type": "markdown",
      "id": "192e8523",
      "metadata": {
        "id": "192e8523"
      },
      "source": [
        "# Modèle de Black Scholes"
      ]
    },
    {
      "cell_type": "markdown",
      "id": "412ac634",
      "metadata": {
        "id": "412ac634"
      },
      "source": [
        "## Calcul du taux sans risque"
      ]
    },
    {
      "cell_type": "markdown",
      "id": "5c185b7d",
      "metadata": {
        "id": "5c185b7d"
      },
      "source": [
        "On considère une obligation de maturité M=5ans un notionnel N=100.\n",
        "On suppose que le coupon de l’obligation est de la forme $c_0=ref + s_0$\n",
        "Avec ref un taux de référence par exemple le taux LIBOR\n",
        "## Définition du taux libor\n",
        "### Bootstrapin des Zero Coupon\n",
        "A partir des swap rates on definit $∀n\\in \\mathbb{N}$\n",
        "\n",
        "$$P_n=\\frac{1-S_n\\sum_{i=1}^{n-1}δP_i}{1-δS_n}$$\n",
        "#### Definition du taux LIBOR\n",
        "On définit alors les taux libor comme,\n",
        "\n",
        "$$L_i:=\\frac{1}{δ}\\Big(\\frac{P_{i-1}}{P_i}-1\\Big)$$\n",
        "\n",
        "#### Valeur de la jambe flotante du swap\n",
        "On a l'equation d'equilibre suivante\n",
        "\n",
        "$$\\sum_{i=0}^n\\delta L_iP_i=1-P_n$$\n",
        "#### Valeur de la jambe fixe du swap\n",
        "\n",
        "On a\n",
        "\n",
        "$$S_n=\\frac{1-P_n}{δ\\sum_{i=0}^nP_i}$$\n",
        "\n",
        "Donc,\n",
        "\n",
        "$$S_n\\sum_{i=0}^n\\delta P_i=1-P_n$$\n",
        "\n",
        "\n",
        "\n",
        "finalement on trouve que\n",
        "$$S_n\\sum_{i=0}^n\\delta P_i=\\sum_{i=0}^n\\delta L_iP_i$$\n",
        "\n",
        "c'est equivalent à dire que\n",
        "\n",
        "$$\\delta P_nL_n=S_n\\sum_{i=0}^{n}\\delta P_i-\\sum_{i=0}^{n-1}\\delta L_iP_i$$\n",
        "\n",
        "\n",
        "On va résoudre pour chaque $n$ alors l'équation:\n",
        "$$\\delta P_nx=S_n\\sum_{i=0}^{n}\\delta P_i-\\sum_{i=0}^{n-1}\\delta L_iP_i$$"
      ]
    },
    {
      "cell_type": "markdown",
      "id": "980a48d2",
      "metadata": {
        "id": "980a48d2"
      },
      "source": [
        "On a"
      ]
    },
    {
      "cell_type": "code",
      "execution_count": 2,
      "id": "6e8a0f75",
      "metadata": {
        "id": "6e8a0f75"
      },
      "outputs": [],
      "source": [
        "import numpy as np\n",
        "import pandas as pd\n",
        "from scipy.optimize import root_scalar\n",
        "import scipy\n",
        "from scipy.stats import norm\n",
        "import matplotlib.pyplot as plt"
      ]
    },
    {
      "cell_type": "code",
      "source": [
        "\n",
        "\n",
        "\n",
        "delta = 1.0\n",
        "swap_maturities = np.array([1, 2, 3, 4,5,6,7,8,9,10])\n",
        "swap_rates = np.array([0.050, 0.052, 0.053, 0.054,0.053, 0.052, 0.051, 0.05,0.045,0.043])\n",
        "\n",
        "\n",
        "\n",
        "zc_prices = [1.0]\n",
        "for i, S in enumerate(swap_rates):\n",
        "    n = i + 1\n",
        "    sum_discounted = sum(delta * zc_prices[j] for j in range(n))\n",
        "    Pn = (1 - S * sum_discounted) / (1 + delta * S)\n",
        "    zc_prices.append(Pn)\n",
        "\n",
        "zc_prices = np.array(zc_prices)\n",
        "times = np.arange(0, len(zc_prices))\n",
        "\n",
        "\n",
        "libor_def = []\n",
        "for i in range(1, len(zc_prices)):\n",
        "    L = (1 / delta) * (zc_prices[i - 1] / zc_prices[i] - 1)\n",
        "    libor_def.append(L)\n",
        "\n",
        "\n",
        "libor_eq = []\n",
        "\n",
        "for n, Sn in enumerate(swap_rates, start=1):\n",
        "    rhs = sum(delta * libor_eq[i] * zc_prices[i + 1] for i in range(n - 1))\n",
        "\n",
        "\n",
        "    lhs = Sn * sum(delta * zc_prices[i + 1] for i in range(n))\n",
        "\n",
        "\n",
        "    def equation(Ln):\n",
        "        return rhs + delta * Ln * zc_prices[n] - lhs\n",
        "\n",
        "    sol = root_scalar(equation, bracket=[-0.1, 0.5], method='brentq')\n",
        "    libor_eq.append(sol.root)\n",
        "\n",
        "\n",
        "results = pd.DataFrame({\n",
        "    \"Maturity\": [f\"T{i}\" for i in range(1, len(zc_prices))],\n",
        "    \"Swap Rate\": swap_rates,\n",
        "    \"ZC Price\": zc_prices[1:],\n",
        "    \"Libor (ZC def)\": libor_def,\n",
        "    \"Libor (Eq solving)\": libor_eq,\n",
        "    \"Difference\": np.abs(np.array(libor_def) - np.array(libor_eq))\n",
        "})\n",
        "\n",
        "print(results)\n"
      ],
      "metadata": {
        "colab": {
          "base_uri": "https://localhost:8080/"
        },
        "id": "KYdfaWP4_SHK",
        "outputId": "b487a4c0-1b48-434b-c628-20639ecd150e"
      },
      "id": "KYdfaWP4_SHK",
      "execution_count": 20,
      "outputs": [
        {
          "output_type": "stream",
          "name": "stdout",
          "text": [
            "  Maturity  Swap Rate  ZC Price  Libor (ZC def)  Libor (Eq solving)  \\\n",
            "0       T1      0.050  0.904762        0.105263            0.050000   \n",
            "1       T2      0.052  0.856419        0.056448            0.054113   \n",
            "2       T3      0.053  0.810691        0.056406            0.055172   \n",
            "3       T4      0.054  0.765768        0.058664            0.057359   \n",
            "4       T5      0.053  0.731344        0.047069            0.048436   \n",
            "5       T6      0.052  0.700012        0.044759            0.046187   \n",
            "6       T7      0.051  0.671533        0.042409            0.043898   \n",
            "7       T8      0.050  0.645689        0.040025            0.041574   \n",
            "8       T9      0.045  0.651790       -0.009360           -0.001689   \n",
            "9      T10      0.043  0.639756        0.018810            0.021936   \n",
            "\n",
            "   Difference  \n",
            "0    0.055263  \n",
            "1    0.002335  \n",
            "2    0.001234  \n",
            "3    0.001306  \n",
            "4    0.001367  \n",
            "5    0.001429  \n",
            "6    0.001489  \n",
            "7    0.001549  \n",
            "8    0.007671  \n",
            "9    0.003126  \n"
          ]
        }
      ]
    },
    {
      "cell_type": "markdown",
      "source": [
        "## Structure de la dette\n",
        "A l’émission de l’obligation on actualise les flux future avec le taux c_0=ref + s_0 pour être au pair (Question?)\n",
        "\n",
        "On a alors le prix initial de l’obligation :\n",
        " $$ \\pi_0=\\pi(s_0)=N.\\sum_{i=0}^M B(t_i)(ref+s_0)+N.B(t_n)$$\n",
        "\n",
        " avec,\n",
        "\n",
        " $$B(t_i)=\\frac{1}{(1+ref+s_0)^{t_i}}$$\n",
        "\n",
        "\n",
        "\n",
        "\n",
        " On pose maintenant\n",
        "\n",
        " $$\\pi(s)=N.\\sum_{i=0}^M B(t_i)(ref+s)+N.B(t_n)$$\n",
        "\n",
        " On a alors,\n",
        "\n",
        "  $$\\pi'(s)=N.\\sum_{i=0}^M B(t_i)$$\n",
        "  \n",
        "Etant donné un prix $π_{mkt}$ on peut trouver $s_{mkt}$ tel que\n",
        "$$\\pi(s_{mkt})=π_{mkt}=N.\\sum_{i=0}^M B(t_i)(ref+s_{mkt})+N.B(t_n)$$\n",
        "donc\n",
        "$$s_{mkt}=\\frac{\\frac{π_{mkt}}{N}-B(t_n)-ref.\\sum_{i=0}^M B(t_i)}{\\sum_{i=0}^M B(t_i)}$$"
      ],
      "metadata": {
        "id": "D9iNB7kdOV39"
      },
      "id": "D9iNB7kdOV39"
    },
    {
      "cell_type": "code",
      "execution_count": 21,
      "id": "29bec81c",
      "metadata": {
        "id": "29bec81c",
        "outputId": "8e700ec5-c80f-4cc0-ccf8-063c60bb8484",
        "colab": {
          "base_uri": "https://localhost:8080/"
        }
      },
      "outputs": [
        {
          "output_type": "stream",
          "name": "stdout",
          "text": [
            "New price :101.58808080043158\n",
            "Initial price + delta * sensi :101.58808080043157\n",
            "theoSpread - spread0 :160.00000000000085\n",
            "market spread - spread0 :160.0\n",
            "0.02350541128964068\n"
          ]
        }
      ],
      "source": [
        "OneBP = 0.0001\n",
        "\n",
        "refRate = results['Libor (Eq solving)'][1] * OneBP\n",
        "s0 = 75 * OneBP\n",
        "\n",
        "coupon0 = refRate + s0\n",
        "\n",
        "ParDiscount = coupon0\n",
        "\n",
        "Notional = 100\n",
        "Maturity = 1\n",
        "\n",
        "\n",
        "def BondPrice(refrate, spread, discount, maturity, notional):\n",
        "    leg = sum([(refrate + spread) / (1 + discount) ** i for i in range(1, maturity + 1)])\n",
        "    discountEnd = 1 / (1 + discount) ** maturity\n",
        "    return (leg + discountEnd) * notional\n",
        "\n",
        "\n",
        "\n",
        "def dBondPrice(discount, maturity, notional):\n",
        "    return notional * sum([1 / (1 + discount) ** i for i in range(1, maturity + 1)])\n",
        "\n",
        "\n",
        "\n",
        "\n",
        "def GetSpreadFromPrice(refrate, discount, maturity, notional, price):\n",
        "    leg = sum([refrate / (1 + discount) ** i for i in range(1, maturity + 1)])\n",
        "    bpv = sum([1 / (1 + discount) ** i for i in range(1, maturity + 1)])\n",
        "    discountEnd = 1 / (1 + discount) ** maturity\n",
        "    return (price / notional - discountEnd - leg) / bpv\n",
        "    pass\n",
        "\n",
        "\n",
        "\n",
        "initialPrice = BondPrice(refRate, s0, ParDiscount, Maturity, Notional)\n",
        "\n",
        "delta = 160 * OneBP\n",
        "\n",
        "newPrice = BondPrice(refRate, s0 + delta, ParDiscount, Maturity, Notional)\n",
        "\n",
        "sensi = dBondPrice(ParDiscount, Maturity, Notional)\n",
        "\n",
        "TehoSpread = GetSpreadFromPrice(refRate, ParDiscount, Maturity, Notional, newPrice) / OneBP\n",
        "\n",
        "print(f\"New price :{newPrice}\")\n",
        "\n",
        "print(f\"Initial price + delta * sensi :{initialPrice + delta * sensi}\")\n",
        "\n",
        "print(f\"theoSpread - spread0 :{TehoSpread-s0/OneBP}\")\n",
        "print(f\"market spread - spread0 :{delta/OneBP}\")\n",
        "\n",
        "MarketRate=(refRate+TehoSpread*OneBP)\n",
        "print(MarketRate)"
      ]
    },
    {
      "cell_type": "markdown",
      "id": "c13fbc04",
      "metadata": {
        "id": "c13fbc04"
      },
      "source": [
        "# Modèle de Balck Scholes\n",
        "On suppose que le prix $S_t$ d'une action A suit la dynamique suivante:\n",
        "\n",
        "$$dS_t=S_t\\left(rdt+\\sigma dB_t\\right)$$\n",
        "\n",
        "Avec\n",
        "\n",
        "$$X_t=ln(S_t)$$\n",
        "\n",
        "On trouve que\n",
        "\n",
        "$$dX_t=(r-\\frac{\\sigma^2}{2})dt+\\sigma dB_t$$\n",
        "\n",
        "Donc\n",
        "\n",
        "$$X_t=X_0+(r-\\frac{\\sigma^2}{2})t+\\sigma B_t$$\n",
        "\n",
        "Alors $\\forall t\\geq 0,$\n",
        "\n",
        "$$S_t(\\sigma)=S_0exp\\left\\{(r-\\frac{\\sigma^2}{2})t+\\sigma B_t\\right\\}=S_0exp\\left\\{(r-\\frac{\\sigma^2}{2})t+\\sigma \\sqrt{t} G\\right\\}$$\n",
        "\n",
        "Le prix d'un call $C$ s'ecrit sous la forme suivante:\n",
        "\n",
        "$$\\begin{align*}\n",
        "C(\\sigma)&=\\mathbb{E}\\big\\{e^{-rT}(S_T(\\sigma)-K)_+\\big\\}\\\\\n",
        "\\\\\n",
        "&=\\mathbb{E}\\big\\{\\mathbb{1}_{S_T(\\sigma)-K>0}e^{-rT}(S_T(\\sigma)-K)\\big\\}\\\\\n",
        "\\\\\n",
        "&=e^{-rT}\\mathbb{E}\\big\\{S_T(\\sigma)\\mathbb{1}_{S_T(\\sigma)-K>0}\\big\\}+Ke^{-rT}\\mathbb{P}\\big\\{S_T(\\sigma)-K>0\\big\\}\n",
        "\\end{align*}$$\n",
        "\n",
        "On a d'un coté\n",
        "\n",
        "$$\\begin{align*}\n",
        "\\mathbb{P}\\big\\{S_T(\\sigma)-K>0\\big\\}&=\\mathbb{P}\\big\\{(r-\\frac{\\sigma^2}{2})T+\\sigma B_T>ln(\\frac{K}{S_0})\\big\\}\\\\\n",
        "\\\\\n",
        "&=\\mathbb{P}\\big\\{G>-d_2\\big\\}\n",
        "\\end{align*}$$\n",
        "\n",
        "Et vu que $-G$ et $G$ suivent la meme loi,\n",
        "\n",
        "$$\\mathbb{P}\\big\\{S_T(\\sigma)-K>0\\big\\}=\\mathbb{P}\\big\\{G<d_2\\big\\}=N(d_2)$$\n",
        "\n",
        "D'un autre coté On a,\n",
        "\n",
        "$$\\begin{align*}\n",
        "\\mathbb{E}\\left\\{S_T(\\sigma)\\mathbb{1}_{S_T(\\sigma)-K>0}\\right\\}&=S_0\\mathbb{E}\\left\\{ e^{(r-\\frac{\\sigma^2}{2})T+\\sigma B_T} \\mathbb{1}_{G>d_2}\\right\\}\\\\\n",
        "\\\\\n",
        "&=\\int_{\\mathbb{R}}\\mathbb{1}_{G>x}e^{-\\frac{x^2}{2}T+\\sigma \\sqrt{T} x-\\frac{\\sigma^2}{2}T}\\frac{dx}{\\sqrt{2\\pi}} \\\\\n",
        "\\\\\n",
        "&=\\int_{-d2}^{+\\infty}e^{-\\frac{x^2}{2}}\\\\\n",
        "\\\\\n",
        "&=S_0N(d1)\n",
        "\\end{align*}$$\n",
        "\n",
        "Finalement on trouve que :\n",
        "\n",
        "$$C(\\sigma)=S_0N(d_1)-Ke^{-rT}N(d_2)$$\n",
        "\n",
        "Où\n",
        "\n",
        "$$\\begin{cases}\n",
        "      r \\text{ : taux d'actualisation} & \\\\\n",
        "      \\sigma \\text{ : la volatilité} & \\\\\n",
        "      N \\text{: la fonction de répartition de la loi normale}\n",
        "    \\end{cases}$$\n",
        "\n",
        "Et\n",
        "\n",
        "$$d_1=\\frac{ln\\left(\\frac{S_0}{K}\\right)+\\left(r+\\frac{\\sigma^2}{2}\\right)T}{\\sigma\\sqrt{T}} \\text{ et } d_2=d_1-\\sigma\\sqrt{T}$$"
      ]
    },
    {
      "cell_type": "code",
      "execution_count": 22,
      "id": "279c7f1a",
      "metadata": {
        "id": "279c7f1a"
      },
      "outputs": [],
      "source": [
        "# !pip install numpy\n",
        "# !pip install scipy"
      ]
    },
    {
      "cell_type": "code",
      "execution_count": 23,
      "id": "5d60b4b9",
      "metadata": {
        "id": "5d60b4b9",
        "outputId": "717fbcaf-f38a-4e9b-84b5-067ca5ffec26",
        "colab": {
          "base_uri": "https://localhost:8080/"
        }
      },
      "outputs": [
        {
          "output_type": "execute_result",
          "data": {
            "text/plain": [
              "np.float64(8.994833324414635)"
            ]
          },
          "metadata": {},
          "execution_count": 23
        }
      ],
      "source": [
        "T=1\n",
        "S_0=100\n",
        "r=MarketRate\n",
        "sigma_h=0.3\n",
        "K=110\n",
        "C_m=10\n",
        "\n",
        "\n",
        "def d1(x):\n",
        "    return (1/(x*np.sqrt(T)))*(np.log(S_0/K)+(r+0.5*x**2)*T)\n",
        "\n",
        "\n",
        "def d2(x):\n",
        "    return d1(x)-x*np.sqrt(T)\n",
        "\n",
        "\n",
        "def call_ferme(x):\n",
        "    return S_0*norm.cdf(d1(x))-K*np.exp(-r*T)*norm.cdf(d2(x))\n",
        "\n",
        "call_ferme(sigma_h)\n"
      ]
    },
    {
      "cell_type": "markdown",
      "id": "083be942",
      "metadata": {
        "id": "083be942"
      },
      "source": [
        "On va chercher alors la racine de la fonction $f$. Pour faire cela nous allons utiliser l'algorithme de Newton Raphson.\n",
        "\n",
        "------------------------------------------------------------------\n",
        "\n",
        "**Définiton :**\n",
        "\n",
        "On utilise l'algorithme de Newton Raphson pour trouver la racine d'une fonction $f$ et est définit itérativement de la manière suivante\n",
        " $$\\begin{cases}\n",
        "      x_0=v & \\\\\n",
        "      x_{n+1}=x_{n}-\\frac{f(x_n)}{f'(x_n)} &\n",
        "    \\end{cases}$$\n",
        "    \n",
        "    \n",
        "-----------------------------------------------------------------\n"
      ]
    },
    {
      "cell_type": "markdown",
      "id": "3c45bd32",
      "metadata": {
        "id": "3c45bd32"
      },
      "source": [
        "On a\n",
        "\n",
        "$$f(\\sigma)=C(\\sigma)-C_m=S_0N(d_1)-Ke^{-rT}N(d_2)-C_m$$\n",
        "\n",
        "Et on peut monter que\n",
        "\n",
        "$$\\frac{\\partial f(\\sigma)}{\\partial \\sigma}=\\frac{\\partial C(\\sigma)}{\\partial \\sigma}=S_0\\sqrt{T}N'(d1)$$\n",
        "\n",
        "Où\n",
        "$$N'(x)=\\frac{1}{\\sqrt{2\\pi}}e^{\\frac{-x^2}{2}}$$\n",
        "\n"
      ]
    },
    {
      "cell_type": "code",
      "execution_count": 24,
      "id": "2d33aff0",
      "metadata": {
        "id": "2d33aff0",
        "outputId": "72ea817d-5e42-4d48-f29f-7e3cb76a0518",
        "colab": {
          "base_uri": "https://localhost:8080/"
        }
      },
      "outputs": [
        {
          "output_type": "execute_result",
          "data": {
            "text/plain": [
              "np.float64(0.3252649366233215)"
            ]
          },
          "metadata": {},
          "execution_count": 24
        }
      ],
      "source": [
        "def f(x):\n",
        "    return call_ferme(x)-C_m\n",
        "\n",
        "\n",
        "def dN(x):\n",
        "    return 1/(np.sqrt(2*np.pi))*np.exp(-x**2/2)\n",
        "\n",
        "\n",
        "def df(x):\n",
        "    return S_0*np.sqrt(T)*dN(d1(x))\n",
        "\n",
        "\n",
        "\n",
        "def newton_raphson(x_0,conf,max_iter,g,dg):\n",
        "    x_n=x_0\n",
        "    for i in range(max_iter):\n",
        "        x_n_plus_1= x_n-g(x_n)/dg(x_n)\n",
        "\n",
        "        if abs(x_n_plus_1-x_n)<conf:\n",
        "            return x_n_plus_1\n",
        "        x_n=x_n_plus_1\n",
        "    print(\"solution non trouvé\")\n",
        "\n",
        "\n",
        "sigma_prim=newton_raphson(1,conf=10**-5,max_iter=1000,g=f,dg=df)\n",
        "\n",
        "sigma_prim"
      ]
    },
    {
      "cell_type": "markdown",
      "id": "c3174f97",
      "metadata": {
        "id": "c3174f97"
      },
      "source": [
        "# Calcul de l'Ajustement de Valorisation\n",
        "\n",
        "## définition de l'IPV\n",
        "\n",
        "La **vérification indépendante des prix** est un processus de plus en plus important pour soutenir les fonctions financières et de risque dans un large éventail d'institutions financières. Le processus de base de la IPV exige que les prix internes soient vérifiés par rapport à des sources tierces indépendantes.\n",
        "\n",
        "Le Prudent Valuation Guidance de Bâle II définit la Vérification Indépendante des Prix comme \"le processus par lequel les prix du marché ou les données d'entrée des modèles sont régulièrement vérifiés pour s'assurer de leur exactitude\". La vérification des prix du marché ou des données du modèle doit être effectuée par une unité indépendante de la salle des marchés, au moins une fois par mois (ou, selon la nature du marché/de l'activité de négociation, plus fréquemment)\".\n",
        "\n",
        "## Application numérique\n",
        "\n",
        "### Sensibilité\n",
        "\n",
        "Le Vega est un type de grecque qui est utilisé pour calculer la sensibilité ou le taux de variation de la valeur d'un contrat d'option par rapport à la volatilité de l'actif sous-jacent. Le Vega est désigné par la lettre $V$. Essentiellement, le vega est la dérivée partielle première de la valeur du contrat d'option par rapport à la volatilité de l'actif sous-jacent.\n",
        "\n",
        "$$V=\\frac{\\partial C(\\sigma)}{\\partial \\sigma}(\\sigma_h)=S_0\\sqrt{T}N'(d1)$$\n",
        "\n",
        "Où\n",
        "$$N'(x)=\\frac{1}{\\sqrt{2\\pi}}e^{\\frac{-x^2}{2}}$$"
      ]
    },
    {
      "cell_type": "code",
      "execution_count": 25,
      "id": "5ca81237",
      "metadata": {
        "id": "5ca81237",
        "outputId": "15bea193-a8ea-4944-f86d-97b75203671d",
        "colab": {
          "base_uri": "https://localhost:8080/"
        }
      },
      "outputs": [
        {
          "output_type": "execute_result",
          "data": {
            "text/plain": [
              "np.float64(39.7353019507906)"
            ]
          },
          "metadata": {},
          "execution_count": 25
        }
      ],
      "source": [
        "\n",
        "\n",
        "sensi=S_0*np.sqrt(T)*dN(d1(sigma_h))\n",
        "\n",
        "sensi"
      ]
    },
    {
      "cell_type": "markdown",
      "id": "a118571e",
      "metadata": {
        "id": "a118571e"
      },
      "source": [
        "**Remarque :**\n",
        "\n",
        "En pratique on utilise plutot la formule suivante pour calculer la senbilité:\n",
        "\n",
        "$$sensi_{bis}=\\frac{\\partial C(\\sigma)}{\\partial \\sigma}(\\sigma_h)=\\lim\\limits_{\\delta \\sigma \\rightarrow + 0}\\frac{C(\\sigma_h + \\delta \\sigma)-C(\\sigma_h)}{\\delta \\sigma}=\\frac{C(\\sigma_h + 1BP)-C(\\sigma_h)}{1BP}$$"
      ]
    },
    {
      "cell_type": "code",
      "execution_count": 26,
      "id": "6fd127ce",
      "metadata": {
        "id": "6fd127ce",
        "outputId": "a2a9d677-9397-4f71-acc9-4ee1086adaa9",
        "colab": {
          "base_uri": "https://localhost:8080/"
        }
      },
      "outputs": [
        {
          "output_type": "execute_result",
          "data": {
            "text/plain": [
              "np.float64(39.73553219438486)"
            ]
          },
          "metadata": {},
          "execution_count": 26
        }
      ],
      "source": [
        "sensi_bis=(call_ferme(sigma_h+0.0001)-call_ferme(sigma_h))/0.0001\n",
        "\n",
        "sensi_bis"
      ]
    },
    {
      "cell_type": "markdown",
      "id": "c8911fc5",
      "metadata": {
        "id": "c8911fc5"
      },
      "source": [
        "### IPV ( sensi choc )\n",
        "----------------\n",
        "\n",
        "**Définitions :**\n",
        "\n",
        "* Dans notre contexte, la **choc** est définie comme suit :\n",
        "$$\\text{choc}=\\sigma '-\\sigma_h$$\n",
        "\n",
        "* Et on définit l'IPV comme suit :\n",
        "$$IPV=\\text{choc} . sensi = (\\sigma '-\\sigma_h).sensi$$\n",
        "\n",
        "---------------"
      ]
    },
    {
      "cell_type": "code",
      "execution_count": 27,
      "id": "ece12c58",
      "metadata": {
        "id": "ece12c58",
        "outputId": "26499583-bd14-450b-f9c3-9b2a7a52d89b",
        "colab": {
          "base_uri": "https://localhost:8080/"
        }
      },
      "outputs": [
        {
          "output_type": "execute_result",
          "data": {
            "text/plain": [
              "np.float64(1.0039098854952686)"
            ]
          },
          "metadata": {},
          "execution_count": 27
        }
      ],
      "source": [
        "IPV=(sigma_prim-sigma_h)*sensi\n",
        "\n",
        "IPV"
      ]
    },
    {
      "cell_type": "code",
      "execution_count": 28,
      "id": "cf07e19b",
      "metadata": {
        "id": "cf07e19b",
        "outputId": "58203313-8b34-42de-a291-6a025adc7365",
        "colab": {
          "base_uri": "https://localhost:8080/"
        }
      },
      "outputs": [
        {
          "output_type": "execute_result",
          "data": {
            "text/plain": [
              "np.float64(10.000000000000007)"
            ]
          },
          "metadata": {},
          "execution_count": 28
        }
      ],
      "source": [
        "call_ferme(sigma_prim)"
      ]
    },
    {
      "cell_type": "markdown",
      "id": "fc7fd764",
      "metadata": {
        "id": "fc7fd764"
      },
      "source": [
        "# Ajustement de valorisation\n",
        "\n",
        "Finalement, On calcule le proxy de la **Juste Valeur** comme suit :\n",
        "\n",
        "$$\\text{Juste Valeur}=\\text{Valorisation principale}+\\text{Ajustement de valorisation (IPV)}$$"
      ]
    },
    {
      "cell_type": "code",
      "execution_count": 29,
      "id": "317f3aa3",
      "metadata": {
        "id": "317f3aa3",
        "outputId": "bd2f2b4d-69ff-41c6-c188-f8d6bb06b5dc",
        "colab": {
          "base_uri": "https://localhost:8080/"
        }
      },
      "outputs": [
        {
          "output_type": "execute_result",
          "data": {
            "text/plain": [
              "np.float64(9.998743209909904)"
            ]
          },
          "metadata": {},
          "execution_count": 29
        }
      ],
      "source": [
        "fair_value=call_ferme(sigma_h)+IPV\n",
        "\n",
        "fair_value"
      ]
    },
    {
      "cell_type": "markdown",
      "id": "c1d142c0",
      "metadata": {
        "id": "c1d142c0"
      },
      "source": [
        "-----------------\n",
        "\n",
        "**Remarque 1:**\n",
        "On retombe bien sur une valeur proche du prix sur le marché.\n",
        "\n",
        "--------------------\n",
        "\n",
        "-------------------------\n",
        "\n",
        "**Remarque 2:**\n",
        "\n",
        "On a grace au développement de Taylor-Young au point $\\sigma '$\n",
        "\n",
        "$$C(\\sigma ')\\approx C(\\sigma_h) +(\\sigma '-\\sigma_h)\\partial_{\\sigma}C(\\sigma_h)$$\n",
        "\n",
        "Donc\n",
        "\n",
        "$$C_m\\approx C(\\sigma_h) +(\\sigma '-\\sigma_h).sensi$$\n",
        "\n",
        "Donc\n",
        "\n",
        "$$C_m \\approx \\text{Juste Valeur}$$\n",
        "\n",
        "----------------------------\n",
        "\n",
        "# Conclusion\n",
        "\n",
        "----------------------\n",
        "\n",
        "**Définition :**\n",
        "\n",
        "D'après La **norme IFRS 13**, la **\"juste valeur\"** (ou \"fair value\" en anglais) se définit comme *\"le prix qui serait reçu pour la vente d'un actif ou payé pour le transfert d'un passif lors d'une transaction normale entre des participants de marché bien informés à la date d'évaluation\"*.\n",
        "\n",
        "-------------------\n",
        "**Conclusion :**\n",
        "\n",
        "D'après les remarques 1 et 2 on peut conclure que notre démarche nous permet de retrouver la Juste Valeur qui est approximativement la valeur sur le marché."
      ]
    },
    {
      "cell_type": "markdown",
      "id": "71149426",
      "metadata": {
        "id": "71149426"
      },
      "source": [
        "**************************"
      ]
    },
    {
      "cell_type": "markdown",
      "id": "9731751e",
      "metadata": {
        "id": "9731751e"
      },
      "source": [
        "# Algorithme de Robbins Monro\n",
        "\n",
        "soit $f$ une fonction continue telle qu'il existe $F$ une fonction et $U$ une variable aléatoire de loi connue telles que\n",
        "\n",
        "$$f(x)=\\mathbb{E}[F(x,U)]$$\n",
        "\n",
        "Le but de l'algorithme de Robbins Monro est de trouver, presque surement, $x'$ tel que\n",
        "\n",
        "$$f(x')=\\mathbb{E}[F(x',U)]=0$$\n",
        "\n",
        "-----------------\n",
        "**Définition:**\n",
        "\n",
        "Le théoreme de Robbins Monro stipule que si on définie itérativement une suite de variables aléatoires $(X_n)_{n\\geq0}$:\n",
        "\n",
        "$$\\begin{cases}\n",
        "      X_0= x_0 & \\\\\n",
        "      X_{n+1}=X_n-\\gamma_nF(X_n,U_{n+1}) &\n",
        "    \\end{cases}$$\n",
        "    \n",
        "Où $(\\gamma_n)_{n\\geq0}$ une suite telle que $\\sum_{n\\geq0}\\gamma_n<\\infty$ et $(U_n)_{n\\geq0}$ une suite de variables aléatoires idépendantes et identiquement distribuées selon la même loi que $U$.\n",
        "\n",
        "Alors,\n",
        "$$X_n \\text{ converge presque surement vers }x'$$\n",
        "\n",
        "----------------"
      ]
    },
    {
      "cell_type": "markdown",
      "id": "b56d53d8",
      "metadata": {
        "id": "b56d53d8"
      },
      "source": [
        "soit la suite de variable aleatoires\n",
        "$$V_i=e^{-rT}(S_T-K)_{+} - C=e^{-rT}\\left(S_0exp\\left\\{(r-\\frac{\\sigma^2}{2})T+\\sigma \\sqrt{T}G_i\\right\\}-K\\right)_{+} - C=H(\\sigma,G_i)$$\n",
        "\n",
        "\n",
        "Alors avec\n",
        "\n",
        "$$M_n=\\frac{V_0+....+V_n}{n} \\text{, $M_n$ converge présque surement vers } \\sigma ' $$\n",
        "\n",
        "J'ai avec $\\gamma_n=\\frac{1}{n+1}$\n",
        "\n",
        "$$M_{n+1} = M_n -\\gamma_n \\left(M_n - V_{n+1}\\right)=M_n -\\gamma_n \\left(M_n - H(\\sigma,G_{n+1})\\right)= M_n -\\gamma_n F \\left(M_n , G_{n+1}\\right)$$\n",
        "\n",
        "En effet,\n",
        "\n",
        "$$\\begin{align*}\n",
        "M_{n+1}-M_n&=\\frac{n\\sum_{i=1}^{n+1}V_i-(n+1)\\sum_{i=1}^nV_i}{n(n+1)}&\\\\\n",
        "\\\\\n",
        "&=\\frac{V_{n+1}}{n+1}-\\frac{M_n}{n+1}&\\\\\n",
        "\\\\\n",
        "&=-\\gamma_n(M_n-V_{n+1})\\\\\n",
        "\\\\\n",
        "&= -\\gamma_n F \\left(M_n , G_{n+1}\\right)\\\\\n",
        "\\\\\n",
        "\\end{align*}$$\n",
        "\n",
        "<!-- Soit $f(x)=x-C$  et $x'$ tel que $f(x')=x'-C=0$ et $G$ une gaussienne centrée réduite, donc $\\mathbb{E}[G]=0$ et $Var[G]=1$.\n",
        "\n",
        "\n",
        "\n",
        "Finalement je trouve que,\n",
        "\n",
        "$$f(x)=\\mathbb{E}[F(x,G)]=x-C$$ -->\n"
      ]
    },
    {
      "cell_type": "code",
      "execution_count": 30,
      "id": "308d748b",
      "metadata": {
        "id": "308d748b",
        "outputId": "ea07d832-0e60-4114-f88a-861ced932b2f",
        "colab": {
          "base_uri": "https://localhost:8080/"
        }
      },
      "outputs": [
        {
          "output_type": "execute_result",
          "data": {
            "text/plain": [
              "np.float64(0.5076950900517091)"
            ]
          },
          "metadata": {},
          "execution_count": 30
        }
      ],
      "source": [
        "(r+0.14163)/sigma_prim\n"
      ]
    },
    {
      "cell_type": "code",
      "execution_count": 31,
      "id": "678d675a",
      "metadata": {
        "id": "678d675a",
        "outputId": "5fdbb166-ffc7-48cb-e04b-f249e2b97e9f",
        "colab": {
          "base_uri": "https://localhost:8080/"
        }
      },
      "outputs": [
        {
          "output_type": "execute_result",
          "data": {
            "text/plain": [
              "np.float64(0.30175952533368083)"
            ]
          },
          "metadata": {},
          "execution_count": 31
        }
      ],
      "source": [
        "sigma_prim-r"
      ]
    },
    {
      "cell_type": "code",
      "execution_count": 32,
      "id": "b1a81e40",
      "metadata": {
        "id": "b1a81e40",
        "outputId": "74ef20c5-50f9-428f-ce71-10b80d2d2d18",
        "colab": {
          "base_uri": "https://localhost:8080/",
          "height": 482
        }
      },
      "outputs": [
        {
          "output_type": "stream",
          "name": "stderr",
          "text": [
            "/tmp/ipython-input-23-1398341512.py:10: RuntimeWarning: divide by zero encountered in scalar divide\n",
            "  return (1/(x*np.sqrt(T)))*(np.log(S_0/K)+(r+0.5*x**2)*T)\n"
          ]
        },
        {
          "output_type": "display_data",
          "data": {
            "text/plain": [
              "<Figure size 640x480 with 1 Axes>"
            ],
            "image/png": "[encoded data removed]"
          },
          "metadata": {}
        },
        {
          "output_type": "stream",
          "name": "stdout",
          "text": [
            "0.33266566205787546\n"
          ]
        }
      ],
      "source": [
        "MAX=5\n",
        "n=100000\n",
        "beta=1\n",
        "c=1\n",
        "\n",
        "Lambda=1.5#(r+0.14163)/sigma_prim\n",
        "\n",
        "def gamma(n):\n",
        "    return c/(n+1)**beta\n",
        "\n",
        "def Theta(n):\n",
        "    return 1/np.sqrt(n)\n",
        "\n",
        "def algorithme_rm(x_0,n,F,G):\n",
        "    X=np.zeros(n)\n",
        "    X[0]=x_0\n",
        "    for i in range(0,n-1):\n",
        "        X[i+1]=X[i]-gamma(i)*F(X[i],G[i+1])\n",
        "    return X\n",
        "\n",
        "\n",
        "def algorithme_rm_chen(x_0,MAX,n,F,G):\n",
        "    X=np.zeros(n);\n",
        "    X[0] = x_0;\n",
        "    for i in range(n-1):\n",
        "        X[i+1]=X[i]-gamma(i)*F(X[i],G[i+1])\n",
        "        if(abs(X[i+1]) >= MAX):\n",
        "            X[i+1]=0\n",
        "    return X\n",
        "\n",
        "\n",
        "\n",
        "\n",
        "def F_BS(x,U):\n",
        "    return np.exp(-r*T)*max(S_0*np.exp((r-0.5*x**2)*T+x*np.sqrt(T)*U)-K,0)-C_m\n",
        "\n",
        "\n",
        "def F_BS_2(x,U):\n",
        "    return np.exp(-U*Lambda-Lambda**2*0.5)*np.exp(-r*T)*max(S_0*np.exp((r-0.5*x**2)*T+x*np.sqrt(T)*(U+Lambda))-K,0)-C_m\n",
        "\n",
        "\n",
        "def FP(x,g):\n",
        "    u=0\n",
        "    v=0\n",
        "    if g<=d1(x):\n",
        "        u=S_0\n",
        "    else:\n",
        "        u=0\n",
        "    if g<=d2(x):\n",
        "        v=K*np.exp(-r*T)\n",
        "    else:\n",
        "        v=0\n",
        "    return u-v-C_m\n",
        "\n",
        "\n",
        "\n",
        "G1=np.random.normal(size=n)\n",
        "G2=np.random.normal(size=n)\n",
        "G3=np.random.normal(size=n)\n",
        "\n",
        "# G2=G1\n",
        "# G3=G1\n",
        "\n",
        "Y1=algorithme_rm_chen(sigma_prim,sigma_prim*2.6,n,FP,G1)\n",
        "Y2=algorithme_rm_chen(sigma_prim,sigma_prim*2.6,n,F_BS,G2)\n",
        "Y3=algorithme_rm_chen(sigma_prim,sigma_prim*2.6,n,F_BS_2,G3)\n",
        "\n",
        "plt.plot(Y1,'black')\n",
        "plt.plot(Y2,'red')\n",
        "plt.plot(Y3,'yellow')\n",
        "\n",
        "\n",
        "# plt.plot([sigma_prim for i in range(n)],'green')\n",
        "plt.show()\n",
        "\n",
        "sigma_prim=Y1[-1]\n",
        "print(sigma_prim)"
      ]
    },
    {
      "cell_type": "markdown",
      "id": "2976f9e3",
      "metadata": {
        "id": "2976f9e3"
      },
      "source": [
        "# Optimisation du paramètre d'une fonction d'importance\n",
        "\n",
        "On veut calculer $\\mathbb{E}(f(G))$. Avec $\\frac{d\\mathbb{Q}}{d\\mathbb{P}}=e^{-\\lambda G - \\frac{\\lambda^2}{2}}$, on a,\n",
        "$$\\mathbb{E}\\left\\{e^{-\\lambda G - \\frac{\\lambda^2}{2}} f(G+\\lambda)\\right\\}= \\mathbb{E}^{\\mathbb{Q}}\\left\\{f(G+\\lambda)\\right\\}=\\mathbb{E}\\left\\{f(G)\\right\\}=C$$,\n",
        "\n",
        "\n",
        "On cherche a minimiser en $\\lambda$ la variance de ,\n",
        "        $$X_\\lambda = e^{-\\lambda G - \\frac{\\lambda^2}{2}} f(G+\\lambda)$$\n",
        "\n",
        "***************\n",
        "**Proposition :**\n",
        "        $$Var\\left\\{X_\\lambda\\right\\}= \\mathbb{E}\\left\\{e^{-\\lambda G + \\frac{\\lambda^2}{2}} f^2(G)\\right\\} - \\mathbb{E}{f(G)}^2$$,\n",
        "***************\n",
        "On a,\n",
        "$$\\begin{align*}\n",
        "        Var\\{X_{\\lambda}\\}&=\\mathbb{E}\\left\\{(e^{-\\lambda G - \\frac{\\lambda^2}{2}} f(G+\\lambda))^2\\right\\}-\\mathbb{E}\\{f(G)\\}^2\\\\\n",
        "&=\\mathbb{E}\\left\\{e^{-\\lambda G - \\frac{\\lambda^2}{2}} g(G+\\lambda)\\right\\}-\\mathbb{E}\\{f(G)\\}^2\\\\\n",
        "&=\\mathbb{E}\\left\\{g(G)\\right\\}-\\mathbb{E}\\{f(G)\\}^2\n",
        "\\end{align*}$$\n",
        "\n",
        "Avec $g(x)=e^{-\\lambda x+\\frac{\\lambda^2}{2}}f^2(x)$,\n",
        "\n",
        "On traitera le cas du call dans le modèle de Black et Scholes avec les paramètres suivants\\n\",\n",
        "        $r=r_{mkt}$, $\\sigma=\\sigma'/\\mbox{an}$, $S_0=x=100$, $T=1$.\""
      ]
    },
    {
      "cell_type": "code",
      "execution_count": 32,
      "id": "86c987c4",
      "metadata": {
        "id": "86c987c4"
      },
      "outputs": [],
      "source": []
    },
    {
      "cell_type": "code",
      "execution_count": 46,
      "id": "48c21e92",
      "metadata": {
        "id": "48c21e92",
        "outputId": "47da717a-036c-4592-eb75-2e8b72a01abc",
        "colab": {
          "base_uri": "https://localhost:8080/"
        }
      },
      "outputs": [
        {
          "output_type": "execute_result",
          "data": {
            "text/plain": [
              "np.float64(75.53010393486753)"
            ]
          },
          "metadata": {},
          "execution_count": 46
        }
      ],
      "source": [
        "from math import exp\n",
        "import math\n",
        "# r=0.02\n",
        "sigma=sigma_prim\n",
        "T=1\n",
        "x=100\n",
        "K=100\n",
        "n=1000\n",
        "N=1000\n",
        "def f1(g):\n",
        "    d=np.size(g);\n",
        "    S_T=np.zeros(d);\n",
        "    S_T= x * np.exp((r - sigma*sigma/2)*T*np.ones(d)+sigma*np.sqrt(T)*g);\n",
        "    return(math.exp(-r*T)*np.maximum(S_T-K*np.ones(np.size(S_T)),np.zeros(np.size(S_T))));\n",
        "\n",
        "def f(g):\n",
        "    if(isinstance(g,float) or isinstance(g,int)):\n",
        "        ST=0;\n",
        "        ST=float( x * exp((r - sigma*sigma/2)*T+sigma*math.sqrt(T)*g));\n",
        "        return(exp(-r*T)*max(ST-K,0))\n",
        "    else:\n",
        "        d=np.size(g)\n",
        "        S_T=np.zeros(d)\n",
        "        S_T= x * np.exp((r - sigma*sigma/2)*T*np.ones(d)+sigma*np.sqrt(T)*g)\n",
        "        return(math.exp(-r*T)*np.maximum(S_T-K*np.ones(np.size(S_T)),np.zeros(np.size(S_T))))\n",
        "\n",
        "\n",
        "\n",
        "\n",
        "def approx_variance(Lambda,G):\n",
        "    # ATTENTION: G est un vecteur echantillon de gaussiennes\n",
        "    return(np.mean(np.exp(-Lambda*G+0.5*Lambda**2)*f(G)**2)-(np.mean(f(G))**2))\n",
        "\n",
        "U=np.random.normal(size=n)\n",
        "approx_variance(1,U)"
      ]
    },
    {
      "cell_type": "markdown",
      "id": "9648beb8",
      "metadata": {
        "id": "9648beb8"
      },
      "source": [
        "Nous allons voir maintenant quel est le $\\lambda$ qui minimise la variance de $X_{\\lambda}$\n",
        "\n",
        "Soit $S_N=\\frac{\\sum_{n=0}^NVar\\{X_{\\lambda}\\}_n}{N}$\n",
        "\n",
        "On a alors,\n",
        "\n",
        "$$S_{N+1}-S_N=\\frac{\\sum_{n=0}^{N+1}Var\\{X_{\\lambda}\\}_n}{N+1}-\\frac{\\sum_{n=0}^NVar\\{X_{\\lambda}\\}_n}{N}$$\n",
        "\n",
        "donc,\n",
        "\n",
        "$$S_{N+1}-S_N=\\frac{NVar\\{X_{\\lambda}\\}_{N+1}-\\sum_{n=0}^NVar\\{X_{\\lambda}\\}_n}{N(N+1)}=-\\frac{1}{N+1}(S_N-Var\\{X_{\\lambda}\\}_{N+1})$$\n",
        "\n",
        "donc,\n",
        "\n",
        "$$S_{N+1}=S_N-\\frac{1}{N+1}(S_N-Var\\{X_{\\lambda}\\}_{N+1})$$"
      ]
    },
    {
      "cell_type": "code",
      "execution_count": 34,
      "id": "67f8c197",
      "metadata": {
        "id": "67f8c197",
        "outputId": "2300d76e-1437-402d-b351-c0a6f4465e56",
        "colab": {
          "base_uri": "https://localhost:8080/",
          "height": 430
        }
      },
      "outputs": [
        {
          "output_type": "display_data",
          "data": {
            "text/plain": [
              "<Figure size 640x480 with 1 Axes>"
            ],
            "image/png": "[encoded data removed]"
          },
          "metadata": {}
        }
      ],
      "source": [
        "Lambda = np.linspace(0,2.6,n)\n",
        "z=np.zeros(np.size(Lambda));\n",
        "U=np.random.normal(size=n);\n",
        "mean=np.zeros(np.size(Lambda))\n",
        "for j in range(500):\n",
        "    U=np.random.normal(size=n);\n",
        "    z=np.zeros(np.size(Lambda));\n",
        "    for i in range(np.size(Lambda)):\n",
        "        z[i]=approx_variance(Lambda[i],U)\n",
        "        mean[i]=mean[i]-1/(j+1)*(mean[i]-z[i])\n",
        "# plt.plot(Lambda,z,'red');\n",
        "plt.plot(Lambda,mean,'black');"
      ]
    },
    {
      "cell_type": "markdown",
      "id": "05ce6aad",
      "metadata": {
        "id": "05ce6aad"
      },
      "source": [
        "**Proposition :** *la dérivée peut s'écrire sous les deux formes suivantes*\\n,\n",
        "$$\\frac{\\partial}{\\partial \\lambda}Var\\left(X_\\lambda\\right)\n",
        "           =  \\mathbb{E}\\left\\{(\\lambda - G)e^{-\\lambda G + \\frac{\\lambda^2}{2}} f^2(G)\\right\\}\n",
        "           =  - \\mathbb{E}\\left\\{ G e^{-2\\lambda G - \\lambda^2} f^2(G+\\lambda)\\right\\}$$\n",
        "On a\n",
        "$$\\begin{align*}\n",
        "\\frac{\\partial}{\\partial \\lambda}Var\\left(X_\\lambda\\right)&= \\frac{\\partial}{\\partial \\lambda}\\mathbb{E}\\left\\{e^{-\\lambda G+\\frac{\\lambda^2}{2}}f^2(G)\\right\\}=\\mathbb{E}\\left\\{(\\lambda - G)e^{-\\lambda G + \\frac{\\lambda^2}{2}} f^2(G)\\right\\}\n",
        "\\end{align*}$$,\n",
        "\n",
        "D'autre part, avec $h(x)=(\\lambda - x)e^{-\\lambda G + \\frac{\\lambda^2}{2}} f^2(x)$,\n",
        "\n",
        "$$\\begin{align*},\n",
        "\\mathbb{E}\\left\\{(\\lambda - G)e^{-\\lambda G + \\frac{\\lambda^2}{2}} f^2(G)\\right\\}&= \\mathbb{E}\\left\\{h(G)\\right\\}\\\\\n",
        "&=\\mathbb{E}\\left\\{e^{-\\lambda G - \\frac{\\lambda^2}{2}} h(G+\\lambda)\\right\\}\\\\\n",
        "&= - \\mathbb{E}\\left\\{ G e^{-2\\lambda G - \\lambda^2} f^2(G+\\lambda)\\right\\}\n",
        "\\end{align*}$$\n",
        "\n",
        "On vérifie ce fait par simulation en tracant les deux approximationsn Monte-Carlo de la dérivées."
      ]
    },
    {
      "cell_type": "markdown",
      "id": "af431d2b",
      "metadata": {
        "id": "af431d2b"
      },
      "source": [
        "On chercher à résoudre $\\frac{\\partial}{\\partial \\lambda}Var\\left(X_\\lambda \\right)=0$ en utilisant la première représentation de la dérivée. \\n\",\n",
        "\n",
        "\n",
        "\n",
        "Pour cela, on pose $X_0=0$, puis,\n",
        "$$X_{n+1}=X_n-\\gamma_n (X_n - G_{n+1})e^{-X_n G_{n+1} + \\frac{X_n^2}{2}} f^2(G_{n+1})$$,\n",
        "Ou bien,\n",
        "\n",
        "$$X_{n+1}=X_n +\\gamma_n G_{n+1} e^{-2X_n G_{n+1} - X_n^2} f^2(G_{n+1}+X_n)$$\n",
        "\n",
        "\n",
        "On remarque alors que l'algorithme ne converge pas, $f$ n'est pas continue ?\n",
        "\n",
        "On implémente cet algorithme en ramenant  $X_n$ une valeur initiale commune lorsque $X_n$ dépasse la valeur de  5  (procédure dite de *projection de Chen*). On peut voir que l'algorithme converge"
      ]
    },
    {
      "cell_type": "code",
      "execution_count": 35,
      "id": "8f52ef39",
      "metadata": {
        "id": "8f52ef39",
        "outputId": "dd726c28-61f4-4ee7-f876-f1c304f88f7e",
        "colab": {
          "base_uri": "https://localhost:8080/",
          "height": 430
        }
      },
      "outputs": [
        {
          "output_type": "display_data",
          "data": {
            "text/plain": [
              "<Figure size 640x480 with 1 Axes>"
            ],
            "image/png": "[encoded data removed]"
          },
          "metadata": {}
        }
      ],
      "source": [
        "def approx_1_derivee_variance(Lambda):\n",
        "    #G=np.random.normal(size=2000)\n",
        "    Y=(Lambda-G)*np.exp(-Lambda*G+Lambda**2*0.5)*f(G)**2\n",
        "    return np.mean(Y)\n",
        "\n",
        "def approx_2_derivee_variance(Lambda):\n",
        "    #G=np.random.normal(size=2000)\n",
        "    Y=-G*np.exp(-2*Lambda*G-Lambda**2)*f(G+Lambda)**2\n",
        "    return np.mean(Y)\n",
        "\n",
        "\n",
        "K=100;\n",
        "Lambda=np.linspace(0,3,n)\n",
        "z1=np.zeros(np.size(Lambda));\n",
        "z2=np.zeros(np.size(Lambda));\n",
        "G=np.random.normal(size=n);\n",
        "mean=np.zeros(np.size(Lambda))\n",
        "for i in range(np.size(Lambda)):\n",
        "    z1[i]=approx_1_derivee_variance(Lambda[i]);\n",
        "    z2[i]=approx_2_derivee_variance(Lambda[i]);\n",
        "plt.plot(Lambda,z1,'red');\n",
        "plt.plot(Lambda,z2,'black');"
      ]
    },
    {
      "cell_type": "code",
      "execution_count": 36,
      "id": "5edee5ad",
      "metadata": {
        "id": "5edee5ad",
        "outputId": "f3e70558-5464-480c-d8b3-e5aad4b73911",
        "colab": {
          "base_uri": "https://localhost:8080/",
          "height": 430
        }
      },
      "outputs": [
        {
          "output_type": "display_data",
          "data": {
            "text/plain": [
              "<Figure size 640x480 with 1 Axes>"
            ],
            "image/png": "[encoded data removed]"
          },
          "metadata": {}
        }
      ],
      "source": [
        "\n",
        "z=np.zeros(1000);\n",
        "for i in range(1000):\n",
        "    U=np.random.normal(size=n);\n",
        "    X=algorithme_rm_chen(0.1,MAX,n,F_BS,U)\n",
        "    z[i]=X[-1]\n",
        "\n",
        "# La densité gaussienne de référence\n",
        "x = np.linspace(-1,1,1000)\n",
        "densiteGaussienne = 1./(0.05*np.sqrt(2*np.pi))*np.exp(-0.5*((x-sigma_prim)/0.05)**2)\n",
        "plt.plot(x, densiteGaussienne,color='black', label=\"densite gaussienne\")\n",
        "plt.legend(loc=\"best\")\n",
        "\n",
        "plt.hist(z, color=\"red\", density=\"True\", bins=100, label=\"erreur normalisee\");"
      ]
    },
    {
      "cell_type": "markdown",
      "id": "f639ccd3",
      "metadata": {
        "id": "f639ccd3"
      },
      "source": [
        "***********************\n",
        "**Théorème:**(Loi des grands nombres pour les martingale)\n",
        "\n",
        "Soit $(S_n)_{n\\geq0}$ une martingale de carrée integrable, on a alors:\n",
        "\n",
        " +*Sur* $\\langle S\\rangle_\\infty:=\\lim_{n\\rightarrow \\infty}\\langle S\\rangle_n<\\infty$ $S_n$ *converge présque surement vers une variable :$S_\\infty$,\n",
        "\n",
        "+*Sur* $\\{\\langle S\\rangle_\\infty=\\infty\\}$\n",
        "          $$\\lim_{n\\rightarrow\\infty}\\frac{S_n}{\\langle S\\rangle_n}=0 \\text{ , p.s}$$\n",
        "\n",
        "En plus, si $a(t)$ est une fonction positive, croissante telle que\n",
        "\n",
        "$\\int_0^{\\infty}\\frac{dt}{1+a(t)}<\\infty$,\n",
        "alors,\n",
        "       $$\\lim_{n\\rightarrow \\infty}\\frac{S_n}{\\sqrt{a(\\langle S\\rangle_n)}}=0\\text{ , p.s}$$\n",
        "   \n",
        "***********************   \n",
        "\n",
        "***********************\n",
        "\n",
        "**Proposition:** Avec les même notations, on pose $S_0=0$ et $S_n=nM_n, \\forall n >0$, alors $(S_n)_{n\\geq0}$ est une martingale,et $\\langle S\\rangle_n=n\\left(\\mathbb{E}\\left\\{g(G)\\right\\}-\\mathbb{E}\\{f(G)\\}^2\\right)$\n",
        "\n",
        "***********************\n",
        "On a\n",
        "\n",
        "$$\\begin{align*}\n",
        "        \\mathbb{E}\\left\\{S_{n+1}\\mid\\mathcal{F}_n\\right\\}&=\\mathbb{E}\\left\\{V_1+...+V_V+V_{n+1}\\mid\\mathcal{F}_n\\right\\}\\\\\n",
        " &=V_1+...+V_n+0=S_n\n",
        " \\end{align*}$$\n",
        "\n",
        "\n",
        "Donc $(S_n)_{n\\\\geq0}$ est une martingale, en plus $\\langle S\\rangle_0=0$, et $\\forall n>0$\n",
        "\n",
        "\n",
        "Avec $g(x)=e^{-\\lambda x+\\frac{\\lambda^2}{2}}f^2(x)$,\n",
        "\n",
        "$$\\langle S\\rangle_{n+1}-\\langle S\\rangle_n=\\mathbb{E}\\left\\{(S_{n+1}-S_n)^2\\mid\\mathcal{F}_n\\right\\}=Var\\{V_{n+1}\\}=\\mathbb{E}\\left\\{g(G)\\right\\}-\\mathbb{E}\\{f(G)\\}^2$$\n",
        "\n",
        "Donc\n",
        "\n",
        "\n",
        "$$\\langle S\\rangle_n=\\sum_{k=0}^{n-1}\\langle S\\rangle_{k+1}-\\langle S\\rangle_k=n\\left(\\mathbb{E}\\left\\{g(G)\\right\\}-\\mathbb{E}\\{f(G)\\}^2\\right)$$\n",
        "\n",
        "\n",
        "\n",
        "Donc $\\langle S\\rangle_\\infty=\\infty$, et en utilisant le théorème précédant on retrouve la loi forte des grands nombre. \\n\",\n",
        "\n",
        "On a alors\n",
        "$$\\lim_{n\\rightarrow\\infty}\\frac{V_1+...+V_n}{n\\left(\\mathbb{E}\\left\\{g(G)\\right\\}-\\mathbb{E}\\{f(G)\\}^2\\right)}=0 \\text{  p.s}$$\n"
      ]
    },
    {
      "cell_type": "markdown",
      "id": "af01a9e4",
      "metadata": {
        "id": "af01a9e4"
      },
      "source": [
        "**Remarque:**   Pour avoir une idéé sur la vitésse de convergence, on utilise la fonction $a(t)=Ct^{2-\\beta}$,  on trouve alors en faisant les changements de variables $k=2-\\beta$ et dans l'integration $u=(C^{\\frac{1}{k}}t)$ et $x=\\frac{1}{1+u^k}$  que:,\n",
        "\n",
        "$$\\begin{align*}\n",
        "\\int_0^\\infty\\frac{dt}{1+a(t)}&=C^{\\frac{-1}{k}}\\int_0^\\infty\\frac{du}{1+u^k}\\\\\n",
        "  &=\\frac{C^{\\frac{-1}{k}}}{k}\\int_0^1x^{(1-\\frac{1}{k})-1}(1-x)^{\\frac{1}{k}-1}dx\\\\\n",
        "  &=\\frac{C^{\\frac{-1}{k}}}{k}\\beta\\left(\\frac{1}{k},1-\\frac{1}{k}\\right)<\\infty\n",
        "\\end{align*}$$\n",
        "\n",
        "On a alors avec $\\gamma_n=\\frac{C}{n^\\beta}$,\n",
        "\n",
        "$$\\lim_{n\\rightarrow\\infty}\\frac{S_n}{\\sqrt{a(\\langle S \\rangle_n)}}=0 \\text{ , p.s}$$\",\n",
        "        "
      ]
    },
    {
      "cell_type": "code",
      "execution_count": 65,
      "id": "800974be",
      "metadata": {
        "id": "800974be",
        "outputId": "8b97e2a0-8de2-4409-d364-c502847cb100",
        "colab": {
          "base_uri": "https://localhost:8080/"
        }
      },
      "outputs": [
        {
          "output_type": "execute_result",
          "data": {
            "text/plain": [
              "np.float64(21588.56374979055)"
            ]
          },
          "metadata": {},
          "execution_count": 65
        }
      ],
      "source": [
        "sigma=sigma_prim\n",
        "T=1\n",
        "x=100\n",
        "K=100\n",
        "n=1000\n",
        "N=1000\n",
        "def f1(g):\n",
        "    d=np.size(g);\n",
        "    S_T=np.zeros(d);\n",
        "    S_T= x * np.exp((r - sigma*sigma/2)*T*np.ones(d)+sigma*np.sqrt(T)*g);\n",
        "    return(math.exp(-r*T)*np.maximum(S_T-K*np.ones(np.size(S_T)),np.zeros(np.size(S_T))));\n",
        "\n",
        "def f(g):\n",
        "    if(isinstance(g,float) or isinstance(g,int)):\n",
        "        ST=0;\n",
        "        ST=float( x * exp((r - sigma*sigma/2)*T+sigma*math.sqrt(T)*g));\n",
        "        return(exp(-r*T)*max(ST-K,0))\n",
        "    else:\n",
        "        d=np.size(g)\n",
        "        S_T=np.zeros(d)\n",
        "        S_T= x * np.exp((r - sigma*sigma/2)*T*np.ones(d)+sigma*np.sqrt(T)*g)\n",
        "        return(math.exp(-r*T)*np.maximum(S_T-K*np.ones(np.size(S_T)),np.zeros(np.size(S_T))))\n",
        "\n",
        "\n",
        "\n",
        "\n",
        "def approx_variance(Lambda,G):\n",
        "\n",
        "    return(np.mean(np.exp(-Lambda*G+0.5*Lambda**2)*f(G)**2)-(np.mean(f(G))**2))\n",
        "U=np.random.normal(size=n)\n",
        "\n",
        "u=approx_variance(4,U)\n",
        "u"
      ]
    },
    {
      "cell_type": "code",
      "execution_count": null,
      "id": "e592e021",
      "metadata": {
        "id": "e592e021",
        "outputId": "1f179d2b-6b5f-40ab-90d4-282875871311"
      },
      "outputs": [
        {
          "data": {
            "text/plain": [
              "[3, 4, 5, 6]"
            ]
          },
          "execution_count": 38,
          "metadata": {},
          "output_type": "execute_result"
        }
      ],
      "source": [
        "[1,2,3,4,5,6][2:]"
      ]
    },
    {
      "cell_type": "code",
      "execution_count": 78,
      "id": "68b580cc",
      "metadata": {
        "id": "68b580cc",
        "outputId": "a42eacb2-ab8c-452d-a6fe-2dc9d7841998",
        "colab": {
          "base_uri": "https://localhost:8080/",
          "height": 450
        }
      },
      "outputs": [
        {
          "output_type": "execute_result",
          "data": {
            "text/plain": [
              "[<matplotlib.lines.Line2D at 0x7c2e4f1059d0>]"
            ]
          },
          "metadata": {},
          "execution_count": 78
        },
        {
          "output_type": "display_data",
          "data": {
            "text/plain": [
              "<Figure size 640x480 with 1 Axes>"
            ],
            "image/png": "[encoded data removed]"
          },
          "metadata": {}
        }
      ],
      "source": [
        "beta=0.05\n",
        "c=1\n",
        "\n",
        "G=np.random.normal(size=n)\n",
        "\n",
        "def a(t):\n",
        "    return c*t**(2-beta)\n",
        "P=[]\n",
        "Q=[]\n",
        "\n",
        "N=3000\n",
        "G2=list(np.random.normal(size=N))\n",
        "Mn=[F_BS(sigma_prim,g)/u for g in G2]\n",
        "P=np.cumsum(Mn)/np.arange(1,N+1)\n",
        "plt.plot(P,'red')\n",
        "U=[F_BS(sigma_prim,g) for g in G2]\n",
        "Q=np.cumsum(U)/[np.sqrt(a(i*u)) for i in np.arange(1,N+1)]\n",
        "plt.plot(Q,'black')"
      ]
    },
    {
      "cell_type": "markdown",
      "id": "3d7aeb03",
      "metadata": {
        "id": "3d7aeb03"
      },
      "source": [
        "# Equation de la chaleur et pricing de Call Europeen\n",
        "\n",
        "On suppose toujours que la dynamique d'une action A suit est la suivante\n",
        "\n",
        "$$dS_t=S_t\\left(rdt+\\sigma dB_t\\right)$$\n",
        "\n",
        "$$$$"
      ]
    },
    {
      "cell_type": "code",
      "execution_count": 86,
      "id": "a104ce9d",
      "metadata": {
        "id": "a104ce9d",
        "outputId": "158593ba-d243-4fb9-d4d5-dc6f8f9a2117",
        "colab": {
          "base_uri": "https://localhost:8080/",
          "height": 450
        }
      },
      "outputs": [
        {
          "output_type": "execute_result",
          "data": {
            "text/plain": [
              "[<matplotlib.lines.Line2D at 0x7c2e4ee5f9d0>]"
            ]
          },
          "metadata": {},
          "execution_count": 86
        },
        {
          "output_type": "display_data",
          "data": {
            "text/plain": [
              "<Figure size 640x480 with 1 Axes>"
            ],
            "image/png": "[encoded data removed]"
          },
          "metadata": {}
        }
      ],
      "source": [
        "dt=0.001\n",
        "G=list(np.random.normal(0,1,size=600))\n",
        "S=[S_0]\n",
        "\n",
        "for i in range(0,len(G)):\n",
        "    S.append(S[i]+S[i]*(r*dt+sigma_h*G[i]*1*dt**0.5))\n",
        "\n",
        "plt.plot(S,'red')"
      ]
    },
    {
      "cell_type": "markdown",
      "id": "999514b7",
      "metadata": {
        "id": "999514b7"
      },
      "source": [
        "\n",
        "\n",
        "soit maintenant la fonction:\n",
        "\n",
        "$$u(t,S_t):=\\mathbb{E}\\big\\{e^{-r(T-t)}f(S_T)\\mid\\mathbb{F}_t\\big\\}$$\n",
        "\n",
        "et soit\n",
        "\n",
        "$$Z_t:=e^{-rt}u(t,S_t)=\\mathbb{E}\\big\\{e^{-rT}f(S_T)\\mid\\mathbb{F}_t\\big\\}$$\n",
        "\n",
        "Alors $Z_t$ est une martingale, en effet on a pour $s\\leq t$:\n",
        "\n",
        "$$\\mathbb{E}\\big\\{Z_t\\mid\\mathbb{F}_s\\big\\}=\\mathbb{E}\\big\\{\\mathbb{E}\\big\\{e^{-rT}f(S_T)\\mid\\mathbb{F}_t\\big\\}\\mid\\mathbb{F}_s\\big\\}=\\mathbb{E}\\big\\{e^{-rT}f(S_T)\\mid\\mathbb{F}_s\\big\\}=Z_s$$\n",
        "\n",
        "d'autre part on a d'apres le lemme d'Ito,\n",
        "\n",
        "$$dZ_t=e^{-rt}\\big\\{\\partial_tu+rS_t\\partial_xu+\\frac{1}{2}\\sigma^2S^{2}_t\\partial^{2}_xu-ru\\big\\}dt+e^{-rt}\\sigma S_tdB_t$$\n",
        "\n",
        "or $Z_t$ est une martingale, donc,\n",
        "$$\\partial_tu+rS_t\\partial_xu+\\frac{1}{2}\\sigma^2S^{2}_t\\partial^{2}_xu-ru=0$$\n",
        "\n",
        "## discretisation avec différences finies\n",
        " soit une discretisation du temps et du prix :\n",
        " $$\\begin{cases}\n",
        "      t_0\\leq t_1\\leq ...\\leq t_n \\leq...\\leq t_N=T\\\\\n",
        "      0\\leq 1\\leq ...\\leq j\\leq...\\leq 2K &\n",
        "    \\end{cases}$$\n",
        "\n",
        "On aproxime la solution $u(t_n,j)$ avec la discretisation suivante\n",
        "\n",
        "\n",
        " $$\\begin{cases}\n",
        "      \\partial_tu =\\frac{u^{t+1}_j-u^t_j}{dt} \\\\\n",
        "      \\partial_xu =\\frac{u^t_{j+1}-u^t_{j-1}}{2dx}\\\\\n",
        "      \\partial^{2}_xu=\\frac{u^t_{j+1}+u^t_j-2u^t_{j-1}}{dx^2}\n",
        "    \\end{cases}$$\n",
        "    \n",
        "On remplace dans notre équation et on trouve\n",
        "\n",
        "$$u^{t+1}_j=u^t_{j-1}\\big(\\frac{v_1c_1}{2}+v_2c_2\\big)+u^t_j\\big(1+v_1c_1+rdt\\big)+u^t_{j+1}\\big(\\frac{v_1c_1}{2}-\\frac{v_2c_2}{2}\\big)$$\n",
        "\n",
        "avec\n",
        "\n",
        "$$\\begin{cases}\n",
        "      v_1=\\frac{dt}{dx^2} \\\\\n",
        "      v_2=\\frac{dt}{dx}\\\\\n",
        "      c_1=\\sigma^2S^{2}\\\\\n",
        "      c_2=rS\n",
        "    \\end{cases}$$"
      ]
    },
    {
      "cell_type": "code",
      "execution_count": 45,
      "id": "e0cfe2ec",
      "metadata": {
        "id": "e0cfe2ec",
        "outputId": "058ac66c-824e-47c9-ffd9-9336fc9d21ac",
        "colab": {
          "base_uri": "https://localhost:8080/",
          "height": 663
        }
      },
      "outputs": [
        {
          "output_type": "stream",
          "name": "stdout",
          "text": [
            "True\n"
          ]
        },
        {
          "output_type": "stream",
          "name": "stderr",
          "text": [
            "/tmp/ipython-input-45-1365026858.py:35: RuntimeWarning: overflow encountered in scalar multiply\n",
            "  u[s_steps] = 2*u[s_steps-1] - u[s_steps-2]\n",
            "/tmp/ipython-input-45-1365026858.py:31: RuntimeWarning: overflow encountered in scalar add\n",
            "  u[j] = temp1*u_prev[j-1] + temp2*u_prev[j] + temp3*u_prev[j+1]\n",
            "/tmp/ipython-input-45-1365026858.py:35: RuntimeWarning: invalid value encountered in scalar subtract\n",
            "  u[s_steps] = 2*u[s_steps-1] - u[s_steps-2]\n",
            "/tmp/ipython-input-45-1365026858.py:31: RuntimeWarning: overflow encountered in scalar multiply\n",
            "  u[j] = temp1*u_prev[j-1] + temp2*u_prev[j] + temp3*u_prev[j+1]\n",
            "/tmp/ipython-input-45-1365026858.py:55: RuntimeWarning: divide by zero encountered in log\n",
            "  d1 = 1/(vol*sqrt(time_max))*log(s/strike) + (r + vol**2/2)*time_max\n"
          ]
        },
        {
          "output_type": "display_data",
          "data": {
            "text/plain": [
              "<Figure size 640x480 with 1 Axes>"
            ],
            "image/png": "[encoded data removed]"
          },
          "metadata": {}
        }
      ],
      "source": [
        "from numpy import *\n",
        "import matplotlib.pyplot as plt\n",
        "from matplotlib import cm\n",
        "from scipy.stats import norm\n",
        "\n",
        "\n",
        "\n",
        "\n",
        "def fdm_call(vol, r, strike):\n",
        "\n",
        "    print(dt <= 1/(vol**2*s_steps**2))\n",
        "\n",
        "    spanS = [startS+s*ds for s in range(s_steps+1)]\n",
        "    u = [max(s - strike, 0) for s in spanS]\n",
        "\n",
        "    v1 = dt/ds**2\n",
        "    v2 = dt/ds\n",
        "\n",
        "\n",
        "    soln_grid = []\n",
        "    for i in range(t_steps+1):\n",
        "        u_prev = u\n",
        "        for j in range(1, s_steps):\n",
        "            coeff = vol**2*spanS[j]**2\n",
        "            coeff1 = r*spanS[j]\n",
        "\n",
        "            temp1 = v1*coeff/2 + v2*coeff1\n",
        "            temp2 = 1 + v1*coeff + dt*r\n",
        "            temp3 = v1*coeff/2 - v2*coeff1/2\n",
        "\n",
        "            u[j] = temp1*u_prev[j-1] + temp2*u_prev[j] + temp3*u_prev[j+1]\n",
        "\n",
        "\n",
        "        u[0] = 0\n",
        "        u[s_steps] = 2*u[s_steps-1] - u[s_steps-2]\n",
        "\n",
        "        soln_grid.append(array(u))\n",
        "\n",
        "\n",
        "\n",
        "\n",
        "    def F_BS(x,U,S_0):\n",
        "      if S_0*np.exp((r-0.5*x**2)*T+x*np.sqrt(T)*U)-K>0:\n",
        "        return np.exp(-r*T)*(S_0*np.exp((r-0.5*x**2)*T+x*np.sqrt(T)*U)-K)\n",
        "      else:\n",
        "        return 0\n",
        "\n",
        "    MC_sol=[]\n",
        "    bs_soln = []\n",
        "\n",
        "    for s in spanS:\n",
        "        G=np.random.normal(size=600)\n",
        "        MC_sol.append(np.mean([F_BS(sigma_prim,g,s) for g in G]))\n",
        "\n",
        "        d1 = 1/(vol*sqrt(time_max))*log(s/strike) + (r + vol**2/2)*time_max\n",
        "        d2 = d1-vol*sqrt(time_max)\n",
        "        val = norm.cdf(d1)*s-norm.cdf(d2)*strike*exp(-r*time_max)\n",
        "        bs_soln.append(val)\n",
        "\n",
        "    return spanS, soln_grid, bs_soln, MC_sol\n",
        "\n",
        "\n",
        "\n",
        "\n",
        "def graphs(spanS,soln_grid,bs_soln,mc_sol,option):\n",
        "    final_soln = soln_grid[len(soln_grid)-1]\n",
        "    plt.plot(spanS, final_soln,'yellow', label = 'FDM')\n",
        "    plt.plot(spanS, mc_sol,'red', label = 'MC Solution')\n",
        "    plt.plot(spanS, bs_soln,'black', label = 'Solution')\n",
        "\n",
        "    plt.plot()\n",
        "    plt.legend(loc=2)\n",
        "    plt.xlabel(\"Stock price\")\n",
        "    plt.ylabel(\"Option price\")\n",
        "    plt.title(option)\n",
        "\n",
        "\n",
        "\n",
        "\n",
        "vol = sigma_prim\n",
        "\n",
        "strike = K\n",
        "\n",
        "\n",
        "time_max = 1\n",
        "dt = .0001\n",
        "\n",
        "startS = 0\n",
        "endS = 2 * strike\n",
        "ds = 1\n",
        "\n",
        "s_steps = int((endS-startS)/ds)\n",
        "\n",
        "t_steps = int(time_max/dt)\n",
        "\n",
        "\n",
        "spanS, soln_grid_C, bs_soln_C, MC_sol = fdm_call(vol,r,strike)\n",
        "graphs(spanS,soln_grid_C,bs_soln_C,MC_sol,\"Call\")\n"
      ]
    },
    {
      "cell_type": "markdown",
      "id": "f3ca0a4e",
      "metadata": {
        "id": "f3ca0a4e"
      },
      "source": [
        "# Systeme de particules\n",
        "\n",
        "Soit\n",
        "\n",
        "$$X_t=log(St)$$\n",
        "\n",
        "\n",
        "Alors,\n",
        "\n",
        "$$dX_t=\\mu dt+\\sigma dB_t$$\n",
        "\n",
        "On definit alors la suite\n",
        "\n",
        "$$X_{k+1}=X_k+\\mu dt +Y_k \\text{ou , }Y_k \\sim N(0,\\sigma^2 d t)$$\n",
        "\n",
        "On veut estimer la probalilité:\n",
        "\n",
        "$$p=\\mathbb{P}\\big(X_T> x\\big) \\text{, avec,  } x=log(K)$$\n",
        "**************\n",
        "**Theorem de Radon-Nikodym**\n",
        "\n",
        "Soient $(\\Omega, \\mathbb{F}, \\mu)$ un espace mesuré $\\sigma$ fini et $\\eta$ une mesure sur $(\\Omega, \\mathbb{F})$\n",
        "Si $\\eta$ absolument continue par rapport à $\\mu$, alors si il existe une fonction $f$ $\\mathbb{F}$-Mesurable telle que\n",
        "\n",
        "$$\\eta (A)=\\int_A f d\\mu$$\n",
        "\n",
        "La fonction f est appeleé dérivé de Radon Nikodym et\n",
        "\n",
        "$$f=\\frac{d\\eta}{d\\mu}$$\n",
        "\n",
        "*****************\n",
        "\n",
        "**Preuve**\n",
        "\n",
        "\n",
        "On veut montrer qu'il existe une fonction  $f\\in L^1(\\mu)$ telle que\n",
        "\n",
        "$$∀ A\\in \\mathbb{F}, ∫_Afd\\mu=\\eta (A)$$\n",
        "Definisons l'operateur $T$ sur $L^{∞}(\\mu)$\n",
        "$$\\forall \\phi\\in L^{∞}(\\mu), T(\\phi)=∫_X\\phi d\\eta$$\n",
        "\n",
        "Alors\n",
        "+ $T$ est bien defini car $\\phi$ est borné et $\\eta$ est une mesure finie\n",
        "+ $T$ est un operateur positif\n",
        "+$T$ est continu car $\\mid T(\\phi)\\mid=\\mid∫_X\\phi d\\eta\\mid\\leq\\mid\\mid\\phi\\mid\\mid_{∞}\\eta(X)$\n",
        "\n",
        "Le Theoreme de representation de Riesz pour l'espace $L^{∞}(\\mu)$ affirme que tout operateur continue positif sur $L^{∞}(\\mu)$ est donné par l'integration contre une fonction;\n",
        "\n",
        " $$∃f\\in L^1(\\mu)\\text{ telle que }∀\\phi\\in L^{∞}(\\mu), T(\\phi)=∫_Xf\\phi d\\mu$$\n",
        "\n",
        " en prenant $\\phi=\\mathbb{1}_A$ on trouve que\n",
        " $$∫_Afd\\mu=\\eta (A)$$\n",
        "\n",
        "maintenant, pour l'unicité de $f$, on suppose $f_1, f_2$ telles que\n",
        "\n",
        "$$\\eta (A)=∫_Af_1d\\mu=∫_Af_2d\\mu$$\n",
        "\n",
        "donc,\n",
        "\n",
        "$$0=∫_A(f_1-f_2)d\\mu$$\n",
        "\n",
        "Donc $f$ est unique $\\mu$ $P.P$\n",
        "\n",
        "\n",
        "**********************\n",
        "**Theorem de Riesz**\n",
        "\n",
        "Soit $ (X,\\mathbb{F},\\mu)$ un espace mesuré avec $\\mu$ une mesure positive.\n",
        "Soit\n",
        "\n",
        "$$T: L^{∞}(\\mu)→\\mathbb{R}$$\n",
        "Un fonctionel lineaire, continue et positif\n",
        "\n",
        "Alors, il existe une fonction $f\\in  L^{1}(\\mu)$, $f\\geq0$\n",
        "\n",
        "presque partouttelle que:\n",
        "\n",
        "$$∀\\phi\\in  L^{∞}(\\mu), T(\\phi)=∫_Xf\\phi d\\mu$$\n",
        "****************\n",
        "**Preuve**\n",
        "\n",
        "\n",
        "\n",
        "**A : Construction des partition $P_n=\\{A^{(n)}_j\\}_{j=0}^{N^n}$ tels que**\n",
        "\n",
        "+ Chaque $A^{(n)}_j$ est reunion d'elements de $P_{n+1}$\n",
        "+  On suppose que $𝑼_{n}P_n$ engendre la tribu $\\mathbb{F}$\n",
        "\n",
        "+ sur chaque partition $A^{(n)}_j$ on definit :\n",
        "\n",
        "$$f_n(x)=\\frac{T(\\mathbb{1}_{A^{(n)}_j})}{\\mu(A^{(n)}_j)} \\text{, si }x\\in A^{(n)}_j$$\n",
        "\n",
        "**B : Propriétés de la suite $(f_n)_n$**\n",
        "\n",
        " chaque $f_n$ est une fonction simple mesurable, constante sur chaque $A^{(n)}_j$\n",
        "\n",
        "Par positivité de $T$ on a,\n",
        "\n",
        "$$f_n(x)\\geq 0,   \\text{ $\\mu$ P.P}$$\n",
        "\n",
        "On a aussi\n",
        "\n",
        "$$\\begin{align*}\n",
        "\\mid\\mid f_n\\mid\\mid_{L^{∞}(\\mu)}&=\\sum_jf_n(x_j)\\mu(A^{(n)}_j)\\\\\n",
        "  &=\\sum_jT(\\mathbb{1}_{A^{(n)}_j})\\\\\n",
        "  &=T\\Big(\\sum_j\\mathbb{1}_{A^{(n)}_j}\\Big)\\\\\n",
        "  &=T(1)<\\infty\n",
        "\\end{align*}$$\n",
        "\n",
        "**$f_n$ est une martingale, Montrons que**\n",
        "$$\\mathbb{E}\\Big\\{f_{n+1}\\mid \\mathbb{F}_n\\Big\\}(x)=f_n(x)$$\n",
        "\n",
        "Soit $x\\in A^{(n)}_j$, On a\n",
        "\n",
        "$$f_n(x)=\\frac{T(\\mathbb{1}_{A^{(n)}_j})}{\\mu(A^{(n)}_j)}$$\n",
        "\n",
        "Or,\n",
        "$$A^{(n)}_j=\\bigcup_{k\\in I_j}A^{(n+1)}_k$$\n",
        "\n",
        " Ou $I_j$ l'ensemble des indice $k$ tels que $A^{(n+1)}_k\\subset A^{(n)}_j $, et on a\n",
        "\n",
        " $$T(\\mathbb{1}_{A^{(n)}_j})=\\sum_{k\\in I_j}T(\\mathbb{1}_{A^{(n+1)}_k})$$\n",
        "\n",
        "Donc,\n",
        "\n",
        "$$f_n(x)=\\frac{\\sum_{k\\in I_j}T(\\mathbb{1}_{A^{(n+1)}_k})}{\\mu(A^{(n)}_j)}$$\n",
        "\n",
        "On a aussi pour $x\\in A^{(n+1)}_k\\subset A^{(n)}_j $\n",
        "\n",
        "$$f_{n+1}(x)=\\frac{T(\\mathbb{1}_{A^{(n+1)}_k})}{\\mu(A^{(n+1)}_k)}$$\n",
        "\n",
        "On a ,\n",
        "\n",
        "$$\\mathbb{E}\\Big\\{f_{n+1}\\mid \\mathbb{F}_n\\Big\\}(x)=\\frac{1}{\\mu(A^{(n)}_j)}∫_{A^{(n)}_j}f_{n+1}(y)d\\mu(y)$$\n",
        "\n",
        "Or, $f_n$ est constante sur chaque $A^{(n+1)}_k$, donc\n",
        "\n",
        "$$\\begin{align*}\n",
        "∫_{A^{(n)}_j}f_{n+1}(y)d\\mu(y)&=\\sum_{k\\in I_j}∫_{A^{(n+1)}_k}f_{n+1}(y)d\\mu(y)\\\\\n",
        "&=\\sum_{k\\in I_j}f_{n+1}(x_k)\\mu(A^{(n+1)}_k)\n",
        "\\end{align*}$$\n",
        "\n",
        "Don,\n",
        "\n",
        "$$\\begin{align*}\n",
        "\\mathbb{E}\\Big\\{f_{n+1}\\mid \\mathbb{F}_n\\Big\\}(x)&=\\frac{\\sum_{k\\in I_j}\\frac{T(\\mathbb{1}_{A^{(n+1)}_k})}{\\mu(A^{(n+1)}_k)}\\mu(A^{(n+1)}_k)}{\\mu(A^{(n)}_j)}\\\\\n",
        "&=\\frac{\\sum_{k\\in I_j}T(\\mathbb{1}_{A^{(n+1)}_k})}{\\mu(A^{(n)}_j)}\\\\\n",
        "&=\\frac{T(\\mathbb{1}_{A^{(n)}_j})}{\\mu(A^{(n)}_j)}\\\\\n",
        "&=f_n(x)\n",
        "\\end{align*}$$\n",
        "\n",
        "**Convergence p.p et $L^{1}(\\mu)$**\n",
        "\n",
        "avec le theoreme de convergence des martingales, la suite $f_n$ converge vers une fonction $f\\in L^{1}(\\mu)$\n",
        "\n",
        "**Representation de $T$**\n",
        "\n",
        "Pour toute fonction simple $\\phi$ mesurable\n",
        "\n",
        "$$\\begin{align*}\n",
        "T(\\phi)&=\\sum_j \\phi(x_j)T(\\mathbb{1}_{A^{(n)}_j})\\\\\n",
        "&=\\sum_j \\phi(x_j)f_n(x_j)\\mu(A^{(n)}_j)\\\\\n",
        "&=\\int_Xf_n\\phi d\\mu\n",
        "\\end{align*}$$\n",
        "Par passage à la limite, on trouve que\n",
        "$$T(\\phi)=\\int_Xf\\phi d\\mu$$\n",
        "enfin par densité des fonctions simple dans $L^{∞}(\\mu)$ on trouve que\n",
        "\n",
        "$$∀\\phi\\in L^{∞}(\\mu) , T(\\phi)=\\int_Xf\\phi d\\mu$$\n",
        "*********\n",
        "Dans notre cas on définit\n",
        "\n",
        "**la mesure $\\mathbb{P}$** La mesure sous laquelle\n",
        "\n",
        "$$X_t=log(S_t), \\text{ suit la dynamique suivante } dX_t = \\mu dt+\\sigma dB_t$$\n",
        "\n",
        "\n",
        "**la mesure $\\mathbb{Q}^\\theta$** La mesure sous laquelle le precessus suit la dynamique\n",
        "\n",
        "$$dX_t = (\\mu-\\sigma\\theta)dt+\\sigma dB_t$$\n",
        "\n",
        "\n",
        "\n",
        "avec\n",
        "\n",
        "$$\\theta=\\frac{x-log(S_0)-\\mu T}{\\sigma \\sqrt{T}}$$\n",
        "\n",
        "D'apres le theoreme de girsanov, la dérivé de Radon Nikodym est :\n",
        "\n",
        "$$L_T=\\frac{d\\mathbb{Q}^\\theta}{d\\mathbb{P}}=exp\\Big\\{\\theta\\int_0^TdB_s-\\frac{1}{2}\\theta^2T\\Big\\}$$\n",
        "\n",
        "en utilisant la propriéte d'Ito, on trouve que $\\int_0^TdB_s=B_T$, donc\n",
        "\n",
        "\n",
        "$$L_T=exp\\Big\\{\\theta B_T-\\frac{1}{2}\\theta^2T\\Big\\}$$\n",
        "\n",
        "et\n",
        "\n",
        "$$B_T=\\frac{X_T-X_0-\\mu T}{\\sigma}=\\frac{Y_T}{\\sigma}$$\n",
        "\n",
        "donc\n",
        "\n",
        "$$L_T=exp\\Big\\{\\theta \\frac{X_T-X_0-\\mu T}{\\sigma}-\\frac{1}{2}\\theta^2T\\Big\\}=exp\\Big\\{\\frac{\\theta}{\\sigma} Y_T-\\frac{1}{2}\\theta^2T\\Big\\}$$\n",
        "\n",
        "En utilisant le théorème de Raddon Nikodym on trouve que\n",
        "\n",
        "$$I=\\mathbb{E}^{\\mathbb{P}}\\Big\\{\\mathbb{1}_{\\{X_T>x\\}}\\Big\\}=\\mathbb{E}^{\\mathbb{Q}^{\\theta}}\\Big\\{\\frac{1}{L_T} \\mathbb{1}_{\\{X_T>x\\}}\\Big\\}$$\n",
        "\n",
        "\n",
        "\n",
        "et\n",
        "\n",
        "$$\\frac{1}{L_T}=exp\\Big\\{-\\theta \\frac{X_T-X_0-\\mu T}{\\sigma}+\\frac{1}{2}\\theta^2T\\Big\\}=exp\\Big\\{-\\frac{\\theta}{\\sigma} Y_T+\\frac{1}{2}\\theta^2T\\Big\\}$$\n",
        "\n",
        "\n",
        "$\\frac{1}{L_T}$ est bornée en moyenne:\n",
        "\n",
        "$$\\mathbb{E}^{\\mathbb{Q}^{\\theta}}\\Big\\{\\frac{1}{L_T}\\Big\\}=\\mathbb{E}^{\\mathbb{Q}^{\\theta}}\\Big\\{\\frac{d\\mathbb{P}}{\\mathbb{Q}^{\\theta}}\\Big\\}=1$$\n",
        "\n",
        "\n",
        "\n",
        "$$I=\\mathbb{E}^{\\mathbb{Q}^{\\theta}}\\Big\\{\\frac{1}{L_T} \\mathbb{1}_{\\{X_T>x\\}}\\Big\\}=\\mathbb{E}^{\\mathbb{Q}^{\\theta}}\\Big\\{exp\\Big\\{\\frac{-\\theta Y}{\\sigma}+\\frac{1}{2}\\theta^2T\\Big\\} \\mathbb{1}_{\\{X_T>x\\}}\\Big\\}=\\mathbb{E}^{\\mathbb{Q}^{\\theta}}\\Big\\{exp\\{\\frac{-\\theta Y}{\\sigma}\\} \\mathbb{1}_{\\{X_T>x\\}}\\Big\\}exp\\{\\frac{1}{2}\\theta^2T\\}$$\n",
        "\n",
        "## Convergence Monte Carlo\n",
        "\n",
        "\n",
        "\n",
        "$$\\prod^{n-1}_{k=0}\\frac{1}{M}\\sum_{j=1}^Mexp\\big\\{\\frac{\\theta}{\\sigma}Y_k^{(j)}\\big\\}$$\n",
        "\n",
        "$$\\text{ converge preseque surement vers, } exp\\{\\frac{1}{2}\\theta^2T\\}\\text { quand } n,M\\rightarrow \\infty$$\n",
        "\n",
        "d'une autre part,\n",
        "\n",
        "$$\\prod^{n-1}_{k=0}\\frac{1}{M}\\sum_{j=1}^Mexp\\big\\{\\frac{\\theta}{\\sigma} Y_k^{(j)}\\big\\}\\frac{1}{M}\\sum_{j=1}^M\\mathbb{1}_{\\{X_n^{(j)}>x\\}}exp(-\\frac{\\theta}{\\sigma} Y_n)$$\n",
        "\n",
        "$$\\text{ converge preseque surement vers, } I=\\mathbb{E}^{\\mathbb{Q}^{\\theta}}\\Big\\{exp\\{\\frac{-\\theta Y}{\\sigma}\\} \\mathbb{1}_{\\{X_T>x\\}}\\Big\\}exp\\{\\frac{1}{2}\\theta^2T\\}=\\mathbb{E}^{\\mathbb{Q}^{\\theta}}\\Big\\{\\frac{1}{L_T} \\mathbb{1}_{\\{X_T>x\\}}\\Big\\}\\text { quand } n,M\\rightarrow \\infty$$\n"
      ]
    },
    {
      "cell_type": "markdown",
      "id": "cc2304b9",
      "metadata": {
        "id": "cc2304b9"
      },
      "source": []
    },
    {
      "cell_type": "code",
      "execution_count": null,
      "id": "f056412a",
      "metadata": {
        "id": "f056412a",
        "outputId": "c08f619a-9f1d-4c1f-dcec-4e337b70b210"
      },
      "outputs": [
        {
          "data": {
            "text/plain": [
              "[<matplotlib.lines.Line2D at 0x21bfb1d9d90>]"
            ]
          },
          "execution_count": 100,
          "metadata": {},
          "output_type": "execute_result"
        },
        {
          "data": {
            "image/png": "[encoded data removed]",
            "text/plain": [
              "<Figure size 640x480 with 1 Axes>"
            ]
          },
          "metadata": {},
          "output_type": "display_data"
        }
      ],
      "source": [
        "import numpy as np\n",
        "import matplotlib.pyplot as plt\n",
        "\n",
        "K=120\n",
        "S_0=100\n",
        "sigma=sigma_prim\n",
        "r=0.05\n",
        "T=1\n",
        "# temps\n",
        "n=90\n",
        "st=T/n\n",
        "\n",
        "dt=1/n\n",
        "# nb particule\n",
        "M=60\n",
        "\n",
        "#nb simulation\n",
        "N=900\n",
        "\n",
        "x=np.log(K)\n",
        "\n",
        "mu=r-0.5*sigma**2\n",
        "\n",
        "theta=(x - np.log(S_0) - mu*T)/(sigma*np.sqrt(T))\n",
        "\n",
        "\n",
        "\n",
        "means=[]\n",
        "cumul_sum=0\n",
        "\n",
        "for i in range(1,N+1):\n",
        "    #Y=np.random.normal(0,1,M)*(sigma*np.sqrt(dt))\n",
        "    #X=np.log(S_0)+mu*dt+Y\n",
        "    X=np.full(M,np.log(S_0))\n",
        "    norm=1\n",
        "\n",
        "    #temps\n",
        "    for k in range(1,n):\n",
        "\n",
        "        Y=np.random.normal(0,sigma*np.sqrt(dt),M)\n",
        "\n",
        "        X+=mu*dt+Y\n",
        "\n",
        "\n",
        "\n",
        "        G=np.exp(theta/sigma*Y)\n",
        "        norm*=np.mean(G)\n",
        "\n",
        "        w=G/np.sum(G)\n",
        "        cdf=np.cumsum(w)\n",
        "        u0=np.random.uniform(0,1/M)\n",
        "        u=u0+np.arange(M)/M\n",
        "        ind=np.searchsorted(cdf,u)\n",
        "        X=X[ind]\n",
        "\n",
        "    Y_final=X-np.log(S_0)-mu*T\n",
        "    weightsFinal=np.exp(-theta/sigma*Y_final)\n",
        "    indicators=(X>x).astype(float)\n",
        "    estimate=norm*np.mean(indicators*weightsFinal)\n",
        "\n",
        "    cumul_sum+=estimate\n",
        "    means.append(cumul_sum/i)\n",
        "\n",
        "\n",
        "\n",
        "\n",
        "X_T=np.log(S_0)+mu*T+sigma*np.sqrt(T)*np.random.randn(N)\n",
        "\n",
        "indicators=(X_T>np.log(K)).astype(float)\n",
        "\n",
        "pEstimate=np.mean(indicators)\n",
        "\n",
        "MeansNaive=np.cumsum(indicators)/np.arange(1,N+1)\n",
        "MeanNaive=np.mean(indicators)\n",
        "plt.plot(MeansNaive,'black')\n",
        "plt.plot(means,'red')\n",
        "# plt.plot([MeanNaive for _ in range(len(indicators))],)\n",
        "\n",
        "\n"
      ]
    },
    {
      "cell_type": "markdown",
      "source": [
        "# Calcul de Malliavin et grecs\n",
        "\n",
        "## Notations et définitions\n",
        "\n",
        "***********************\n",
        "### Notation\n",
        "\n",
        "On considère un espace de probabilité $(Ω,\\mathbb{F},\\mathbb{P})$ sur lequel est défini un mouvement brownien $(B_t)_{t\\geq 0}$ et on note $\\mathbb{F}_t=\\sigma(B_s,s\\leq t)$.\n",
        "\n",
        "On subdivise l'interval $[0,T]$ à l'aide des dyadique $t^n_k=\\frac{k}{2^n} $ avec $n\\in\\mathbb{N}^*$ et $k\\in\\{0,...,2^n\\}$\n",
        "\n",
        "Enfin, on note $Δ^n_k=B_{t^n_{k+1}}-B_{t^n_{k}}$, les acroissement du brownien et $Δ^n=(Δ^n_0,...,Δ^n_{2^n-1})$\n",
        "\n",
        "On introduit les espace simples sur lesquels on va définir nos deux operateur. $C^∞_p$ designe l'ensemble des fonctions infiniment derivables à croissance au plus polynomial\n",
        "*********\n",
        "**************\n",
        "### Définitions\n",
        "**Définition 1**\n",
        "\n",
        "l'ensemble des fonction simples\n",
        "\n",
        "$$S_n=\\Big\\{f(Δ^n_0,...,Δ^n_{2^n-1}); f\\in C^∞_p(\\mathbb{R}^{2^n}) \\Big\\}$$\n",
        "\n",
        "les $S_n$ forment une suite croissante d'ensembles inclus dans $L_2(Ω)$, les éléments de $S=⋃ _{n\\geq 0}S_n$  s'appellent fonctionnelles simples.\n",
        "\n",
        "Cet ensemble nous permettera de définir la dérivé de Malliavin. L'espace des fonctionnelles simple est construit de telle sorte qu'apparaise clairement la dépendance d'une variable aléatoire de $S_n$ avec les accroissement du brownien\n",
        "************\n",
        "**********\n",
        "**Définition 2**\n",
        "l'ensemble des processus simples\n",
        "\n",
        "$$P_n=\\Big\\{\\sum _{i=0}^{2^n-1}𝟙 _{[t^n_i,t^n_{i+1}[}(t)F_i(ω)\\text{ ;  } (t,ω)\\in [0,T],Ω\\text{ et } F_i\\in S_n\\Big\\}$$\n",
        "\n",
        "Les $P_n$ forment une suite croissante d'ensemble inclus dans $L_2([0,T]\\times Ω)$.\n",
        "\n",
        "Les element de $P=⋃_{n\\geq1}P_n$ s'appellent processus simples.\n",
        "*************\n",
        "***********\n",
        "**Définition 3**\n",
        "\n",
        "soit $F\\in S$, alors $∃n\\in \\mathbb{N}^*$tel que\n",
        "\n",
        "$$F=f(Δ^n)$$\n",
        "L'operateur de dérivation au sens de Malliavin de la fonctionelle simple $F$ en un point $s\\in [t^n_i,t^n_{i+1}[$ est alors la fonction\n",
        "\n",
        "$$D_sF=\\sum _{i=0}^{2^n-1}𝟙 _{[t^n_i,t^n_{i+1}[}(s)∂_if(Δ^n)$$\n",
        "Il est logique que cet operateur associe à une variable aléatoire un processus.\n",
        "\n",
        "A la date $s$ la dérivée au sens de Malliavin traduit l'impacte des acroissement du brownien sur une variable aléatoire\n",
        "***************\n",
        "****************\n",
        "**Définition 4 : l'operateur de dérivation de Skorokhod**\n",
        "\n",
        "Soit $u\\in P$, alors $∃n\\in\\mathbb{N}^*$ tel que $u\\in P_n$.L'operateur d'integration au sens de Skorokhos du processus simple $u$ est\n",
        "\n",
        "$$δ(u)=\\sum _{i=0}^{2^n-1}f_i(Δ^n)Δ^n_i-\\sum _{i=0}^{2^n-1}∂_if_i(Δ^n)\\frac{1}{2^n}$$\n",
        "avec\n",
        "\n",
        "$$u(t,ω)=\\sum _{i=0}^{2^n-1}𝟙 _{[t^n_i,t^n_{i+1}[}(t)F_i(ω) \\text{ et } F_i=f_i(Δ^n)$$\n",
        "\n",
        "Notons que le premier terme correspond à une integrale d'Ito, le second prend en compte le fait que le processus n'est pas necessairement adapté. Ce deuxieme terme est necessaire pour obtenir la relation d'integration par partie et a été integré dans la définition dans ce but.\n",
        "\n",
        "Si on définit les processus prévisible par\n",
        "$$∀k\\in \\big\\{0,...,2^n-1\\big\\}, f_k(Δ^n)=f_k(Δ^n_0,...,Δ^n_{k-1})$$\n",
        "On remarque que dans ce cas le deuxieme terme s'annule\n",
        "**********\n",
        "## Extention des operateur\n",
        "Nous allons maintenant etendre les operateur $D$ et $δ$ à $L_2(Ω)$, $L_2([0,T],Ω)$\n",
        "***********\n",
        "**Proposition**\n",
        "\n",
        "$D$ et $δ$ sont des operateur férmés, c'est à dire si $(F_n)_n$ est une suite de $S$ qui tends vers $0$ dans $L_2([0,T],Ω)$ et si $DF_n$ tends vers $u$ alors, $u=0$\n",
        "************\n",
        "************\n",
        "**Définition 5**\n",
        "\n",
        "On définit\n",
        "$$\\mathbb{D}^{1,2}=\\Big\\{F\\in L_2(Ω) \\text{ tq }∃(F_n)\\in S\\text{ tq }F_n\\xrightarrow{L_2(Ω)}F \\text{ et }DF_n\\xrightarrow{L_2([0,T],Ω)}u\\Big\\}$$\n",
        "\n",
        "on pose alors\n",
        "\n",
        "$$Df=u$$\n",
        "******************\n",
        "\n",
        "*************\n",
        "**Définition 6**\n",
        "\n",
        "On définit\n",
        "\n",
        "$$Dom(δ)=\\Big\\{u\\in L_2([0,T],Ω) \\text{ tq }∃(u_n)\\in P \\text{ tq }u_n\\xrightarrow{L_2([0,T],Ω)}u \\text{ et }\\delta (u_n)\\xrightarrow{L_2(Ω)}F\\Big\\}$$\n",
        "\n",
        "On pose alors\n",
        "\n",
        "$$F=δ(u)$$\n",
        "**********\n",
        "\n",
        "## formule d'integration par partie\n",
        "\n",
        "************\n",
        "**Proposition 1**\n",
        "\n",
        "$∀F\\in \\mathbb{D}^{1,2}$ et $∀u\\in Dom(δ)$\n",
        "\n",
        "$$\\mathbb{E}\\Big\\{∫_0^TD_sFu_sds\\Big\\}=\\mathbb{E}\\big\\{Fδ(u)\\big\\}$$\n",
        "On a donc la relation\n",
        "$$\\Big<DF,u\\Big>_{L_2([0,T],Ω)}=\\Big<F,\\delta( u)\\Big>_{L_2(Ω)}$$\n",
        "**************\n",
        "************\n",
        "**Lemme 1**\n",
        "\n",
        "Soit $Δ\\sim N(0,2^{-n}I^{2^n}_d)$, alors pour $g$ dans $C^1(\\mathbb{R}^{2^n})$\n",
        "\n",
        "$$\\mathbb{E}\\big\\{\\partial_i g(Δ)\\big\\}=\\frac{1}{2^{-n}}\\mathbb{E}\\big\\{\\Delta_i g(Δ)\\big\\}$$\n",
        "**********\n",
        "********\n",
        "**Preuve du lemme 1**\n",
        "\n",
        "la densité de $\\Delta$ est\n",
        "\n",
        "$$p(x)=\\frac{1}{2\\pi2^{-n}}exp\\Big\\{-\\frac{1}{2}\\frac{1}{2^{-n}}\\mid\\mid x\\mid\\mid^2\\Big\\}$$\n",
        "\n",
        "On a\n",
        "\n",
        "$$\\mathbb{E}\\big\\{\\partial_i g(Δ)\\big\\}=∫_{\\mathbb{R}^{2^n}}\\partial_ig(x)p(x)dx$$\n",
        "\n",
        "\n",
        "On a par integration par partie\n",
        "$$∫_{\\mathbb{R}^{2^n}}\\partial_ig(x)p(x)dx=-∫_{\\mathbb{R}^{2^n}}g(x)\\partial_ip(x)dx$$\n",
        "Or,\n",
        "$$\\partial_ip(x)=-p(x)\\frac{x_i}{2^{-n}}$$\n",
        "\n",
        "Donc,\n",
        "\n",
        "$$-∫_{\\mathbb{R}^{2^n}}g(x)\\partial_ip(x)dx=∫_{\\mathbb{R}^{2^n}}g(x)p(x)\\frac{x_i}{2^{-n}}dx$$\n",
        "\n",
        "Donc,\n",
        "\n",
        "$$\\begin{align*}\n",
        "-∫_{\\mathbb{R}^{2^n}}g(x)\\partial_ip(x)dx&=\\frac{1}{2^{-n}}∫_{\\mathbb{R}^{2^n}}x_ig(x)p(x)dx\\\\\n",
        "&=\\frac{1}{2^{-n}}\\mathbb{E}\\big\\{\\Delta_i g(Δ)\\big\\}\n",
        "\\end{align*}$$\n",
        "\n",
        "Donc ,\n",
        "\n",
        "$$\\mathbb{E}\\big\\{\\partial_i g(Δ)\\big\\}=\\frac{1}{2^{-n}}\\mathbb{E}\\big\\{\\Delta_i g(Δ)\\big\\}$$\n",
        "************\n",
        "***********\n",
        "**Preuve de la proposition 1**\n",
        "\n",
        "Soit $F\\in S_n$ et $u\\in P_n$\n",
        "\n",
        "Appliquons le lemme 1 à la fonction $g=f_if$, on a\n",
        "\n",
        "$$\\partial_i(f_if)=\\partial_if_if+f_i\\partial_if$$\n",
        "\n",
        "Donc,\n",
        "\n",
        "$$\\mathbb{E}\\Big\\{f_i\\partial_if\\Big\\}=\\mathbb{E}\\Big\\{\\partial_i(f_if)\\Big\\}-\\mathbb{E}\\Big\\{\\partial_if_if\\Big\\}$$\n",
        "Or,\n",
        "\n",
        "$$\\mathbb{E}\\Big\\{\\partial_i(f_if)\\Big\\}=\\frac{1}{2^{-n}}\\mathbb{E}\\big\\{\\Delta_i f_if\\big\\}$$\n",
        "\n",
        "Donc,\n",
        "\n",
        "$$\\mathbb{E}\\Big\\{f_i\\partial_if\\Big\\}=\\mathbb{E}\\Big\\{f\\Big(\\frac{Δ_i^n}{2^{-n}}f_i-∂_if_i\\Big)\\Big\\}$$\n",
        "Donc,\n",
        "\n",
        "$$\\begin{align*}\n",
        "\\mathbb{E}\\Big\\{∫_0^TD_sFu_sds\\Big\\}&=\\sum _{i=0}^{2^n-1}\\mathbb{E}\\Big\\{∂_if(Δ^n)f_i(Δ^n)\\Big\\}\\frac{1}{2^n}\\\\\n",
        "&=\\sum _{i=0}^{2^n-1}\\mathbb{E}\\Big\\{f(Δ^n)\\Big(\\frac{Δ_i^n}{2^{-n}}f_i(Δ^n)-∂_if_i(Δ^n)\\Big)\\Big\\}\\frac{1}{2^n}\\\\\n",
        "&=\\mathbb{E}\\Big\\{F\\Big(\\sum _{i=0}^{2^n-1}f_i(Δ^n)Δ^n_i-\\sum _{i=0}^{2^n-1}∂_if_i(Δ^n)\\frac{1}{2^n}\\Big)\\Big\\}\\\\\n",
        "&=\\mathbb{E}\\big\\{Fδ(u)\\big\\}\n",
        "\\end{align*}$$\n",
        "\n",
        "*****************\n",
        "\n",
        "## Application au modèle de Black Scholes\n",
        "\n",
        "### Calcul du Delta d'un call\n",
        "\n",
        "avec\n",
        "\n",
        "$$S_T=S_0exp\\left\\{(r-\\frac{\\sigma^2}{2})T+\\sigma B_T\\right\\}=S_0Y_T$$\n",
        "On veux calculer\n",
        "\n",
        "$$Δ=\\frac{∂}{∂S_0}e^{-rT}\\mathbb{E}\\Big\\{F\\Big\\} \\text{, avec } F=f(S_T)\\text{, et } f(x)=(x-K)_+$$\n",
        "\n",
        "\n",
        "On a donc,\n",
        "\n",
        "$$D_sF=f'(S_T)D_sS_T=f'(S_T)σS_T𝟙_{[0,T]}(s)$$\n",
        "Donc, avec\n",
        "\n",
        "$$u_s=\\frac{1}{σS_0T}𝟙_{[0,T]}(s)$$\n",
        "\n",
        "On obitient que ,\n",
        "\n",
        " $$\\begin{align*}\n",
        " \\Big<DF,u\\Big>_{L_2([0,T],Ω)}&=∫_0^TD_sFu_sds\\\\\n",
        " &=f'(S_T)\\frac{S_T}{S_0T}∫_0^Tds\\\\\n",
        " &=f'(S_T)\\frac{S_T}{S_0}\\\\\n",
        " &=\\frac{∂F}{∂S_0}\n",
        " \\end{align*}$$\n",
        "\n",
        " Donc,\n",
        "\n",
        " $$\\begin{align*}\n",
        " \\frac{∂}{∂S_0}\\mathbb{E}\\Big\\{F\\Big\\}&=\\mathbb{E}\\Big\\{\\frac{∂F}{∂S_0}\\Big\\}\\\\\n",
        " &=\\mathbb{E}\\Big\\{∫_0^TD_sFu_sds\\Big\\}\\\\\n",
        " &=\\mathbb{E}\\big\\{Fδ(u)\\big\\}\n",
        " \\end{align*}$$\n",
        "\n",
        " avec\n",
        "\n",
        " $$δ(u)=\\int_0^Tu_sdB_s=\\frac{B_T}{σS_0T}$$\n",
        " On touve finalement que\n",
        "\n",
        " $$Δ=\\mathbb{E}\\big\\{f(S_T)\\frac{e^{-rT}B_T}{σS_0T}\\big\\}$$"
      ],
      "metadata": {
        "id": "bA8hacTv7PlQ"
      },
      "id": "bA8hacTv7PlQ"
    },
    {
      "cell_type": "code",
      "source": [
        "def payoff(x, kind=\"call\"):\n",
        "    if kind == \"call\":\n",
        "        return np.maximum(x-K, 0)\n",
        "    elif kidn == \"put\":\n",
        "        return np.maximum(K - x, 0)\n",
        "    else:\n",
        "        return 0\n",
        "\n",
        "sigma=sigma_prim\n",
        "x0=S_0\n",
        "d_plus = (np.log(x0/K)+(r + 0.5*sigma**2)*T)*(1.0/(sigma*np.sqrt(T)))\n",
        "d_minus = d_plus - sigma*np.sqrt(T)\n",
        "std_normal = norm(loc=0, scale=np.sqrt(1))\n",
        "delta = std_normal.cdf(d_plus)\n",
        "\n",
        "\n",
        "def estimate_delta_malliavin(payoff, r, sigma, x0, T, N):\n",
        "\n",
        "\n",
        "    browniam_marginal = norm(loc=0, scale=np.sqrt(T))\n",
        "    brownian_sample = browniam_marginal.rvs(N)\n",
        "    gbm_sample = x0*np.exp((r - 0.5*sigma**2)*T + sigma*brownian_sample)\n",
        "\n",
        "    constant = np.exp(-1.0*r*T)/(sigma*x0*T)\n",
        "\n",
        "    deltas = []\n",
        "    sizes = range(100, N+1, 100)\n",
        "    for k in sizes:\n",
        "\n",
        "        mc_estimator = np.mean(payoff(gbm_sample[:k])*brownian_sample[:k])\n",
        "        delta = constant*mc_estimator\n",
        "        deltas.append(delta)\n",
        "\n",
        "\n",
        "    return sizes, deltas\n",
        "\n",
        "N = 100000\n",
        "sizes, malliavin_deltas = estimate_delta_malliavin(payoff=payoff,  r=r, sigma=sigma, x0=x0, T=T, N=N)\n",
        "\n",
        "plt.rcParams.update(plt.rcParamsDefault)\n",
        "plt.plot(sizes, malliavin_deltas, color=\"red\", label=\"Malliavin Estimator\")\n",
        "plt.hlines(delta, 0, sizes[-1], color=\"green\", linestyle=\":\", label=\"Exact Value\")\n",
        "plt.xlim([0.0, sizes[-1]])\n",
        "plt.ylabel(\"Delta $\\Delta$\")\n",
        "plt.xlabel(\"Number of Simulations\")\n",
        "plt.title(\"Greeks Approximation\\n Using a Monte Carlo Malliavin Estimator\")\n",
        "plt.legend()\n",
        "plt.show()"
      ],
      "metadata": {
        "colab": {
          "base_uri": "https://localhost:8080/",
          "height": 493
        },
        "id": "V-Qs6Dg8FFfY",
        "outputId": "a0162a2a-5e68-456c-eba2-3a334221bbc8"
      },
      "id": "V-Qs6Dg8FFfY",
      "execution_count": 12,
      "outputs": [
        {
          "output_type": "display_data",
          "data": {
            "text/plain": [
              "<Figure size 640x480 with 1 Axes>"
            ],
            "image/png": "[encoded data removed]"
          },
          "metadata": {}
        }
      ]
    },
    {
      "cell_type": "markdown",
      "source": [
        "## Convergence monte carlo\n",
        "\n",
        "On veut calculer\n",
        "\n",
        "$$Δ=e^{-rT}\\frac{∂}{∂S_0}\\mathbb{E}\\Big\\{f(S_T)\\Big\\}$$\n",
        "\n",
        "Alors, l'estimateu,\n",
        "\n",
        "$$\\hat{\\Delta}_N=e^{-rT} \\frac{1}{N}∑_{i=0}^N\\frac{f(S^{(i,+)})-f(S^{(i,-)})}{2ϵ}$$\n",
        "\n",
        "Avec\n",
        "\n",
        "$$S^{(i,\\pm)}=(S_0\\pmϵ)exp\\left\\{(r-\\frac{\\sigma^2}{2})T+\\sigma B_T\\right\\}$$\n",
        "\n",
        "converge presque surement vers $\\Delta$, en effet,\n",
        "\n",
        "La fonction\n",
        "$$x→\\mathbb{E}\\Big\\{f(S_T(x))\\Big\\}$$\n",
        "Est dérivable en $S_0$, donc, avec,\n",
        "$$S_T(x)=x exp\\left\\{(r-\\frac{\\sigma^2}{2})T+\\sigma B_T\\right\\}$$\n",
        "\n",
        "Alors,\n",
        "\n",
        "$$\\frac{e^{-rT}}{2 ϵ}\\Big(\\mathbb{E}\\Big\\{f(S_T(S_0+ϵ))\\Big\\}-\\mathbb{E}\\Big\\{f(S_T(S_0-ϵ))\\Big\\}\\Big)⟶Δ \\text{Quand $ϵ$ tends vers } 0$$\n",
        "\n",
        "Donc,\n",
        "\n",
        "$$\\hat{\\Delta}_N⟶Δ \\text{Quand $ϵ$ tends vers } 0 \\text{ et $n$ vers l'infini}$$"
      ],
      "metadata": {
        "id": "DsYPS8mGkvJs"
      },
      "id": "DsYPS8mGkvJs"
    },
    {
      "cell_type": "code",
      "source": [
        "def estimate_delta_fd(payoff, r, sigma, x0, T, N, epsilon=0.001):\n",
        "\n",
        "    browniam_marginal = norm(loc=0, scale=np.sqrt(T))\n",
        "\n",
        "    brownian_sample = browniam_marginal.rvs(N)\n",
        "    gbm_sample_up= (x0 + epsilon)*np.exp((r - 0.5*sigma**2)*T + sigma*brownian_sample)\n",
        "    gbm_sample_down = (x0 - epsilon)*np.exp((r - 0.5*sigma**2)*T + sigma*brownian_sample)\n",
        "    constant = np.exp(-1.0*r*T)\n",
        "\n",
        "    pv_plus = payoff(gbm_sample_up)\n",
        "    pv_minus = payoff(gbm_sample_down)\n",
        "\n",
        "    deltas = []\n",
        "    sizes = range(100, N+1, 100)\n",
        "    for k in sizes:\n",
        "\n",
        "        fd = np.mean((pv_plus[:k] - pv_minus[:k])/(2.0*epsilon))\n",
        "        delta = constant*fd\n",
        "        deltas.append(delta)\n",
        "\n",
        "    return sizes, deltas\n",
        "\n",
        "\n",
        "sizes, fd_deltas = estimate_delta_fd(payoff=payoff, r=r, sigma=sigma, x0=x0, T=T, N=N)\n",
        "\n",
        "plt.plot(sizes, malliavin_deltas, color=\"red\", label=\"Malliavin Estimator\")\n",
        "plt.plot(sizes, fd_deltas, color=\"black\", label=\"FD Estimator\")\n",
        "plt.hlines(delta, 0, sizes[-1], color=\"green\", linestyle=\":\", label=\"Exact Value\")\n",
        "plt.xlim([0.0, sizes[-1]])\n",
        "plt.ylabel(\"Delta $\\Delta$\")\n",
        "plt.xlabel(\"Number of Simulations\")\n",
        "plt.title(\"Greeks Approximation\\n Using a Monte Carlo Malliavin Estimator\\n European Option\")\n",
        "plt.legend()\n",
        "plt.show()\n"
      ],
      "metadata": {
        "colab": {
          "base_uri": "https://localhost:8080/",
          "height": 513
        },
        "id": "80yCCoMHsS5Z",
        "outputId": "4005b856-dcd1-40f4-ca25-bb4fffa1dadd"
      },
      "id": "80yCCoMHsS5Z",
      "execution_count": 13,
      "outputs": [
        {
          "output_type": "display_data",
          "data": {
            "text/plain": [
              "<Figure size 640x480 with 1 Axes>"
            ],
            "image/png": "[encoded data removed]"
          },
          "metadata": {}
        }
      ]
    },
    {
      "cell_type": "markdown",
      "source": [
        "# Introduction\n",
        "L’objectif de ce travail est d’évaluer la probabilité de ruine en temps fini d'une compagnie d'assurance. On modélise alors la richése détenue par l'assurance au temps t par:\n",
        "\n",
        "$$R_t=u+ct-S_t$$\n",
        "Ou\n",
        "\n",
        "+  $u\\geq0$: La richésse initiale de l'assureur.\n",
        "\n",
        "+ $c\\geq0$: Taux instantané de prime.\n",
        "\n",
        "+ $S_t=\\sum_{i=1}^{N_t}X_i$.\n",
        "\n",
        "+ $X_i$ Montant du i-éme sinistre qui suit une loi exponentielle de parametre $\\mu_{orig}$.\n",
        "\n",
        "+ $N_t$: Un processus de poisson.\n",
        "\n",
        "*******************\n",
        "**Définition**\n",
        "\n",
        "On défini alors les probalités de ruine et de survie a horizon fini:\n",
        "$$\\Psi(u,T)=\\mathbf{P}\\left(R_T>0\\mid R_0=u\\right)=\\mathbb{E}^{\\mathbb{P}}\\Big\\{𝟙_{\\{R_T>0\\}}\\Big\\}$$\n",
        "*******************\n",
        "On a d'apres le theoréme de girsanov,\n",
        "$$\\mathbb{E}^{\\mathbb{P}}\\Big\\{𝟙_{\\{R_T>0\\}}\\Big\\}=\\mathbb{E}^{\\mathbb{Q}}\\Big\\{𝟙_{\\{R_T>0\\}}L_T\\Big\\}$$\n",
        "\n",
        "Avec,\n",
        "$$L_T=∏_{k=0}^{N_T}\\frac{f^{\\mathbb{P}}(S_k)}{f^{\\mathbb{Q}}(S_k)}=∏_{k=0}^{N_T}\\frac{\\mu_{orig}}{\\mu_{tilt}}e^{-(\\mu_{orig}-\\mu_{tilt})S_k}$$\n",
        "\n",
        "Donc,\n",
        "\n",
        "$$\\frac{1}{n}\\sum_{i=0}^n𝟙_{\\{R_T^{(i)}>0\\}}L_T^{(i)} \\text{ Converge presque surement vers } \\Psi(u,T)$$"
      ],
      "metadata": {
        "id": "hu8wQ0ik3g4o"
      },
      "id": "hu8wQ0ik3g4o"
    },
    {
      "cell_type": "code",
      "source": [
        "import numpy as np\n",
        "import matplotlib.pyplot as plt\n",
        "\n",
        "# Paramètres\n",
        "lambda_orig = 5.\n",
        "mu_orig = 1.\n",
        "to = 0.8\n",
        "Ee = 1./mu_orig\n",
        "c = (1 + to) * lambda_orig * Ee\n",
        "u_ini = Ee\n",
        "t_final = 1.\n",
        "\n",
        "n_sim = 5000\n",
        "\n",
        "\n",
        "mu_tilt = 0.8\n",
        "\n",
        "def simulate_girsanov():\n",
        "    u = u_ini\n",
        "    t = 0.\n",
        "    L = 1.\n",
        "\n",
        "    while t < t_final and u >= 0:\n",
        "\n",
        "        T = np.random.exponential(1/lambda_orig)\n",
        "        if t + T > t_final:\n",
        "            break\n",
        "        t += T\n",
        "\n",
        "\n",
        "        S = np.random.exponential(1/mu_tilt)\n",
        "\n",
        "\n",
        "        w_sinistre = (mu_orig / mu_tilt) * np.exp(-(mu_orig - mu_tilt)*S)\n",
        "\n",
        "\n",
        "        L *= w_sinistre\n",
        "\n",
        "\n",
        "        u += c*T - S\n",
        "\n",
        "    return (1 if u >= 0 else 0), L\n",
        "\n",
        "\n",
        "results = np.array([simulate_girsanov() for _ in range(n_sim)])\n",
        "\n",
        "indicators = results[:,0]\n",
        "weights = results[:,1]\n",
        "\n",
        "estimateurs_pondérés = indicators * weights\n",
        "\n",
        "\n",
        "cumulative_means2 = np.cumsum(estimateurs_pondérés) / np.arange(1, n_sim + 1)\n",
        "\n",
        "\n"
      ],
      "metadata": {
        "id": "knCSi66kq5tR"
      },
      "id": "knCSi66kq5tR",
      "execution_count": 3,
      "outputs": []
    },
    {
      "cell_type": "code",
      "source": [
        "import random\n",
        "\n",
        "\n",
        "mu_orig = 1.\n",
        "a = 3.\n",
        "b = 3.\n",
        "to = 0.8\n",
        "t_final = 1.\n",
        "lambdaa = 5.\n",
        "mu = 1.\n",
        "Ee = 1./mu\n",
        "c = (1 + to)*lambdaa*Ee\n",
        "u_ini = Ee\n",
        "\n",
        "\n",
        "def simulate_survival():\n",
        "    u = u_ini\n",
        "    T = np.random.exponential(1/lambdaa)\n",
        "    t = T\n",
        "    while u >= 0 and t < t_final:\n",
        "\n",
        "        S = np.random.exponential(1/mu_orig)\n",
        "        u += c * T - S\n",
        "        T = np.random.exponential(1/lambdaa)\n",
        "        t += T\n",
        "    return 1 if u >= 0 else 0\n",
        "\n",
        "\n",
        "\n",
        "n_simulations = 5000\n",
        "survival_indicators = [simulate_survival() for _ in range(n_simulations)]\n",
        "\n",
        "\n",
        "\n",
        "cumulative_means = np.cumsum(survival_indicators) / np.arange(1, n_simulations + 1)\n",
        "\n",
        "\n",
        "\n",
        "plt.figure(figsize=(10, 5))\n",
        "plt.plot(cumulative_means, color='black', label='Estimateur cumulatif')\n",
        "plt.plot(cumulative_means2,color='red', label='Estimateur avec poids de Girsanov')\n",
        "plt.xlabel(\"Nombre de simulations\")\n",
        "plt.ylabel(\"Estimation de la probabilité de survie\")\n",
        "plt.title(\"Convergence presque sûre de l'estimateur de survie\")\n",
        "plt.grid(True)\n",
        "plt.legend()\n",
        "plt.show()\n"
      ],
      "metadata": {
        "colab": {
          "base_uri": "https://localhost:8080/",
          "height": 488
        },
        "id": "90SPQ37qrBy5",
        "outputId": "4cd7eaa7-c28c-4672-d6cd-abe84ecd22eb"
      },
      "id": "90SPQ37qrBy5",
      "execution_count": 11,
      "outputs": [
        {
          "output_type": "display_data",
          "data": {
            "text/plain": [
              "<Figure size 1000x500 with 1 Axes>"
            ],
            "image/png": "[encoded data removed]"
          },
          "metadata": {}
        }
      ]
    },
    {
      "cell_type": "markdown",
      "source": [
        "# Approximation des mesures marginales\n",
        "\n",
        "Soit $t\\geq0$, $\\mu_t$ une mesure de probabilité sur $\\mathbb{R}_+$ et telle que :\n",
        "$$\\mathbb{P}\\left(R_t>0\\right)=\\int_{\\mathbb{R}_+}d\\mu_t$$\n",
        "Soit $E\\in\\mathcal{P}(\\mathbb{R}_+)$ une partie mesurable, on a alors\n",
        "\\begin{align*}\n",
        "\\mathbb{P}\\left(R_{t+h}\\in E\\right) &= \\mathbb{P}(N_{t+h}-N_t=0)\\mathbb{P}\\left(R_{t}\\in \\tau_{-ch}(E)\\right)+\\mathbb{P}(N_{t+h}-N_t=1)\\mathbb{P}\\left(R_{t+h}\\in \\tau_{X}(E),X\\right) \\\\\n",
        "&=(1-\\lambda h)\\mathbb{P}\\left(R_{t}\\in \\tau_{-ch}(E)\\right)+\\lambda h\\mathbb{P}\\left(R_{t+h}\\in \\tau_{X}(E),X\\right)  \n",
        "\\end{align*}\n",
        "Ou $\\tau_{_{-ch}}(E):=\\{r\\in\\mathbb{R} \\text{ ; } r+ch\\in E\\}$ et $X$ suit la même loi du montant des sinistres.\\\\\n",
        "\n",
        "On peut voir alors que\n",
        "$$\\int_{\\mathbb{R}_+}\\mathbf{1}_E(s)d\\mu_{t+h}(s)=(1-\\lambda h)\\int_{\\mathbb{R}_+}\\mathbf{1}_E(s+ch)d\\mu_{t}(s)+\\lambda h \\int_{\\mathbb{R}}\\int_{\\mathbb{R}_+}\\mathbf{1}_E(s-u)d\\mu_{t}(s)dF(y)$$\n",
        "\n",
        "\n",
        "\n",
        "Soit $(E_i)_{i\\geq0}$ une partition de $[0 , N]$, et $\\phi\\in\\mathcal{C}_c^1(\\mathbb{R})$ telle que $\\phi=\\sum_{i\\in I}\\phi_i\\mathbf{1}_{E_i}$, avec $(\\phi_i)_{i\\in I}$ des fonctions telles que $\\forall i \\in I$, $\\phi_i\\in\\mathcal{C}_c^1(\\mathbb{R})$. On a alors, en faisant tendre $h$ vers $0$\n",
        "$$\\partial_t\\int_{\\mathbb{R}_+}\\phi(s)d\\mu_{t}(s)=c\\int_{\\mathbb{R}_+}\\phi'(s)d\\mu_{t}(s)-\\lambda\\int_{\\mathbb{R}_+}\\phi(s)d\\mu_{t}(s)+\\lambda\\int_{\\mathbb{R}}\\int_{\\mathbb{R}_+}\\phi(s-y)d\\mu_{t}(s)dF(y)\\text{  } (2)$$\n",
        "Et $d\\mu_0=\\delta_u$\n",
        "\n",
        "\n",
        "*Remarque:* $\\mu_.(.)$ est alors solution faible de l'équation (1)\n",
        "\n",
        "## Schéma de Volumes finis pour approcher $\\mu$\n",
        "Au temps $t_n=\\frac{nh}{c}$, on approche  $d\\mu_{t_n}$ par une densité constante par morceaux $(U^n_i)_{i\\in\\mathbb{N}}$.\n",
        "\n",
        "On a alors pour $i \\in \\mathbb{N}$ et $t\\in\\left](n-1)\\frac{h}{c} \\text{ , } n\\frac{h}{c}\\right]$\n",
        "$$U_i^n\\cong \\frac{1}{h}\\int_{ih}^{(i+1)h}d\\mu t=\\frac{1}{h}\\mathbb{P}\\left(R_t\\in[ih , (i+1)h[\\right)$$\n",
        "Donc\n",
        "$$h\\sum_{i\\in\\mathbb{N}}U_i^n\\cong \\sum_{i\\in\\mathbb{N}}\\int_{ih}^{(i+1)h}d\\mu t=\\int_{\\mathbb{R}_+}d\\mu_t=\\mathbb{P}\\left(R_t>0\\right)$$\n",
        "La discretisation de l'équation (2) se fait de la manière suivante:\n",
        "### Initialisation en temps\n",
        "Au temps $t_0=0$ on approche $d\\mu_0=\\delta_u$ par $(U_i^0)_{i\\in\\mathbb{N}}$, ou pour $i\\in\\mathbb{N}$\n",
        "$$U_i^0=\\frac{u_0}{h}\\mathbf{1}_{\\{u_0\\in[ih , (i+1)h[\\}}$$\n",
        "### Avancement temporel\n",
        "On utilise le schéma suivant pour les pas de temps: Pour $n\\geq 0$\n",
        "$$U^{n+1}_i=\\frac{1}{1+\\delta t}\\left(U_{i-1}^n+\\delta t \\lambda\\sum_{j\\in\\mathbb{N}}U^n_{i+j}(F((j+1)h)-F(jh))\\right)$$\n",
        "## Résultats numériques:\n",
        "On obtient une probabilité de survie pour les trois types de sinistres:\n",
        "\n"
      ],
      "metadata": {
        "id": "coMc5aYS3qow"
      },
      "id": "coMc5aYS3qow"
    },
    {
      "cell_type": "code",
      "source": [
        "import matplotlib.pyplot as plt\n",
        "from math import exp\n",
        "\n",
        "# Paramètres\n",
        "deltau = 0.0025           # pas de discrétisation en richesse u\n",
        "c = 1.0                  # vitesse de dérive c\n",
        "tfinal = 1.5            # horizon temporel\n",
        "uini = 1.0               # richesse initiale\n",
        "iini = int(uini / deltau)  # indice correspondant à uini\n",
        "\n",
        "deltat = c * deltau      # pas de temps selon CFL c*delta_u\n",
        "N = iini + int(tfinal / deltat) + 2  # nombre total de points spatiaux\n",
        "\n",
        "# Initialisation de la mesure discrète u (densité sur chaque intervalle)\n",
        "u = [0.0 for _ in range(N)]\n",
        "u[iini] = 1.0 / deltau    # Dirac approché à t=0 en iini\n",
        "\n",
        "# Paramètres du sinistre\n",
        "lambd = 1.0\n",
        "lambdt = lambd * deltat\n",
        "uplambdt = 1.0 / (1.0 + lambdt)\n",
        "\n",
        "# Discrétisation de la loi de sinistre exponentielle\n",
        "mu = 1.0\n",
        "X = [i * deltau for i in range(N + 2)]\n",
        "dF = [lambdt * (exp(-mu * X[i]) - exp(-mu * X[i + 1])) for i in range(N + 1)]\n",
        "\n",
        "Xplot = X[0:N]\n",
        "\n",
        "t = 0.0\n",
        "Nmax = iini + 1  # condition d'arrêt spatial dynamique\n",
        "j = 0\n",
        "conv = []\n",
        "\n",
        "while t < tfinal:\n",
        "    t += deltat\n",
        "    Nmax += 1\n",
        "    un = u.copy()\n",
        "\n",
        "    # Mise à jour de u[0] (bord gauche)\n",
        "    # Pas de terme u[-1], on ne peut pas utiliser un[-1], donc uniquement terme convolution\n",
        "    u[0] = uplambdt * sum(un[j] * dF[j] for j in range(Nmax))\n",
        "\n",
        "    # Mise à jour pour i >= 1\n",
        "    for i in range(1, Nmax):\n",
        "        somme_conv = sum(un[i + j] * dF[j] for j in range(Nmax - i))\n",
        "        u[i] = uplambdt * (un[i - 1] + somme_conv)\n",
        "\n",
        "    # Affichage tous les 10 pas pour t entre 5 et 10\n",
        "\n",
        "    j += 1\n",
        "    conv.append(sum(u) * deltau)  # somme = approx probabilité de survie\n",
        "\n",
        "\n",
        "\n",
        "print(\"Probabilité de survie approchée à t_final =\", sum(u) * deltau)\n"
      ],
      "metadata": {
        "colab": {
          "base_uri": "https://localhost:8080/"
        },
        "id": "ef7OfnI1qtvy",
        "outputId": "3971bd44-3c4a-4a14-c59b-229391dd0068"
      },
      "id": "ef7OfnI1qtvy",
      "execution_count": 7,
      "outputs": [
        {
          "output_type": "stream",
          "name": "stdout",
          "text": [
            "Probabilité de survie approchée à t_final = 0.6831747608966035\n"
          ]
        }
      ]
    },
    {
      "cell_type": "markdown",
      "id": "c0e305c0",
      "metadata": {
        "id": "c0e305c0"
      },
      "source": [
        "# Playing around\n",
        "## 1\n",
        "\n",
        "Si on prends le modele de black scholes\n",
        "$$dS_t=S_t\\left(rdt+\\sigma dB_t\\right)$$\n",
        "Donc\n",
        "$$S_{n+1}-S_{n}=-\\theta_nB(S_n,G_{n+1})$$\n",
        "avec\n",
        "$$B(S_n,G_{n+1})=\\frac{S_n}{n}\\left(r+\\sigma \\sqrt{n} G_{n+1}\\right)$$\n",
        "et si on fixe $n=N (\\text{ maturité } T)$ et on prends\n",
        "$$B(S_n,G_{n+1})=\\frac{S_n}{N}\\left(r+\\sigma \\sqrt{N} G_{n+1}\\right)$$\n",
        "\n",
        "On trouve le processus suivant :"
      ]
    },
    {
      "cell_type": "code",
      "execution_count": 48,
      "id": "da5d9a35",
      "metadata": {
        "id": "da5d9a35",
        "outputId": "ce9fe264-6dd5-4b9c-d8bd-71f204a489cc",
        "colab": {
          "base_uri": "https://localhost:8080/",
          "height": 447
        }
      },
      "outputs": [
        {
          "output_type": "execute_result",
          "data": {
            "text/plain": [
              "[<matplotlib.lines.Line2D at 0x7e881ade7050>]"
            ]
          },
          "metadata": {},
          "execution_count": 48
        },
        {
          "output_type": "display_data",
          "data": {
            "text/plain": [
              "<Figure size 640x480 with 1 Axes>"
            ],
            "image/png": "[encoded data removed]"
          },
          "metadata": {}
        }
      ],
      "source": [
        "n=1000\n",
        "\n",
        "def algorithme_rm_chen(x_0,MAX,n,F,G):\n",
        "    X=np.zeros(n);\n",
        "    X[0] = x_0;\n",
        "    for i in range(n-1):\n",
        "        X[i+1]=X[i]-gamma(i)*F(X[i],G[i+1])\n",
        "        if(abs(X[i+1]) >= MAX):\n",
        "            X[i+1]=0\n",
        "    return X\n",
        "\n",
        "def B(x,u):\n",
        "    return x*(r/n+sigma_prim/n*np.sqrt(n)*u)\n",
        "\n",
        "\n",
        "G=np.random.normal(size=n)\n",
        "\n",
        "\n",
        "cible =100\n",
        "Y=algorithme_rm_chen(cible,cible*5,n,B,G)\n",
        "plt.plot(Y,'red')"
      ]
    },
    {
      "cell_type": "markdown",
      "id": "46bee18b",
      "metadata": {
        "id": "46bee18b"
      },
      "source": [
        "\n",
        "\n",
        "## 2\n",
        "On suppose que le prix $S_t$ d'une action A suit la dynamique suivante:\n",
        "\n",
        "$$dS_t=rS_t+\\sigma dB_t$$\n",
        "\n",
        "\n",
        "\n",
        "On alors avec $d_t=1/n$ et $\\theta_n=\\frac{1}{\\sqrt{n}}$\n",
        "$$S_{n+1}-S_{n}=-\\theta_nB(S_n,G_{n+1})$$\n",
        "avec\n",
        "$$B(S_n,G_{n+1})=-S_nnr-\\sigma \\frac{n}{\\sqrt{n}} G_{n+1}$$\n",
        "\n"
      ]
    },
    {
      "cell_type": "code",
      "execution_count": 50,
      "id": "69fa3b24",
      "metadata": {
        "id": "69fa3b24"
      },
      "outputs": [],
      "source": [
        "def algorithme_rm_chen_martingal(x_0,MAX,t,F,G):\n",
        "    X=np.zeros(t);\n",
        "    X[0] = x_0;\n",
        "    for i in range(1,t-1):\n",
        "        X[i+1]=X[i]-gamma(i)*F(X[i],G[i],i)\n",
        "        if(abs(X[i+1]) >= MAX):\n",
        "            X[i+1]=0\n",
        "    return X\n"
      ]
    },
    {
      "cell_type": "code",
      "execution_count": 51,
      "id": "afd5dd9a",
      "metadata": {
        "scrolled": true,
        "id": "afd5dd9a",
        "outputId": "704a2e36-53f2-41b8-a806-52180ef47703",
        "colab": {
          "base_uri": "https://localhost:8080/",
          "height": 719
        }
      },
      "outputs": [
        {
          "output_type": "display_data",
          "data": {
            "text/plain": [
              "<IPython.core.display.HTML object>"
            ],
            "text/html": [
              "<style>div.output_scroll { height: 64em; }</style>"
            ]
          },
          "metadata": {}
        },
        {
          "output_type": "display_data",
          "data": {
            "text/plain": [
              "<Figure size 640x400 with 1 Axes>"
            ],
            "image/png": "[encoded data removed]"
          },
          "metadata": {}
        },
        {
          "output_type": "display_data",
          "data": {
            "text/plain": [
              "<Figure size 640x400 with 1 Axes>"
            ],
            "image/png": "[encoded data removed]"
          },
          "metadata": {}
        }
      ],
      "source": [
        "from IPython.core.display import display, HTML\n",
        "display(HTML(\"<style>div.output_scroll { height: 64em; }</style>\"))\n",
        "\n",
        "n=10000\n",
        "\n",
        "\n",
        "def F(x,U,n):\n",
        "    return x*r/n+sigma_prim*1*np.sqrt(n)*U\n",
        "\n",
        "\n",
        "def Bi(x,U,n):\n",
        "    return x*r*1+sigma_prim*U\n",
        "\n",
        "\n",
        "def B(x,u,i):\n",
        "    return -x*r*i-sigma_prim*np.sqrt(i)*u\n",
        "    #return np.exp((r-sigma_prim**2/2)*i+sigma_prim*np.sqrt(i)*u)\n",
        "\n",
        "G=np.random.normal(size=n)\n",
        "\n",
        "def algorithme_rm_chen_Price(x_0,MAX,n,F,G):\n",
        "    X=np.zeros(n);\n",
        "    X[0] = x_0;\n",
        "    for i in range(1,n-1):\n",
        "        X[i+1]=X[i]-gamma(i)*F(X[i],G[i],i)\n",
        "        if(abs(X[i+1]) >= MAX):\n",
        "            X[i+1]=0\n",
        "    return X\n",
        "\n",
        "\n",
        "target=10\n",
        "G=np.random.normal(size=2*n)\n",
        "G2=np.random.normal(size=2*n)\n",
        "Y=algorithme_rm_chen_martingal(0,2.5*S_0,2*n,F,G)\n",
        "u=algorithme_rm_chen_martingal(0,2.5*S_0,2*n,F,G)\n",
        "Z=[x for x in reversed(u)]\n",
        "plt.figure().set_figheight(4)\n",
        "plt.plot(Y,'red',Z,'black')\n",
        "#plt.plot(Z,'black')\n",
        "plt.show()\n",
        "\n",
        "n=700\n",
        "cible =S_0\n",
        "N=int(2*n)\n",
        "# G=np.random.normal(size=N)\n",
        "Y=algorithme_rm_chen_martingal(cible,cible*6.6,N,B,G)\n",
        "f=max(Y)\n",
        "U=[y/f for y in Y]\n",
        "#plt.figure().set_figwidth(4)#(figsize=(6,6))\n",
        "plt.figure().set_figheight(4)\n",
        "plt.plot(Y,'red')\n",
        "plt.show()"
      ]
    },
    {
      "cell_type": "code",
      "execution_count": null,
      "id": "21692fbb",
      "metadata": {
        "id": "21692fbb",
        "outputId": "bf62fd9f-3747-434d-d055-c70c7966eba0"
      },
      "outputs": [
        {
          "data": {
            "text/plain": [
              "[<matplotlib.lines.Line2D at 0x200aadd5940>]"
            ]
          },
          "execution_count": 640,
          "metadata": {},
          "output_type": "execute_result"
        },
        {
          "data": {
            "image/png": "[encoded data removed]",
            "text/plain": [
              "<Figure size 640x480 with 1 Axes>"
            ]
          },
          "metadata": {},
          "output_type": "display_data"
        }
      ],
      "source": [
        "def B(x,U):\n",
        "    return x*r/n+sigma*1/np.sqrt(n)*U\n",
        "\n",
        "\n",
        "def BB(x,U):\n",
        "    return +(r-sigma_prim**2/2) + sigma_prim*np.sqrt(n)*U\n",
        "\n",
        "cible=7\n",
        "G=np.random.normal(size=n)\n",
        "\n",
        "Y=algorithme_rm_chen(cible,cible*6,n,B,G)\n",
        "\n",
        "plt.plot(Y,'red')"
      ]
    },
    {
      "cell_type": "markdown",
      "id": "7bbd0dfc",
      "metadata": {
        "id": "7bbd0dfc"
      },
      "source": [
        "# END"
      ]
    },
    {
      "cell_type": "code",
      "execution_count": null,
      "id": "c3a8e0ff",
      "metadata": {
        "id": "c3a8e0ff"
      },
      "outputs": [],
      "source": []
    },
    {
      "cell_type": "code",
      "execution_count": null,
      "id": "c94a2958",
      "metadata": {
        "id": "c94a2958"
      },
      "outputs": [],
      "source": []
    },
    {
      "cell_type": "code",
      "execution_count": null,
      "id": "814946e4",
      "metadata": {
        "id": "814946e4"
      },
      "outputs": [],
      "source": []
    },
    {
      "cell_type": "code",
      "execution_count": null,
      "id": "5b2e36ed",
      "metadata": {
        "id": "5b2e36ed"
      },
      "outputs": [],
      "source": []
    },
    {
      "cell_type": "code",
      "execution_count": null,
      "id": "89fdb406",
      "metadata": {
        "id": "89fdb406"
      },
      "outputs": [],
      "source": []
    },
    {
      "cell_type": "code",
      "execution_count": null,
      "id": "54792d20",
      "metadata": {
        "id": "54792d20"
      },
      "outputs": [],
      "source": []
    },
    {
      "cell_type": "code",
      "execution_count": null,
      "id": "370509b6",
      "metadata": {
        "id": "370509b6"
      },
      "outputs": [],
      "source": []
    },
    {
      "cell_type": "code",
      "execution_count": null,
      "id": "9ef201a8",
      "metadata": {
        "id": "9ef201a8"
      },
      "outputs": [],
      "source": []
    },
    {
      "cell_type": "code",
      "execution_count": null,
      "id": "b9b34834",
      "metadata": {
        "id": "b9b34834"
      },
      "outputs": [],
      "source": []
    },
    {
      "cell_type": "code",
      "execution_count": null,
      "id": "ed92256a",
      "metadata": {
        "id": "ed92256a"
      },
      "outputs": [],
      "source": []
    },
    {
      "cell_type": "code",
      "execution_count": null,
      "id": "c010ed15",
      "metadata": {
        "id": "c010ed15"
      },
      "outputs": [],
      "source": []
    },
    {
      "cell_type": "code",
      "execution_count": null,
      "id": "198d0a4a",
      "metadata": {
        "id": "198d0a4a"
      },
      "outputs": [],
      "source": []
    },
    {
      "cell_type": "code",
      "execution_count": null,
      "id": "4196022a",
      "metadata": {
        "id": "4196022a"
      },
      "outputs": [],
      "source": []
    },
    {
      "cell_type": "code",
      "execution_count": null,
      "id": "4326b9d9",
      "metadata": {
        "id": "4326b9d9"
      },
      "outputs": [],
      "source": []
    },
    {
      "cell_type": "code",
      "execution_count": null,
      "id": "f6c8a7f0",
      "metadata": {
        "id": "f6c8a7f0"
      },
      "outputs": [],
      "source": []
    },
    {
      "cell_type": "code",
      "execution_count": null,
      "id": "89c81983",
      "metadata": {
        "id": "89c81983"
      },
      "outputs": [],
      "source": []
    },
    {
      "cell_type": "code",
      "execution_count": null,
      "id": "3bcb4e7c",
      "metadata": {
        "id": "3bcb4e7c"
      },
      "outputs": [],
      "source": []
    },
    {
      "cell_type": "code",
      "source": [
        "import numpy as np\n",
        "import matplotlib.pyplot as plt\n",
        "\n",
        "# ================================\n",
        "# 1. Données du marché : taux overnight OIS et taux swap\n",
        "# ================================\n",
        "\n",
        "# Taux OIS (exemple fictif, annualisés en base continue)\n",
        "ois_maturities = np.array([1, 7, 14, 30, 60, 90, 180, 360]) / 360  # en années\n",
        "ois_rates = np.array([0.10, 0.12, 0.14, 0.18, 0.22, 0.26, 0.35, 0.45]) / 100\n",
        "\n",
        "# Taux swap IRS (fictifs)\n",
        "swap_maturities = np.array([1, 2, 3, 4, 5, 7, 10])  # en années\n",
        "swap_rates = np.array([0.50, 0.70, 0.90, 1.05, 1.20, 1.40, 1.60]) / 100\n",
        "\n",
        "# Fréquence de paiement (annuelle)\n",
        "delta = 1.0\n",
        "\n",
        "\n",
        "# ================================\n",
        "# 2. Bootstrap de la courbe ZC (Zéro-Coupon) à partir des OIS\n",
        "# ================================\n",
        "\n",
        "def bootstrap_zc_from_ois(maturities, rates):\n",
        "    return np.exp(-rates * maturities)  # taux continus\n",
        "\n",
        "zc_times = ois_maturities\n",
        "zc_discounts = bootstrap_zc_from_ois(zc_times, ois_rates)\n",
        "\n",
        "# On étend cette courbe avec les maturités des swaps\n",
        "def extend_zc_with_swaps(swap_maturities, swap_rates, zc_times, zc_discounts, delta):\n",
        "    P = list(zc_discounts)\n",
        "    T = list(zc_times)\n",
        "    known_years = set(np.round(T, 8))\n",
        "\n",
        "    for i, Tn in enumerate(swap_maturities):\n",
        "        n = int(Tn / delta)\n",
        "\n",
        "        # Étend jusqu'à n années\n",
        "        while len(P) <= n:\n",
        "            t_new = len(P) * delta\n",
        "            # Swap rate correspondant\n",
        "            S = np.interp(t_new, swap_maturities, swap_rates)\n",
        "            # Calcul de P(t_new)\n",
        "            sum_leg = sum(delta * P[j] * S for j in range(len(P)))\n",
        "            P_new = (1 - sum_leg) / (1 + delta * S)\n",
        "            P.append(P_new)\n",
        "            T.append(t_new)\n",
        "\n",
        "    return np.array(T), np.array(P)\n",
        "\n",
        "full_times, full_discounts = extend_zc_with_swaps(\n",
        "    swap_maturities, swap_rates, zc_times, zc_discounts, delta\n",
        ")\n",
        "\n",
        "# ================================\n",
        "# 3. Taux LIBOR implicites : L(T_{i−1}, T_i)\n",
        "# ================================\n",
        "\n",
        "def compute_libor_from_discounts(times, discounts, delta):\n",
        "    libor = []\n",
        "    libor_times = []\n",
        "    for i in range(1, len(times)):\n",
        "        ti = times[i]\n",
        "        ti_1 = times[i-1]\n",
        "        if abs(ti - ti_1 - delta) < 1e-6:  # intervalle constant\n",
        "            P_ti = discounts[i]\n",
        "            P_ti_1 = discounts[i-1]\n",
        "            L = (1/delta)*(P_ti_1 / P_ti - 1)\n",
        "            libor.append(L)\n",
        "            libor_times.append(ti)\n",
        "    return np.array(libor_times), np.array(libor)\n",
        "\n",
        "libor_maturities, libor_rates = compute_libor_from_discounts(full_times, full_discounts, delta)\n",
        "\n",
        "# ================================\n",
        "# 4. Affichage\n",
        "# ================================\n",
        "\n",
        "plt.figure(figsize=(10, 6))\n",
        "plt.plot(zc_times, zc_discounts, 'o-', label='ZC (bootstrappé OIS)')\n",
        "plt.plot(full_times, full_discounts, '--', label='ZC étendu avec swaps')\n",
        "plt.plot(libor_maturities, libor_rates * 100, 's-', label='Taux LIBOR (%)')\n",
        "plt.plot(swap_maturities, swap_rates * 100, 'x--', label='Taux SWAP (%)')\n",
        "plt.xlabel(\"Maturité (années)\")\n",
        "plt.ylabel(\"Taux / Prix\")\n",
        "plt.title(\"Courbes ZC et LIBOR dérivées des taux OIS et SWAP\")\n",
        "plt.grid(True)\n",
        "plt.legend()\n",
        "plt.tight_layout()\n",
        "plt.show()\n"
      ],
      "metadata": {
        "colab": {
          "base_uri": "https://localhost:8080/",
          "height": 607
        },
        "id": "0I_Pmf1lD4jn",
        "outputId": "b472e8c1-7b25-40c3-b755-a319390b584b"
      },
      "id": "0I_Pmf1lD4jn",
      "execution_count": 1,
      "outputs": [
        {
          "output_type": "display_data",
          "data": {
            "text/plain": [
              "<Figure size 1000x600 with 1 Axes>"
            ],
            "image/png": "[encoded data removed]"
          },
          "metadata": {}
        }
      ]
    },
    {
      "cell_type": "code",
      "execution_count": null,
      "id": "372f5a1e",
      "metadata": {
        "id": "372f5a1e"
      },
      "outputs": [],
      "source": []
    },
    {
      "cell_type": "markdown",
      "source": [
        "**Lemme 1**\n",
        "\n",
        "Soit $Δ\\sim N(0,σ^2)$, alors pour $f,g$ dans $C^1(\\mathbb{R})$\n",
        "\n",
        "$$\\mathbb{E}\\big\\{f'(Δ)g(Δ)\\big\\}=\\mathbb{E}\\Big\\{f(Δ)\\big(\\frac{Δ}{σ^2}g(Δ)-g'(\\Delta)\\big)\\Big\\}$$\n",
        "**********\n",
        "********\n",
        "**Preuve du lemme 1**\n",
        "\n",
        "On a\n",
        "$$\\begin{align*}\n",
        "\\mathbb{E}\\big\\{f'(Δ)g(Δ)\\big\\}&=∫_{\\mathbb{R}}f'(x)g(x)\\frac{e^{-\\frac{x^2}{2σ^2}}}{\\sqrt{2\\piσ^2}}dx\\\\\n",
        "&=\\Big[f(x)g(x)\\frac{e^{-\\frac{x^2}{2σ^2}}}{\\sqrt{2\\piσ^2}}\\Big]_{\\mathbb{R}}-∫_{\\mathbb{R}}f(x)\\Big(g'(x)-\\frac{x}{\\sigma^2}g(x)\\Big)\\frac{e^{-\\frac{x^2}{2σ^2}}}{\\sqrt{2\\piσ^2}}dx\\\\\n",
        "&=\\mathbb{E}\\Big\\{f(Δ)\\big(\\frac{Δ}{σ^2}g(Δ)-g'(\\Delta)\\big)\\Big\\}\n",
        "\\end{align*}$$\n",
        "************"
      ],
      "metadata": {
        "id": "UeGk7HSUnfK_"
      },
      "id": "UeGk7HSUnfK_"
    },
    {
      "cell_type": "markdown",
      "id": "a2b8a40c",
      "metadata": {
        "id": "a2b8a40c"
      },
      "source": [
        "# Modèle de Black and Scholes et Ajustement de Valorisation stochastique\n",
        "\n",
        "## Modèle de black scholes\n",
        "\n",
        "### Méthode Monte Carlo\n",
        "Soit\n",
        "$$S_t=\\frac{1}{r}\\sigma dB_t-\\frac{1}{r}dS_t$$\n",
        "\n",
        "On suppose que le prix $S_t$ d'une action A suit la dynamique suivante:\n",
        "\n",
        "$$dS_t=S_t\\left(rdt+\\sigma dB_t\\right)$$\n",
        "\n",
        "Où\n",
        "\n",
        "$$X_t=ln(S_t)$$\n",
        "\n",
        "donc\n",
        "\n",
        "$$dX_t=(r-\\frac{\\sigma^2}{2})dt+\\sigma dB_t$$\n",
        "\n",
        "\n",
        "\n",
        "\n",
        "\n",
        "\n",
        "\n",
        "\n",
        "\n",
        "\n",
        "\n",
        "\n",
        "Soit $Y_t=exp(-rt+X_t)=exp(-rt)S_t$\n",
        "donc,\n",
        "\n",
        "$$dY_t=X_tY_tdt+Y_tdX_t+\\frac{1}{2}\\sigma^2Y_tdt=Y_t(r-\\frac{\\sigma^2}{2}dt+\\sigma dB_t)+\\frac{1}{2}\\sigma^2Y_tdt=X_tY_tdt+Y_t\\left(rdt+\\sigma dB_t\\right)$$\n",
        "\n",
        "donc\n",
        "\n",
        "$$dY_t=X_tY_tdt+exp(-rt)dS_t=exp(-rt)(S_tln(S_t)+dS_t)$$\n",
        "\n",
        "\n",
        "On a alors,$$X_{n+1}-X_{n}=(r-\\frac{\\sigma^2}{2})\\frac{1}{n}+\\sigma \\frac{1}{\\sqrt{n}}G=-\\theta_nB(S_n,G_{n+1})$$\n",
        "\n",
        "\n",
        "\n",
        "\n",
        "\n",
        "\n",
        "\n",
        "\n",
        "\n",
        "$$\\begin{cases}\n",
        "      r= 5\\text{% : taux d'actualisation} & \\\\\n",
        "      \\sigma \\text{ : la volatilité} & \\\\\n",
        "      B_t \\text{ : Un mouvement brownien standard, } B_t \\sim \\mathcal{N}(0,\\,t) &\n",
        "    \\end{cases}$$\n",
        "\n",
        "la solution de cette EDS est la diffusion suivante $\\forall t\\geq 0$ et $\\sigma \\in [0,1]$:\n",
        "\n",
        "$$S_t(\\sigma)=S_0exp\\left\\{(r-\\frac{\\sigma^2}{2})t+\\sigma B_t\\right\\}=S_0exp\\left\\{(r-\\frac{\\sigma^2}{2})t+\\sigma \\sqrt{t} G\\right\\}$$\n",
        "\n",
        "On définit alors le prix d'un call europeen dont le sous jacent est A de la maniere suivante:\n",
        "\n",
        "$$C(\\sigma)=\\mathbb{E}\\left[e^{-rT}(S_T(\\sigma)-K)_+\\right]=\\mathbb{E}\\left[\\mathbb{1}_{e^{-rT}(S_T(\\sigma)-K)>0}e^{-rT}(S_T(\\sigma)-K)\\right]$$\n",
        "\n",
        "\n",
        "On a $\\forall t>0$\n",
        "\n",
        "$$e^{-rT}(S_T(\\sigma)-K)>0 \\iff S_0exp\\left\\{(r-\\frac{\\sigma^2}{2})T+\\sigma B_T\\right\\}>0$$\n",
        "\n",
        "$$\\iff S_0exp\\left\\{(r-\\frac{\\sigma^2}{2})T+\\sigma B_T\\right\\}>0$$\n",
        "\n",
        "On a aussi avec $d_t=1/n$ et $\\theta_n=\\frac{1}{\\sqrt{n}}$\n",
        "$$S_{n+1}-S_{n}=-\\theta_nB(S_n,G_{n+1})$$\n",
        "avec\n",
        "$$B(S_n,G_{n+1})=\\frac{S_n}{n}\\left(r+\\sigma \\sqrt{n} G\\right)$$\n",
        "\n",
        "soit la suite de variable aleatoires\n",
        "$$V_i=(S_T-K)_{+}=\\left(S_0exp\\left\\{(r-\\frac{\\sigma^2}{2})T+\\sigma \\sqrt{T}G_i\\right\\}-K\\right)_{+}$$\n",
        "avec\n",
        "$$t_i=\\frac{i}{n} \\text{  pour 0$\\leq$ i$\\leq$ n}$$\n",
        "\n",
        "Soit\n",
        "$$M_n=\\frac{V_0+....+V_n}{n} \\text{, alors, $M_n$ converge présque surement vers } C \\text{ le prix d'un call}$$\n",
        "\n",
        "On a avec $\\gamma_n=\\frac{1}{n+1}$\n",
        "\n",
        "$$M_{n+1} = M_n -\\gamma_n \\left(M_n - V_{n+1}\\right)= M_n -\\gamma_n F \\left(M_n , V_{n+1}\\right)$$\n",
        "En effet,\n",
        "\n",
        "$$\\begin{align*}\n",
        "M_{n+1}-M_n&=\\frac{n\\sum_{i=1}^{n+1}V_i-(n+1)\\sum_{i=1}^nG_i}{n(n+1)}&\\\\\n",
        "&=\\frac{V_{n+1}}{n+1}-\\frac{M_n}{n+1}&\\\\\n",
        "&=-\\gamma_n(M_n-V_{n+1})\n",
        "\\end{align*}$$\n",
        "\n",
        "Soit $f(x)=x-C$  et $x'$ tel que $f(x')=x'-C=0$ et $G$ une gaussienne centrée réduite, donc $\\mathbb{E}[G]=0$ et $Var[G]=1$.\n",
        "\n",
        "On a alors avec $F(x,G)=x-H(\\sigma,G)$\n",
        "\n",
        "avec\n",
        "\n",
        "$$F(\\sigma,G)=e^{-rT}\\left(S_0exp\\left\\{(r-\\frac{\\sigma^2}{2})T+\\sigma \\sqrt{T}G\\right\\}-K\\right)_+$$\n",
        "donc\n",
        "\n",
        "$$f(x)=\\mathbb{E}[F(x,G)]=x-C$$\n"
      ]
    },
    {
      "cell_type": "code",
      "source": [
        "import numpy as np\n",
        "import matplotlib.pyplot as plt\n",
        "from numpy.random import uniform, exponential, normal\n",
        "\n",
        "# Paramètres\n",
        "n_particles = 60         # M (nombre de particules)\n",
        "n_iterations = 5000      # N (nombre de répétitions pour estimer la proba)\n",
        "time_horizon = 1.0       # T final\n",
        "n_steps = 90             # discrétisation du temps\n",
        "dt = time_horizon / n_steps\n",
        "\n",
        "# Paramètres du modèle d'assurance\n",
        "a, b = 3., 3.\n",
        "to = 0.8\n",
        "lambdaa = 5.\n",
        "mu = 1.\n",
        "Ee = 1./mu\n",
        "cp = (1 + to) * lambdaa * Ee\n",
        "u_ini = Ee\n",
        "\n",
        "# Stockage\n",
        "means = []\n",
        "cumulative = 0\n",
        "\n",
        "for iteration in range(1, n_iterations + 1):\n",
        "    # Initialisation\n",
        "    U = np.full(n_particles, u_ini)\n",
        "    weights = np.ones(n_particles) / n_particles\n",
        "    norm = 1.0\n",
        "    alive = np.ones(n_particles)  # 1 = vivante, 0 = ruinée\n",
        "\n",
        "    for step in range(n_steps):\n",
        "        # Tirages des inter-arrivées\n",
        "        delta_t = exponential(1 / lambdaa, size=n_particles)\n",
        "        claim_occurs = delta_t < dt\n",
        "\n",
        "        # Primes reçues pendant dt\n",
        "        U += cp * dt\n",
        "\n",
        "        # Sinistres éventuels\n",
        "        S = exponential(1 / mu, size=n_particles)\n",
        "        U -= claim_occurs * S\n",
        "\n",
        "        # Vérifier ruine\n",
        "        alive = np.where(U >= 0, alive, 0)\n",
        "        U = np.where(U >= 0, U, 0)\n",
        "\n",
        "        # Poids (pas d'importance ici mais pour illustrer le principe)\n",
        "        weights = alive / np.sum(alive) if np.sum(alive) > 0 else weights\n",
        "\n",
        "        # Rééchantillonnage (type SMC) si trop peu de particules survivent\n",
        "        ess = 1.0 / np.sum(weights**2)\n",
        "        if ess < n_particles / 2:\n",
        "            # Rééchantillonnage systématique\n",
        "            cdf = np.cumsum(weights)\n",
        "            u0 = np.random.uniform(0, 1 / n_particles)\n",
        "            u = u0 + np.arange(n_particles) / n_particles\n",
        "            indices = np.searchsorted(cdf, u)\n",
        "            U = U[indices]\n",
        "            alive = alive[indices]\n",
        "            weights = np.ones(n_particles) / n_particles\n",
        "            norm *= np.mean(alive)\n",
        "\n",
        "    # Estimateur final de survie : moyenne des indicatrices\n",
        "    estimate = np.mean(alive)\n",
        "    cumulative += estimate\n",
        "    means.append(cumulative / iteration)\n",
        "\n",
        "# Affichage de la convergence\n",
        "plt.figure(figsize=(10,5))\n",
        "plt.plot(means, label='Estimateur avec particules (SMC)', color='red')\n",
        "plt.hlines(y=np.mean(means[-100:]), xmin=0, xmax=n_iterations, color='black', linestyle='--', label='Moyenne finale')\n",
        "plt.xlabel(\"Nombre de répétitions\")\n",
        "plt.ylabel(\"Probabilité de survie estimée\")\n",
        "plt.title(\"Estimation de la probabilité de survie avec système de particules\")\n",
        "plt.legend()\n",
        "plt.grid()\n",
        "plt.show()\n"
      ],
      "metadata": {
        "colab": {
          "base_uri": "https://localhost:8080/",
          "height": 488
        },
        "id": "8aQJ-kw3q0wX",
        "outputId": "4be2371b-f6dd-4683-9c65-b5ae3034efba"
      },
      "id": "8aQJ-kw3q0wX",
      "execution_count": 14,
      "outputs": [
        {
          "output_type": "display_data",
          "data": {
            "text/plain": [
              "<Figure size 1000x500 with 1 Axes>"
            ],
            "image/png": "[encoded data removed]"
          },
          "metadata": {}
        }
      ]
    }
  ],
  "metadata": {
    "kernelspec": {
      "display_name": "rdwsenv_py39",
      "language": "python",
      "name": "rdwsenv_py39"
    },
    "language_info": {
      "codemirror_mode": {
        "name": "ipython",
        "version": 3
      },
      "file_extension": ".py",
      "mimetype": "text/x-python",
      "name": "python",
      "nbconvert_exporter": "python",
      "pygments_lexer": "ipython3",
      "version": "3.9.18"
    },
    "colab": {
      "provenance": []
    }
  },
  "nbformat": 4,
  "nbformat_minor": 5
}