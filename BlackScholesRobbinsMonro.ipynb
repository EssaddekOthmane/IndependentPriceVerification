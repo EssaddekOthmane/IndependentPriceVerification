{
  "cells": [
    {
      "cell_type": "markdown",
      "id": "8d10ac5a",
      "metadata": {
        "id": "8d10ac5a"
      },
      "source": [
        "<h1><center>Sur l'Ajustement de Valorisation IPV</center></h1>\n"
      ]
    },
    {
      "cell_type": "markdown",
      "id": "f31a574b",
      "metadata": {
        "id": "f31a574b"
      },
      "source": [
        "# Introduction\n",
        "\n",
        "Le but de cet exercice est d'impliciter la volatilité du sous jacent dans le modèle de Black Scholes et de faire un Ajustement de Valorisation à Valeur Principale d'un call *(le prix que nous donne le pricer)* pour s'approcher de la **Juste Valeur**.\n",
        "\n",
        "$$\\text{Juste Valeur}=\\text{Valorisation Principale}+\\text{Ajustement de Valorisation (IPV)}$$\n",
        "\n",
        "Soit $C(\\sigma)$ le prix fourni par le pricer d'un call européen de sous jacent une action $A$ dont le prix est $S_0$ à l'émission du contrat, de strike $K=100$ et de maturité $T=1$ an et $C_m$ le prix consensus d'un call avec les mêmes caractéristiques founi par Totem.\n",
        "\n",
        "On définit la fonction $f$ comme suit :\n",
        "\n",
        "$$f(\\sigma)=C(\\sigma)-C_m$$\n",
        "\n",
        "L'objectif est alors de trouver $\\sigma '$ telle que\n",
        "\n",
        "$$f(\\sigma ')=C(\\sigma ')-C_m=0$$\n",
        "\n",
        "\n",
        "\n",
        "Pour faire notre premiere éstimation du prix de ce call nous avons utilisé une volatilité historique $\\sigma_h=0.3$\n",
        "\n",
        "Pour trouver $\\sigma '$ nous allons utiliser l'algorithme de Newton Raphson"
      ]
    },
    {
      "cell_type": "markdown",
      "id": "192e8523",
      "metadata": {
        "id": "192e8523"
      },
      "source": [
        "# Modèle de Black Scholes"
      ]
    },
    {
      "cell_type": "markdown",
      "id": "412ac634",
      "metadata": {
        "id": "412ac634"
      },
      "source": [
        "## Calcul du taux sans risque"
      ]
    },
    {
      "cell_type": "markdown",
      "id": "5c185b7d",
      "metadata": {
        "id": "5c185b7d"
      },
      "source": [
        "On considère une obligation de maturité M=5ans un notionnel N=100.\n",
        "On suppose que le coupon de l’obligation est de la forme c_0=ref + s_0\n",
        "Avec ref un taux de référence par exemple le taux de rendement d’une obligation émise par l’état américain.\n",
        "A l’émission de l’obligation on actualise les flux future avec le taux c_0=ref + s_0 pour être au pair (Question?)\n",
        "\n",
        "On a alors le prix initial de l’obligation :\n",
        " $$ \\pi_0=\\pi(s_0)=N.\\sum_{i=0}^M B(t_i)(ref+s_0)+N.B(t_n)$$\n",
        "\n",
        " avec,\n",
        "\n",
        " $$B(t_i)=\\frac{1}{(1+ref+s_0)^{t_i}}$$\n",
        "\n",
        " On pose maintenant\n",
        "\n",
        " $$\\pi(s)=N.\\sum_{i=0}^M B(t_i)(ref+s)+N.B(t_n)$$\n",
        "\n",
        " On a alors,\n",
        "\n",
        "  $$\\pi'(s)=N.\\sum_{i=0}^M B(t_i)$$\n",
        "  \n",
        "Etant donné un prix $π_{mkt}$ on peut trouver $s_{mkt}$ tel que\n",
        "$$\\pi(s_{mkt})=π_{mkt}=N.\\sum_{i=0}^M B(t_i)(ref+s_{mkt})+N.B(t_n)$$\n",
        "donc\n",
        "$$s_{mkt}=\\frac{\\frac{π_{mkt}}{N}-B(t_n)-ref.\\sum_{i=0}^M B(t_i)}{\\sum_{i=0}^M B(t_i)}$$"
      ]
    },
    {
      "cell_type": "markdown",
      "id": "980a48d2",
      "metadata": {
        "id": "980a48d2"
      },
      "source": [
        "On a"
      ]
    },
    {
      "cell_type": "code",
      "execution_count": 3,
      "id": "6e8a0f75",
      "metadata": {
        "id": "6e8a0f75"
      },
      "outputs": [],
      "source": [
        "import numpy as np\n",
        "import scipy\n",
        "from scipy.stats import norm\n",
        "import matplotlib.pyplot as plt"
      ]
    },
    {
      "cell_type": "code",
      "execution_count": 6,
      "id": "29bec81c",
      "metadata": {
        "id": "29bec81c",
        "outputId": "3bc9c21a-52cf-4373-f248-7ce33ff2697d",
        "colab": {
          "base_uri": "https://localhost:8080/"
        }
      },
      "outputs": [
        {
          "output_type": "stream",
          "name": "stdout",
          "text": [
            "New price :101.5496368038741\n",
            "Initial price + delta * sensi :101.5496368038741\n",
            "theoSpread - spread0 :160.00000000000065\n",
            "market spread - spread0 :160.0\n",
            "0.04850000000000007\n"
          ]
        }
      ],
      "source": [
        "OneBP = 0.0001\n",
        "\n",
        "refRate = 250 * OneBP\n",
        "s0 = 75 * OneBP\n",
        "\n",
        "coupon0 = refRate + s0\n",
        "\n",
        "ParDiscount = coupon0\n",
        "\n",
        "Notional = 100\n",
        "Maturity = 1\n",
        "\n",
        "\n",
        "def BondPrice(refrate, spread, discount, maturity, notional):\n",
        "    leg = sum([(refrate + spread) / (1 + discount) ** i for i in range(1, maturity + 1)])\n",
        "    discountEnd = 1 / (1 + discount) ** maturity\n",
        "    return (leg + discountEnd) * notional\n",
        "\n",
        "\n",
        "\n",
        "def dBondPrice(discount, maturity, notional):\n",
        "    return notional * sum([1 / (1 + discount) ** i for i in range(1, maturity + 1)])\n",
        "\n",
        "\n",
        "\n",
        "\n",
        "def GetSpreadFromPrice(refrate, discount, maturity, notional, price):\n",
        "    leg = sum([refrate / (1 + discount) ** i for i in range(1, maturity + 1)])\n",
        "    bpv = sum([1 / (1 + discount) ** i for i in range(1, maturity + 1)])\n",
        "    discountEnd = 1 / (1 + discount) ** maturity\n",
        "    return (price / notional - discountEnd - leg) / bpv\n",
        "    pass\n",
        "\n",
        "\n",
        "\n",
        "initialPrice = BondPrice(refRate, s0, ParDiscount, Maturity, Notional)\n",
        "\n",
        "delta = 160 * OneBP\n",
        "\n",
        "newPrice = BondPrice(refRate, s0 + delta, ParDiscount, Maturity, Notional)\n",
        "\n",
        "sensi = dBondPrice(ParDiscount, Maturity, Notional)\n",
        "\n",
        "TehoSpread = GetSpreadFromPrice(refRate, ParDiscount, Maturity, Notional, newPrice) / OneBP\n",
        "\n",
        "print(f\"New price :{newPrice}\")\n",
        "\n",
        "print(f\"Initial price + delta * sensi :{initialPrice + delta * sensi}\")\n",
        "\n",
        "print(f\"theoSpread - spread0 :{TehoSpread-s0/OneBP}\")\n",
        "print(f\"market spread - spread0 :{delta/OneBP}\")\n",
        "\n",
        "MarketRate=(refRate+TehoSpread*OneBP)\n",
        "print(MarketRate)"
      ]
    },
    {
      "cell_type": "markdown",
      "id": "c13fbc04",
      "metadata": {
        "id": "c13fbc04"
      },
      "source": [
        "On suppose que le prix $S_t$ d'une action A suit la dynamique suivante:\n",
        "\n",
        "$$dS_t=S_t\\left(rdt+\\sigma dB_t\\right)$$\n",
        "\n",
        "Avec\n",
        "\n",
        "$$X_t=ln(S_t)$$\n",
        "\n",
        "On trouve que\n",
        "\n",
        "$$dX_t=(r-\\frac{\\sigma^2}{2})dt+\\sigma dB_t$$\n",
        "\n",
        "Donc\n",
        "\n",
        "$$X_t=X_0+(r-\\frac{\\sigma^2}{2})t+\\sigma B_t$$\n",
        "\n",
        "Alors $\\forall t\\geq 0,$\n",
        "\n",
        "$$S_t(\\sigma)=S_0exp\\left\\{(r-\\frac{\\sigma^2}{2})t+\\sigma B_t\\right\\}=S_0exp\\left\\{(r-\\frac{\\sigma^2}{2})t+\\sigma \\sqrt{t} G\\right\\}$$\n",
        "\n",
        "Le prix d'un call $C$ s'ecrit sous la forme suivante:\n",
        "\n",
        "$$\\begin{align*}\n",
        "C(\\sigma)&=\\mathbb{E}\\big\\{e^{-rT}(S_T(\\sigma)-K)_+\\big\\}\\\\\n",
        "\\\\\n",
        "&=\\mathbb{E}\\big\\{\\mathbb{1}_{S_T(\\sigma)-K>0}e^{-rT}(S_T(\\sigma)-K)\\big\\}\\\\\n",
        "\\\\\n",
        "&=e^{-rT}\\mathbb{E}\\big\\{S_T(\\sigma)\\mathbb{1}_{S_T(\\sigma)-K>0}\\big\\}+Ke^{-rT}\\mathbb{P}\\big\\{S_T(\\sigma)-K>0\\big\\}\n",
        "\\end{align*}$$\n",
        "\n",
        "On a d'un coté\n",
        "\n",
        "$$\\begin{align*}\n",
        "\\mathbb{P}\\big\\{S_T(\\sigma)-K>0\\big\\}&=\\mathbb{P}\\big\\{(r-\\frac{\\sigma^2}{2})T+\\sigma B_T>ln(\\frac{K}{S_0})\\big\\}\\\\\n",
        "\\\\\n",
        "&=\\mathbb{P}\\big\\{G>-d_2\\big\\}\n",
        "\\end{align*}$$\n",
        "\n",
        "Et vu que $-G$ et $G$ suivent la meme loi,\n",
        "\n",
        "$$\\mathbb{P}\\big\\{S_T(\\sigma)-K>0\\big\\}=\\mathbb{P}\\big\\{G<d_2\\big\\}=N(d_2)$$\n",
        "\n",
        "D'un autre coté On a,\n",
        "\n",
        "$$\\begin{align*}\n",
        "\\mathbb{E}\\left\\{S_T(\\sigma)\\mathbb{1}_{S_T(\\sigma)-K>0}\\right\\}&=S_0\\mathbb{E}\\left\\{ e^{(r-\\frac{\\sigma^2}{2})T+\\sigma B_T} \\mathbb{1}_{G>d_2}\\right\\}\\\\\n",
        "\\\\\n",
        "&=\\int_{\\mathbb{R}}\\mathbb{1}_{G>x}e^{-\\frac{x^2}{2}T+\\sigma \\sqrt{T} x-\\frac{\\sigma^2}{2}T}\\frac{dx}{\\sqrt{2\\pi}} \\\\\n",
        "\\\\\n",
        "&=\\int_{-d2}^{+\\infty}e^{-\\frac{x^2}{2}}\\\\\n",
        "\\\\\n",
        "&=S_0N(d1)\n",
        "\\end{align*}$$\n",
        "\n",
        "Finalement on trouve que :\n",
        "\n",
        "$$C(\\sigma)=S_0N(d_1)-Ke^{-rT}N(d_2)$$\n",
        "\n",
        "Où\n",
        "\n",
        "$$\\begin{cases}\n",
        "      r \\text{ : taux d'actualisation} & \\\\\n",
        "      \\sigma \\text{ : la volatilité} & \\\\\n",
        "      N \\text{: la fonction de répartition de la loi normale}\n",
        "    \\end{cases}$$\n",
        "\n",
        "Et\n",
        "\n",
        "$$d_1=\\frac{ln\\left(\\frac{S_0}{K}\\right)+\\left(r+\\frac{\\sigma^2}{2}\\right)T}{\\sigma\\sqrt{T}} \\text{ et } d_2=d_1-\\sigma\\sqrt{T}$$"
      ]
    },
    {
      "cell_type": "code",
      "execution_count": 10,
      "id": "279c7f1a",
      "metadata": {
        "id": "279c7f1a"
      },
      "outputs": [],
      "source": [
        "# !pip install numpy\n",
        "# !pip install scipy"
      ]
    },
    {
      "cell_type": "code",
      "execution_count": 7,
      "id": "5d60b4b9",
      "metadata": {
        "id": "5d60b4b9",
        "outputId": "38054640-424b-4c24-c89f-cc8287477499",
        "colab": {
          "base_uri": "https://localhost:8080/"
        }
      },
      "outputs": [
        {
          "output_type": "execute_result",
          "data": {
            "text/plain": [
              "np.float64(9.9602743324468)"
            ]
          },
          "metadata": {},
          "execution_count": 7
        }
      ],
      "source": [
        "T=1\n",
        "S_0=100\n",
        "r=MarketRate\n",
        "sigma_h=0.3\n",
        "K=110\n",
        "C_m=10\n",
        "\n",
        "\n",
        "def d1(x):\n",
        "    return (1/(x*np.sqrt(T)))*(np.log(S_0/K)+(r+0.5*x**2)*T)\n",
        "\n",
        "\n",
        "def d2(x):\n",
        "    return d1(x)-x*np.sqrt(T)\n",
        "\n",
        "\n",
        "def call_ferme(x):\n",
        "    return S_0*norm.cdf(d1(x))-K*np.exp(-r*T)*norm.cdf(d2(x))\n",
        "\n",
        "call_ferme(sigma_h)\n"
      ]
    },
    {
      "cell_type": "markdown",
      "id": "083be942",
      "metadata": {
        "id": "083be942"
      },
      "source": [
        "On va chercher alors la racine de la fonction $f$. Pour faire cela nous allons utiliser l'algorithme de Newton Raphson.\n",
        "\n",
        "------------------------------------------------------------------\n",
        "\n",
        "**Définiton :**\n",
        "\n",
        "On utilise l'algorithme de Newton Raphson pour trouver la racine d'une fonction $f$ et est définit itérativement de la manière suivante\n",
        " $$\\begin{cases}\n",
        "      x_0=v & \\\\\n",
        "      x_{n+1}=x_{n}-\\frac{f(x_n)}{f'(x_n)} &\n",
        "    \\end{cases}$$\n",
        "    \n",
        "    \n",
        "-----------------------------------------------------------------\n"
      ]
    },
    {
      "cell_type": "markdown",
      "id": "3c45bd32",
      "metadata": {
        "id": "3c45bd32"
      },
      "source": [
        "On a\n",
        "\n",
        "$$f(\\sigma)=C(\\sigma)-C_m=S_0N(d_1)-Ke^{-rT}N(d_2)-C_m$$\n",
        "\n",
        "Et on peut monter que\n",
        "\n",
        "$$\\frac{\\partial f(\\sigma)}{\\partial \\sigma}=\\frac{\\partial C(\\sigma)}{\\partial \\sigma}=S_0\\sqrt{T}N'(d1)$$\n",
        "\n",
        "Où\n",
        "$$N'(x)=\\frac{1}{\\sqrt{2\\pi}}e^{\\frac{-x^2}{2}}$$\n",
        "\n"
      ]
    },
    {
      "cell_type": "code",
      "execution_count": 8,
      "id": "2d33aff0",
      "metadata": {
        "id": "2d33aff0",
        "outputId": "7929cdbf-f92a-4229-fc06-2ef89b6b7264",
        "colab": {
          "base_uri": "https://localhost:8080/"
        }
      },
      "outputs": [
        {
          "output_type": "execute_result",
          "data": {
            "text/plain": [
              "np.float64(0.30099579006505994)"
            ]
          },
          "metadata": {},
          "execution_count": 8
        }
      ],
      "source": [
        "def f(x):\n",
        "    return call_ferme(x)-C_m\n",
        "\n",
        "\n",
        "def dN(x):\n",
        "    return 1/(np.sqrt(2*np.pi))*np.exp(-x**2/2)\n",
        "\n",
        "\n",
        "def df(x):\n",
        "    return S_0*np.sqrt(T)*dN(d1(x))\n",
        "\n",
        "\n",
        "\n",
        "def newton_raphson(x_0,conf,max_iter,g,dg):\n",
        "    x_n=x_0\n",
        "    for i in range(max_iter):\n",
        "        x_n_plus_1= x_n-g(x_n)/dg(x_n)\n",
        "\n",
        "        if abs(x_n_plus_1-x_n)<conf:\n",
        "            return x_n_plus_1\n",
        "        x_n=x_n_plus_1\n",
        "    print(\"solution non trouvé\")\n",
        "\n",
        "\n",
        "sigma_prim=newton_raphson(1,conf=10**-5,max_iter=1000,g=f,dg=df)\n",
        "\n",
        "sigma_prim"
      ]
    },
    {
      "cell_type": "markdown",
      "id": "c3174f97",
      "metadata": {
        "id": "c3174f97"
      },
      "source": [
        "# Calcul de l'Ajusttement de Valorisation\n",
        "\n",
        "## définition de l'IPV\n",
        "\n",
        "La **vérification indépendante des prix** est un processus de plus en plus important pour soutenir les fonctions financières et de risque dans un large éventail d'institutions financières. Le processus de base de la IPV exige que les prix internes soient vérifiés par rapport à des sources tierces indépendantes.\n",
        "\n",
        "Le Prudent Valuation Guidance de Bâle II définit la Vérification Indépendante des Prix comme \"le processus par lequel les prix du marché ou les données d'entrée des modèles sont régulièrement vérifiés pour s'assurer de leur exactitude\". La vérification des prix du marché ou des données du modèle doit être effectuée par une unité indépendante de la salle des marchés, au moins une fois par mois (ou, selon la nature du marché/de l'activité de négociation, plus fréquemment)\".\n",
        "\n",
        "## Application numérique\n",
        "\n",
        "### Sensibilité\n",
        "\n",
        "Le Vega est un type de grecque qui est utilisé pour calculer la sensibilité ou le taux de variation de la valeur d'un contrat d'option par rapport à la volatilité de l'actif sous-jacent. Le Vega est désigné par la lettre $V$. Essentiellement, le vega est la dérivée partielle première de la valeur du contrat d'option par rapport à la volatilité de l'actif sous-jacent.\n",
        "\n",
        "$$V=\\frac{\\partial C(\\sigma)}{\\partial \\sigma}(\\sigma_h)=S_0\\sqrt{T}N'(d1)$$\n",
        "\n",
        "Où\n",
        "$$N'(x)=\\frac{1}{\\sqrt{2\\pi}}e^{\\frac{-x^2}{2}}$$"
      ]
    },
    {
      "cell_type": "code",
      "execution_count": 9,
      "id": "5ca81237",
      "metadata": {
        "id": "5ca81237",
        "outputId": "09b11fa7-de71-483c-f16a-28db262db888",
        "colab": {
          "base_uri": "https://localhost:8080/"
        }
      },
      "outputs": [
        {
          "output_type": "execute_result",
          "data": {
            "text/plain": [
              "np.float64(39.89350180537247)"
            ]
          },
          "metadata": {},
          "execution_count": 9
        }
      ],
      "source": [
        "\n",
        "\n",
        "sensi=S_0*np.sqrt(T)*dN(d1(sigma_h))\n",
        "\n",
        "sensi"
      ]
    },
    {
      "cell_type": "markdown",
      "id": "a118571e",
      "metadata": {
        "id": "a118571e"
      },
      "source": [
        "**Remarque :**\n",
        "\n",
        "En pratique on utilise plutot la formule suivante pour calculer la senbilité:\n",
        "\n",
        "$$sensi_{bis}=\\frac{\\partial C(\\sigma)}{\\partial \\sigma}(\\sigma_h)=\\lim\\limits_{\\delta \\sigma \\rightarrow + 0}\\frac{C(\\sigma_h + \\delta \\sigma)-C(\\sigma_h)}{\\delta \\sigma}=\\frac{C(\\sigma_h + 1BP)-C(\\sigma_h)}{1BP}$$"
      ]
    },
    {
      "cell_type": "code",
      "execution_count": 14,
      "id": "6fd127ce",
      "metadata": {
        "id": "6fd127ce",
        "outputId": "9b9cdca6-88c6-40c6-8126-a6c4e4c10d2b",
        "colab": {
          "base_uri": "https://localhost:8080/"
        }
      },
      "outputs": [
        {
          "output_type": "execute_result",
          "data": {
            "text/plain": [
              "np.float64(39.89351401273211)"
            ]
          },
          "metadata": {},
          "execution_count": 14
        }
      ],
      "source": [
        "sensi_bis=(call_ferme(sigma_h+0.0001)-call_ferme(sigma_h))/0.0001\n",
        "\n",
        "sensi_bis"
      ]
    },
    {
      "cell_type": "markdown",
      "id": "c8911fc5",
      "metadata": {
        "id": "c8911fc5"
      },
      "source": [
        "### IPV ( sensi choc )\n",
        "----------------\n",
        "\n",
        "**Définitions :**\n",
        "\n",
        "* Dans notre contexte, la **choc** est définie comme suit :\n",
        "$$\\text{choc}=\\sigma '-\\sigma_h$$\n",
        "\n",
        "* Et on définit l'IPV comme suit :\n",
        "$$IPV=\\text{choc} . sensi = (\\sigma '-\\sigma_h).sensi$$\n",
        "\n",
        "---------------"
      ]
    },
    {
      "cell_type": "code",
      "execution_count": 15,
      "id": "ece12c58",
      "metadata": {
        "id": "ece12c58",
        "outputId": "05057d5a-00df-4f43-8e44-bcb6b415b9a0",
        "colab": {
          "base_uri": "https://localhost:8080/"
        }
      },
      "outputs": [
        {
          "output_type": "execute_result",
          "data": {
            "text/plain": [
              "np.float64(0.03972555275824124)"
            ]
          },
          "metadata": {},
          "execution_count": 15
        }
      ],
      "source": [
        "IPV=(sigma_prim-sigma_h)*sensi\n",
        "\n",
        "IPV"
      ]
    },
    {
      "cell_type": "code",
      "execution_count": 16,
      "id": "cf07e19b",
      "metadata": {
        "id": "cf07e19b",
        "outputId": "418591e2-6e13-43d5-c17d-3a6e4ba3f865",
        "colab": {
          "base_uri": "https://localhost:8080/"
        }
      },
      "outputs": [
        {
          "output_type": "execute_result",
          "data": {
            "text/plain": [
              "np.float64(9.999999999999993)"
            ]
          },
          "metadata": {},
          "execution_count": 16
        }
      ],
      "source": [
        "call_ferme(sigma_prim)"
      ]
    },
    {
      "cell_type": "markdown",
      "id": "fc7fd764",
      "metadata": {
        "id": "fc7fd764"
      },
      "source": [
        "# Ajustement de valorisation\n",
        "\n",
        "Finalement, On calcule le proxy de la **Juste Valeur** comme suit :\n",
        "\n",
        "$$\\text{Juste Valeur}=\\text{Valorisation principale}+\\text{Ajustement de valorisation (IPV)}$$"
      ]
    },
    {
      "cell_type": "code",
      "execution_count": 17,
      "id": "317f3aa3",
      "metadata": {
        "id": "317f3aa3",
        "outputId": "76afe5ae-3a40-4d2d-e3c9-0633f2062a08",
        "colab": {
          "base_uri": "https://localhost:8080/"
        }
      },
      "outputs": [
        {
          "output_type": "execute_result",
          "data": {
            "text/plain": [
              "np.float64(9.999999885205042)"
            ]
          },
          "metadata": {},
          "execution_count": 17
        }
      ],
      "source": [
        "fair_value=call_ferme(sigma_h)+IPV\n",
        "\n",
        "fair_value"
      ]
    },
    {
      "cell_type": "markdown",
      "id": "c1d142c0",
      "metadata": {
        "id": "c1d142c0"
      },
      "source": [
        "-----------------\n",
        "\n",
        "**Remarque 1:**\n",
        "On retombe bien sur une valeur proche du prix sur le marché.\n",
        "\n",
        "--------------------\n",
        "\n",
        "-------------------------\n",
        "\n",
        "**Remarque 2:**\n",
        "\n",
        "On a grace au développement de Taylor-Young au point $\\sigma '$\n",
        "\n",
        "$$C(\\sigma ')\\approx C(\\sigma_h) +(\\sigma '-\\sigma_h)\\partial_{\\sigma}C(\\sigma_h)$$\n",
        "\n",
        "Donc\n",
        "\n",
        "$$C_m\\approx C(\\sigma_h) +(\\sigma '-\\sigma_h).sensi$$\n",
        "\n",
        "Donc\n",
        "\n",
        "$$C_m \\approx \\text{Juste Valeur}$$\n",
        "\n",
        "----------------------------\n",
        "\n",
        "# Conclusion\n",
        "\n",
        "----------------------\n",
        "\n",
        "**Définition :**\n",
        "\n",
        "D'après La **norme IFRS 13**, la **\"juste valeur\"** (ou \"fair value\" en anglais) se définit comme *\"le prix qui serait reçu pour la vente d'un actif ou payé pour le transfert d'un passif lors d'une transaction normale entre des participants de marché bien informés à la date d'évaluation\"*.\n",
        "\n",
        "-------------------\n",
        "**Conclusion :**\n",
        "\n",
        "D'après les remarques 1 et 2 on peut conclure que notre démarche nous permet de retrouver la Juste Valeur qui est approximativement la valeur sur le marché."
      ]
    },
    {
      "cell_type": "markdown",
      "id": "71149426",
      "metadata": {
        "id": "71149426"
      },
      "source": [
        "**************************"
      ]
    },
    {
      "cell_type": "markdown",
      "id": "9731751e",
      "metadata": {
        "id": "9731751e"
      },
      "source": [
        "# Algorithme de Robbins Monro\n",
        "\n",
        "soit $f$ une fonction continue telle qu'il existe $F$ une fonction et $U$ une variable aléatoire de loi connue telles que\n",
        "\n",
        "$$f(x)=\\mathbb{E}[F(x,U)]$$\n",
        "\n",
        "Le but de l'algorithme de Robbins Monro est de trouver, presque surement, $x'$ tel que\n",
        "\n",
        "$$f(x')=\\mathbb{E}[F(x',U)]=0$$\n",
        "\n",
        "-----------------\n",
        "**Définition:**\n",
        "\n",
        "Le théoreme de Robbins Monro stipule que si on définie itérativement une suite de variables aléatoires $(X_n)_{n\\geq0}$:\n",
        "\n",
        "$$\\begin{cases}\n",
        "      X_0= x_0 & \\\\\n",
        "      X_{n+1}=X_n-\\gamma_nF(X_n,U_{n+1}) &\n",
        "    \\end{cases}$$\n",
        "    \n",
        "Où $(\\gamma_n)_{n\\geq0}$ une suite telle que $\\sum_{n\\geq0}\\gamma_n<\\infty$ et $(U_n)_{n\\geq0}$ une suite de variables aléatoires idépendantes et identiquement distribuées selon la même loi que $U$.\n",
        "\n",
        "Alors,\n",
        "$$X_n \\text{ converge presque surement vers }x'$$\n",
        "\n",
        "----------------"
      ]
    },
    {
      "cell_type": "markdown",
      "id": "b56d53d8",
      "metadata": {
        "id": "b56d53d8"
      },
      "source": [
        "soit la suite de variable aleatoires\n",
        "$$V_i=e^{-rT}(S_T-K)_{+} - C=e^{-rT}\\left(S_0exp\\left\\{(r-\\frac{\\sigma^2}{2})T+\\sigma \\sqrt{T}G_i\\right\\}-K\\right)_{+} - C=H(\\sigma,G_i)$$\n",
        "\n",
        "\n",
        "Alors avec\n",
        "\n",
        "$$M_n=\\frac{V_0+....+V_n}{n} \\text{, $M_n$ converge présque surement vers } \\sigma ' $$\n",
        "\n",
        "J'ai avec $\\gamma_n=\\frac{1}{n+1}$\n",
        "\n",
        "$$M_{n+1} = M_n -\\gamma_n \\left(M_n - V_{n+1}\\right)=M_n -\\gamma_n \\left(M_n - H(\\sigma,G_{n+1})\\right)= M_n -\\gamma_n F \\left(M_n , G_{n+1}\\right)$$\n",
        "\n",
        "En effet,\n",
        "\n",
        "$$\\begin{align*}\n",
        "M_{n+1}-M_n&=\\frac{n\\sum_{i=1}^{n+1}V_i-(n+1)\\sum_{i=1}^nV_i}{n(n+1)}&\\\\\n",
        "\\\\\n",
        "&=\\frac{V_{n+1}}{n+1}-\\frac{M_n}{n+1}&\\\\\n",
        "\\\\\n",
        "&=-\\gamma_n(M_n-V_{n+1})\\\\\n",
        "\\\\\n",
        "&= -\\gamma_n F \\left(M_n , G_{n+1}\\right)\\\\\n",
        "\\\\\n",
        "\\end{align*}$$\n",
        "\n",
        "<!-- Soit $f(x)=x-C$  et $x'$ tel que $f(x')=x'-C=0$ et $G$ une gaussienne centrée réduite, donc $\\mathbb{E}[G]=0$ et $Var[G]=1$.\n",
        "\n",
        "\n",
        "\n",
        "Finalement je trouve que,\n",
        "\n",
        "$$f(x)=\\mathbb{E}[F(x,G)]=x-C$$ -->\n"
      ]
    },
    {
      "cell_type": "code",
      "execution_count": 18,
      "id": "308d748b",
      "metadata": {
        "id": "308d748b",
        "outputId": "3a8f14a0-f8c5-4b68-eee3-b5da3f8d968e",
        "colab": {
          "base_uri": "https://localhost:8080/"
        }
      },
      "outputs": [
        {
          "output_type": "execute_result",
          "data": {
            "text/plain": [
              "np.float64(0.6316699644167902)"
            ]
          },
          "metadata": {},
          "execution_count": 18
        }
      ],
      "source": [
        "(r+0.14163)/sigma_prim\n"
      ]
    },
    {
      "cell_type": "code",
      "execution_count": 19,
      "id": "678d675a",
      "metadata": {
        "id": "678d675a",
        "outputId": "65f34243-1efc-499e-a0da-826141a74e9f",
        "colab": {
          "base_uri": "https://localhost:8080/"
        }
      },
      "outputs": [
        {
          "output_type": "execute_result",
          "data": {
            "text/plain": [
              "np.float64(0.25249579006505984)"
            ]
          },
          "metadata": {},
          "execution_count": 19
        }
      ],
      "source": [
        "sigma_prim-r"
      ]
    },
    {
      "cell_type": "code",
      "execution_count": 20,
      "id": "b1a81e40",
      "metadata": {
        "id": "b1a81e40",
        "outputId": "b806ab67-6ab7-46b8-94f9-eb3068a3c8a2",
        "colab": {
          "base_uri": "https://localhost:8080/",
          "height": 482
        }
      },
      "outputs": [
        {
          "output_type": "stream",
          "name": "stderr",
          "text": [
            "/tmp/ipython-input-11-1398341512.py:10: RuntimeWarning: divide by zero encountered in scalar divide\n",
            "  return (1/(x*np.sqrt(T)))*(np.log(S_0/K)+(r+0.5*x**2)*T)\n"
          ]
        },
        {
          "output_type": "display_data",
          "data": {
            "text/plain": [
              "<Figure size 640x480 with 1 Axes>"
            ],
            "image/png": "[encoded data removed]"
          },
          "metadata": {}
        },
        {
          "output_type": "stream",
          "name": "stdout",
          "text": [
            "0.2975184563186823\n"
          ]
        }
      ],
      "source": [
        "MAX=5\n",
        "n=100000\n",
        "beta=1\n",
        "c=1\n",
        "\n",
        "Lambda=1.5#(r+0.14163)/sigma_prim\n",
        "\n",
        "def gamma(n):\n",
        "    return c/(n+1)**beta\n",
        "\n",
        "def Theta(n):\n",
        "    return 1/np.sqrt(n)\n",
        "\n",
        "def algorithme_rm(x_0,n,F,G):\n",
        "    X=np.zeros(n)\n",
        "    X[0]=x_0\n",
        "    for i in range(0,n-1):\n",
        "        X[i+1]=X[i]-gamma(i)*F(X[i],G[i+1])\n",
        "    return X\n",
        "\n",
        "\n",
        "def algorithme_rm_chen(x_0,MAX,n,F,G):\n",
        "    X=np.zeros(n);\n",
        "    X[0] = x_0;\n",
        "    for i in range(n-1):\n",
        "        X[i+1]=X[i]-gamma(i)*F(X[i],G[i+1])\n",
        "        if(abs(X[i+1]) >= MAX):\n",
        "            X[i+1]=0\n",
        "    return X\n",
        "\n",
        "\n",
        "\n",
        "\n",
        "def F_BS(x,U):\n",
        "    return np.exp(-r*T)*max(S_0*np.exp((r-0.5*x**2)*T+x*np.sqrt(T)*U)-K,0)-C_m\n",
        "\n",
        "\n",
        "def F_BS_2(x,U):\n",
        "    return np.exp(-U*Lambda-Lambda**2*0.5)*np.exp(-r*T)*max(S_0*np.exp((r-0.5*x**2)*T+x*np.sqrt(T)*(U+Lambda))-K,0)-C_m\n",
        "\n",
        "\n",
        "def FP(x,g):\n",
        "    u=0\n",
        "    v=0\n",
        "    if g<=d1(x):\n",
        "        u=S_0\n",
        "    else:\n",
        "        u=0\n",
        "    if g<=d2(x):\n",
        "        v=K*np.exp(-r*T)\n",
        "    else:\n",
        "        v=0\n",
        "    return u-v-C_m\n",
        "\n",
        "\n",
        "\n",
        "G1=np.random.normal(size=n)\n",
        "G2=np.random.normal(size=n)\n",
        "G3=np.random.normal(size=n)\n",
        "\n",
        "# G2=G1\n",
        "# G3=G1\n",
        "\n",
        "Y1=algorithme_rm_chen(sigma_prim,sigma_prim*2.6,n,FP,G1)\n",
        "Y2=algorithme_rm_chen(sigma_prim,sigma_prim*2.6,n,F_BS,G2)\n",
        "Y3=algorithme_rm_chen(sigma_prim,sigma_prim*2.6,n,F_BS_2,G3)\n",
        "\n",
        "plt.plot(Y1,'black')\n",
        "plt.plot(Y2,'red')\n",
        "plt.plot(Y3,'yellow')\n",
        "\n",
        "\n",
        "# plt.plot([sigma_prim for i in range(n)],'green')\n",
        "plt.show()\n",
        "\n",
        "sigma_prim=Y1[-1]\n",
        "print(sigma_prim)"
      ]
    },
    {
      "cell_type": "markdown",
      "id": "2976f9e3",
      "metadata": {
        "id": "2976f9e3"
      },
      "source": [
        "# Optimisation du paramètre d'une fonction d'importance\n",
        "\n",
        "On veut calculer $\\mathbb{E}(f(G))$. Avec $\\frac{d\\mathbb{Q}}{d\\mathbb{P}}=e^{-\\lambda G - \\frac{\\lambda^2}{2}}$, on a,\n",
        "$$\\mathbb{E}\\left\\{e^{-\\lambda G - \\frac{\\lambda^2}{2}} f(G+\\lambda)\\right\\}= \\mathbb{E}^{\\mathbb{Q}}\\left\\{f(G+\\lambda)\\right\\}=\\mathbb{E}\\left\\{f(G)\\right\\}=C$$,\n",
        "\n",
        "\n",
        "On cherche a minimiser en $\\lambda$ la variance de ,\n",
        "        $$X_\\lambda = e^{-\\lambda G - \\frac{\\lambda^2}{2}} f(G+\\lambda)$$\n",
        "\n",
        "***************\n",
        "**Proposition :**\n",
        "        $$Var\\left\\{X_\\lambda\\right\\}= \\mathbb{E}\\left\\{e^{-\\lambda G + \\frac{\\lambda^2}{2}} f^2(G)\\right\\} - \\mathbb{E}{f(G)}^2$$,\n",
        "***************\n",
        "On a,\n",
        "$$\\begin{align*}\n",
        "        Var\\{X_{\\lambda}\\}&=\\mathbb{E}\\left\\{(e^{-\\lambda G - \\frac{\\lambda^2}{2}} f(G+\\lambda))^2\\right\\}-\\mathbb{E}\\{f(G)\\}^2\\\\\n",
        "&=\\mathbb{E}\\left\\{e^{-\\lambda G - \\frac{\\lambda^2}{2}} g(G+\\lambda)\\right\\}-\\mathbb{E}\\{f(G)\\}^2\\\\\n",
        "&=\\mathbb{E}\\left\\{g(G)\\right\\}-\\mathbb{E}\\{f(G)\\}^2\n",
        "\\end{align*}$$\n",
        "\n",
        "Avec $g(x)=e^{-\\lambda x+\\frac{\\lambda^2}{2}}f^2(x)$,\n",
        "\n",
        "On traitera le cas du call dans le modèle de Black et Scholes avec les paramètres suivants\\n\",\n",
        "        $r=r_{mkt}$, $\\sigma=\\sigma'/\\mbox{an}$, $S_0=x=100$, $T=1$.\""
      ]
    },
    {
      "cell_type": "code",
      "execution_count": null,
      "id": "86c987c4",
      "metadata": {
        "id": "86c987c4"
      },
      "outputs": [],
      "source": []
    },
    {
      "cell_type": "code",
      "execution_count": null,
      "id": "48c21e92",
      "metadata": {
        "id": "48c21e92",
        "outputId": "794fa469-0e1e-4374-9b34-f0a08d6e97bd"
      },
      "outputs": [
        {
          "data": {
            "text/plain": [
              "61.47132044806051"
            ]
          },
          "execution_count": 77,
          "metadata": {},
          "output_type": "execute_result"
        }
      ],
      "source": [
        "from math import exp\n",
        "import math\n",
        "# r=0.02\n",
        "sigma=sigma_prim\n",
        "T=1\n",
        "x=100\n",
        "K=100\n",
        "n=1000\n",
        "N=1000\n",
        "def f1(g):\n",
        "    d=np.size(g);\n",
        "    S_T=np.zeros(d);\n",
        "    S_T= x * np.exp((r - sigma*sigma/2)*T*np.ones(d)+sigma*np.sqrt(T)*g);\n",
        "    return(math.exp(-r*T)*np.maximum(S_T-K*np.ones(np.size(S_T)),np.zeros(np.size(S_T))));\n",
        "\n",
        "def f(g):\n",
        "    if(isinstance(g,float) or isinstance(g,int)):\n",
        "        ST=0;\n",
        "        ST=float( x * exp((r - sigma*sigma/2)*T+sigma*math.sqrt(T)*g));\n",
        "        return(exp(-r*T)*max(ST-K,0))\n",
        "    else:\n",
        "        d=np.size(g)\n",
        "        S_T=np.zeros(d)\n",
        "        S_T= x * np.exp((r - sigma*sigma/2)*T*np.ones(d)+sigma*np.sqrt(T)*g)\n",
        "        return(math.exp(-r*T)*np.maximum(S_T-K*np.ones(np.size(S_T)),np.zeros(np.size(S_T))))\n",
        "\n",
        "\n",
        "\n",
        "\n",
        "def approx_variance(Lambda,G):\n",
        "    # ATTENTION: G est un vecteur echantillon de gaussiennes\n",
        "    return(np.mean(np.exp(-Lambda*G+0.5*Lambda**2)*f(G)**2)-(np.mean(f(G))**2))\n",
        "\n",
        "U=np.random.normal(size=n)\n",
        "approx_variance(1,U)"
      ]
    },
    {
      "cell_type": "markdown",
      "id": "9648beb8",
      "metadata": {
        "id": "9648beb8"
      },
      "source": [
        "Nous allons voir maintenant quel est le $\\lambda$ qui minimise la variance de $X_{\\lambda}$\n",
        "\n",
        "Soit $S_N=\\frac{\\sum_{n=0}^NVar\\{X_{\\lambda}\\}_n}{N}$\n",
        "\n",
        "On a alors,\n",
        "\n",
        "$$S_{N+1}-S_N=\\frac{\\sum_{n=0}^{N+1}Var\\{X_{\\lambda}\\}_n}{N+1}-\\frac{\\sum_{n=0}^NVar\\{X_{\\lambda}\\}_n}{N}$$\n",
        "\n",
        "donc,\n",
        "\n",
        "$$S_{N+1}-S_N=\\frac{NVar\\{X_{\\lambda}\\}_{N+1}-\\sum_{n=0}^NVar\\{X_{\\lambda}\\}_n}{N(N+1)}=-\\frac{1}{N+1}(S_N-Var\\{X_{\\lambda}\\}_{N+1})$$\n",
        "\n",
        "donc,\n",
        "\n",
        "$$S_{N+1}=S_N-\\frac{1}{N+1}(S_N-Var\\{X_{\\lambda}\\}_{N+1})$$"
      ]
    },
    {
      "cell_type": "code",
      "execution_count": null,
      "id": "67f8c197",
      "metadata": {
        "id": "67f8c197",
        "outputId": "72a273ef-fbd0-4e68-afcc-072a4f7a0036"
      },
      "outputs": [
        {
          "data": {
            "image/png": "[encoded data removed]",
            "text/plain": [
              "<Figure size 640x480 with 1 Axes>"
            ]
          },
          "metadata": {},
          "output_type": "display_data"
        }
      ],
      "source": [
        "Lambda = np.linspace(0,2.6,n)\n",
        "z=np.zeros(np.size(Lambda));\n",
        "U=np.random.normal(size=n);\n",
        "mean=np.zeros(np.size(Lambda))\n",
        "for j in range(500):\n",
        "    U=np.random.normal(size=n);\n",
        "    z=np.zeros(np.size(Lambda));\n",
        "    for i in range(np.size(Lambda)):\n",
        "        z[i]=approx_variance(Lambda[i],U)\n",
        "        mean[i]=mean[i]-1/(j+1)*(mean[i]-z[i])\n",
        "# plt.plot(Lambda,z,'red');\n",
        "plt.plot(Lambda,mean,'black');"
      ]
    },
    {
      "cell_type": "markdown",
      "id": "05ce6aad",
      "metadata": {
        "id": "05ce6aad"
      },
      "source": [
        "**Proposition :** *la dérivée peut s'écrire sous les deux formes suivantes*\\n,\n",
        "$$\\frac{\\partial}{\\partial \\lambda}Var\\left(X_\\lambda\\right)\n",
        "           =  \\mathbb{E}\\left\\{(\\lambda - G)e^{-\\lambda G + \\frac{\\lambda^2}{2}} f^2(G)\\right\\}\n",
        "           =  - \\mathbb{E}\\left\\{ G e^{-2\\lambda G - \\lambda^2} f^2(G+\\lambda)\\right\\}$$\n",
        "On a\n",
        "$$\\begin{align*}\n",
        "\\frac{\\partial}{\\partial \\lambda}Var\\left(X_\\lambda\\right)&= \\frac{\\partial}{\\partial \\lambda}\\mathbb{E}\\left\\{e^{-\\lambda G+\\frac{\\lambda^2}{2}}f^2(G)\\right\\}=\\mathbb{E}\\left\\{(\\lambda - G)e^{-\\lambda G + \\frac{\\lambda^2}{2}} f^2(G)\\right\\}\n",
        "\\end{align*}$$,\n",
        "\n",
        "D'autre part, avec $h(x)=(\\lambda - x)e^{-\\lambda G + \\frac{\\lambda^2}{2}} f^2(x)$,\n",
        "\n",
        "$$\\begin{align*},\n",
        "\\mathbb{E}\\left\\{(\\lambda - G)e^{-\\lambda G + \\frac{\\lambda^2}{2}} f^2(G)\\right\\}&= \\mathbb{E}\\left\\{h(G)\\right\\}\\\\\n",
        "&=\\mathbb{E}\\left\\{e^{-\\lambda G - \\frac{\\lambda^2}{2}} h(G+\\lambda)\\right\\}\\\\\n",
        "&= - \\mathbb{E}\\left\\{ G e^{-2\\lambda G - \\lambda^2} f^2(G+\\lambda)\\right\\}\n",
        "\\end{align*}$$\n",
        "\n",
        "On vérifie ce fait par simulation en tracant les deux approximationsn Monte-Carlo de la dérivées."
      ]
    },
    {
      "cell_type": "markdown",
      "id": "af431d2b",
      "metadata": {
        "id": "af431d2b"
      },
      "source": [
        "On chercher à résoudre $\\frac{\\partial}{\\partial \\lambda}Var\\left(X_\\lambda \\right)=0$ en utilisant la première représentation de la dérivée. \\n\",\n",
        "\n",
        "\n",
        "\n",
        "Pour cela, on pose $X_0=0$, puis,\n",
        "$$X_{n+1}=X_n-\\gamma_n (X_n - G_{n+1})e^{-X_n G_{n+1} + \\frac{X_n^2}{2}} f^2(G_{n+1})$$,\n",
        "Ou bien,\n",
        "\n",
        "$$X_{n+1}=X_n +\\gamma_n G_{n+1} e^{-2X_n G_{n+1} - X_n^2} f^2(G_{n+1}+X_n)$$\n",
        "\n",
        "\n",
        "On remarque alors que l'algorithme ne converge pas, $f$ n'est pas continue ?\n",
        "\n",
        "On implémente cet algorithme en ramenant  $X_n$ une valeur initiale commune lorsque $X_n$ dépasse la valeur de  5  (procédure dite de *projection de Chen*). On peut voir que l'algorithme converge"
      ]
    },
    {
      "cell_type": "code",
      "execution_count": null,
      "id": "8f52ef39",
      "metadata": {
        "id": "8f52ef39",
        "outputId": "bfbd7f9a-c357-43e0-ec41-75b6e01e9121"
      },
      "outputs": [
        {
          "data": {
            "image/png": "[encoded data removed]",
            "text/plain": [
              "<Figure size 640x480 with 1 Axes>"
            ]
          },
          "metadata": {},
          "output_type": "display_data"
        }
      ],
      "source": [
        "def approx_1_derivee_variance(Lambda):\n",
        "    #G=np.random.normal(size=2000)\n",
        "    Y=(Lambda-G)*np.exp(-Lambda*G+Lambda**2*0.5)*f(G)**2\n",
        "    return np.mean(Y)\n",
        "\n",
        "def approx_2_derivee_variance(Lambda):\n",
        "    #G=np.random.normal(size=2000)\n",
        "    Y=-G*np.exp(-2*Lambda*G-Lambda**2)*f(G+Lambda)**2\n",
        "    return np.mean(Y)\n",
        "\n",
        "\n",
        "K=100;\n",
        "Lambda=np.linspace(0,3,n)\n",
        "z1=np.zeros(np.size(Lambda));\n",
        "z2=np.zeros(np.size(Lambda));\n",
        "G=np.random.normal(size=n);\n",
        "mean=np.zeros(np.size(Lambda))\n",
        "for i in range(np.size(Lambda)):\n",
        "    z1[i]=approx_1_derivee_variance(Lambda[i]);\n",
        "    z2[i]=approx_2_derivee_variance(Lambda[i]);\n",
        "plt.plot(Lambda,z1,'red');\n",
        "plt.plot(Lambda,z2,'black');"
      ]
    },
    {
      "cell_type": "code",
      "execution_count": null,
      "id": "5edee5ad",
      "metadata": {
        "id": "5edee5ad",
        "outputId": "ae591f3b-a659-4f9e-92b1-69cf23334554"
      },
      "outputs": [
        {
          "data": {
            "image/png": "[encoded data removed]",
            "text/plain": [
              "<Figure size 640x480 with 1 Axes>"
            ]
          },
          "metadata": {},
          "output_type": "display_data"
        }
      ],
      "source": [
        "\n",
        "z=np.zeros(1000);\n",
        "for i in range(1000):\n",
        "    U=np.random.normal(size=n);\n",
        "    X=algorithme_rm_chen(0.1,MAX,n,F_BS,U)\n",
        "    z[i]=X[-1]\n",
        "\n",
        "# La densité gaussienne de référence\n",
        "x = np.linspace(-1,1,1000)\n",
        "densiteGaussienne = 1./(0.05*np.sqrt(2*np.pi))*np.exp(-0.5*((x-sigma_prim)/0.05)**2)\n",
        "plt.plot(x, densiteGaussienne,color='black', label=\"densite gaussienne\")\n",
        "plt.legend(loc=\"best\")\n",
        "\n",
        "plt.hist(z, color=\"red\", density=\"True\", bins=100, label=\"erreur normalisee\");"
      ]
    },
    {
      "cell_type": "markdown",
      "id": "f639ccd3",
      "metadata": {
        "id": "f639ccd3"
      },
      "source": [
        "***********************\n",
        "**Théorème:**(Loi des grands nombres pour les martingale)\n",
        "\n",
        "Soit $(S_n)_{n\\geq0}$ une martingale de carrée integrable, on a alors:\n",
        "\n",
        " +*Sur* $\\langle S\\rangle_\\infty:=\\lim_{n\\rightarrow \\infty}\\langle S\\rangle_n<\\infty$ $S_n$ *converge présque surement vers une variable :$S_\\infty$,\n",
        "\n",
        "+*Sur* $\\{\\langle S\\rangle_\\infty=\\infty\\}$\n",
        "          $$\\lim_{n\\rightarrow\\infty}\\frac{S_n}{\\langle S\\rangle_n}=0 \\text{ , p.s}$$\n",
        "\n",
        "En plus, si $a(t)$ est une fonction positive, croissante telle que\n",
        "\n",
        "$\\int_0^{\\infty}\\frac{dt}{1+a(t)}<\\infty$,\n",
        "alors,\n",
        "       $$\\lim_{n\\rightarrow \\infty}\\frac{S_n}{\\sqrt{a(\\langle S\\rangle_n)}}=0\\text{ , p.s}$$\n",
        "   \n",
        "***********************   \n",
        "\n",
        "***********************\n",
        "\n",
        "**Proposition:** Avec les même notations, on pose $S_0=0$ et $S_n=nM_n, \\forall n >0$, alors $(S_n)_{n\\geq0}$ est une martingale,et $\\langle S\\rangle_n=n\\left(\\mathbb{E}\\left\\{g(G)\\right\\}-\\mathbb{E}\\{f(G)\\}^2\\right)$\n",
        "\n",
        "***********************\n",
        "On a\n",
        "\n",
        "$$\\begin{align*}\n",
        "        \\mathbb{E}\\left\\{S_{n+1}\\mid\\mathcal{F}_n\\right\\}&=\\mathbb{E}\\left\\{V_1+...+V_V+V_{n+1}\\mid\\mathcal{F}_n\\right\\}\\\\\n",
        " &=V_1+...+V_n+0=S_n\n",
        " \\end{align*}$$\n",
        "\n",
        "\n",
        "Donc $(S_n)_{n\\\\geq0}$ est une martingale, en plus $\\langle S\\rangle_0=0$, et $\\forall n>0$\n",
        "\n",
        "\n",
        "Avec $g(x)=e^{-\\lambda x+\\frac{\\lambda^2}{2}}f^2(x)$,\n",
        "\n",
        "$$\\langle S\\rangle_{n+1}-\\langle S\\rangle_n=\\mathbb{E}\\left\\{(S_{n+1}-S_n)^2\\mid\\mathcal{F}_n\\right\\}=Var\\{V_{n+1}\\}=\\mathbb{E}\\left\\{g(G)\\right\\}-\\mathbb{E}\\{f(G)\\}^2$$\n",
        "\n",
        "Donc\n",
        "\n",
        "\n",
        "$$\\langle S\\rangle_n=\\sum_{k=0}^{n-1}\\langle S\\rangle_{k+1}-\\langle S\\rangle_k=n\\left(\\mathbb{E}\\left\\{g(G)\\right\\}-\\mathbb{E}\\{f(G)\\}^2\\right)$$\n",
        "\n",
        "\n",
        "\n",
        "Donc $\\langle S\\rangle_\\infty=\\infty$, et en utilisant le théorème précédant on retrouve la loi forte des grands nombre. \\n\",\n",
        "\n",
        "On a alors\n",
        "$$\\lim_{n\\rightarrow\\infty}\\frac{V_1+...+V_n}{n\\left(\\mathbb{E}\\left\\{g(G)\\right\\}-\\mathbb{E}\\{f(G)\\}^2\\right)}=0 \\text{  p.s}$$\n"
      ]
    },
    {
      "cell_type": "markdown",
      "id": "af01a9e4",
      "metadata": {
        "id": "af01a9e4"
      },
      "source": [
        "**Remarque:**   Pour avoir une idéé sur la vitésse de convergence, on utilise la fonction $a(t)=Ct^{2-\\beta}$, pour $\\frac{1}{2}<\\beta<1$, on trouve alors en faisant les changements de variables $k=2-\\beta$ et dans l'integration $u=(C^{\\frac{1}{k}}t)$ et $x=\\frac{1}{1+u^k}$  que:,\n",
        "\n",
        "$$\\begin{align*}\n",
        "\\int_0^\\infty\\frac{dt}{1+a(t)}&=C^{\\frac{-1}{k}}\\int_0^\\infty\\frac{du}{1+u^k}\\\\\n",
        "  &=\\frac{C^{\\frac{-1}{k}}}{k}\\int_0^1x^{(1-\\frac{1}{k})-1}(1-x)^{\\frac{1}{k}-1}dx\\\\\n",
        "  &=\\frac{C^{\\frac{-1}{k}}}{k}\\beta\\left(\\frac{1}{k},1-\\frac{1}{k}\\right)<\\infty\n",
        "\\end{align*}$$\n",
        "\n",
        "On a alors avec $\\gamma_n=\\frac{C}{n^\\beta}$,\n",
        "\n",
        "$$\\lim_{n\\rightarrow\\infty}\\frac{S_n}{\\sqrt{a(\\langle S \\rangle_n)}}=0 \\text{ , p.s}$$\",\n",
        "        "
      ]
    },
    {
      "cell_type": "code",
      "execution_count": null,
      "id": "800974be",
      "metadata": {
        "id": "800974be",
        "outputId": "6e2e1c1b-b6ef-4dec-a257-028f33399636"
      },
      "outputs": [
        {
          "data": {
            "text/plain": [
              "52.79582465175426"
            ]
          },
          "execution_count": 78,
          "metadata": {},
          "output_type": "execute_result"
        }
      ],
      "source": [
        "# def approx_variance(Lambda,G):\n",
        "#     # ATTENTION: G est un vecteur echantillon de gaussiennes\n",
        "#     return(np.mean(np.exp(-Lambda*G+0.5*Lambda**2)*f(G)**2)-(np.mean(f(G))**2))\n",
        "\n",
        "G=np.random.normal(size=n)\n",
        "\n",
        "u=approx_variance(1,G)\n",
        "u"
      ]
    },
    {
      "cell_type": "code",
      "execution_count": null,
      "id": "e592e021",
      "metadata": {
        "id": "e592e021",
        "outputId": "1f179d2b-6b5f-40ab-90d4-282875871311"
      },
      "outputs": [
        {
          "data": {
            "text/plain": [
              "[3, 4, 5, 6]"
            ]
          },
          "execution_count": 38,
          "metadata": {},
          "output_type": "execute_result"
        }
      ],
      "source": [
        "[1,2,3,4,5,6][2:]"
      ]
    },
    {
      "cell_type": "code",
      "execution_count": null,
      "id": "68b580cc",
      "metadata": {
        "id": "68b580cc",
        "outputId": "251405f5-5be2-46e6-dfe4-f63d4dfe060d"
      },
      "outputs": [
        {
          "data": {
            "text/plain": [
              "[<matplotlib.lines.Line2D at 0x21bf895aa90>]"
            ]
          },
          "execution_count": 82,
          "metadata": {},
          "output_type": "execute_result"
        },
        {
          "data": {
            "image/png": "[encoded data removed]",
            "text/plain": [
              "<Figure size 640x480 with 1 Axes>"
            ]
          },
          "metadata": {},
          "output_type": "display_data"
        }
      ],
      "source": [
        "G=np.random.normal(size=n)\n",
        "\n",
        "def a(t):\n",
        "    return c*t**(2-beta)\n",
        "P=[]\n",
        "Q=[]\n",
        "for i in range(1,1000):\n",
        "    G2=list(np.random.normal(size=i))\n",
        "    Mn=[F_BS(sigma_prim,g)/u**2 for g in G2]\n",
        "    sample=np.mean(Mn)\n",
        "    P.append(sample)\n",
        "    Q.append(sum(Mn)/a(i*u))\n",
        "\n",
        "#plt.plot(P,'red')\n",
        "plt.plot(Q,'black')"
      ]
    },
    {
      "cell_type": "markdown",
      "id": "3d7aeb03",
      "metadata": {
        "id": "3d7aeb03"
      },
      "source": [
        "# Equation de la chaleur et pricing de Call Europeen\n",
        "\n",
        "On suppose toujours que la dynamique d'une action A suit est la suivante\n",
        "\n",
        "$$dS_t=S_t\\left(rdt+\\sigma dB_t\\right)$$\n",
        "\n",
        "$$$$"
      ]
    },
    {
      "cell_type": "code",
      "execution_count": null,
      "id": "a104ce9d",
      "metadata": {
        "id": "a104ce9d",
        "outputId": "69d65f13-e388-43b3-e71f-9d2144d461d8"
      },
      "outputs": [
        {
          "data": {
            "text/plain": [
              "[<matplotlib.lines.Line2D at 0x21bf3b801f0>]"
            ]
          },
          "execution_count": 40,
          "metadata": {},
          "output_type": "execute_result"
        },
        {
          "data": {
            "image/png": "[encoded data removed]",
            "text/plain": [
              "<Figure size 640x480 with 1 Axes>"
            ]
          },
          "metadata": {},
          "output_type": "display_data"
        }
      ],
      "source": [
        "dt=0.001\n",
        "G=list(np.random.normal(0,1,size=600))\n",
        "S=[S_0]\n",
        "\n",
        "for i in range(0,len(G)):\n",
        "    S.append(S[i]+S[i]*(r*dt+sigma_h*G[i]*1*dt**0.5))\n",
        "\n",
        "plt.plot(S,'red')"
      ]
    },
    {
      "cell_type": "markdown",
      "id": "999514b7",
      "metadata": {
        "id": "999514b7"
      },
      "source": [
        "\n",
        "\n",
        "soit maintenant la fonction:\n",
        "\n",
        "$$u(t,S_t):=\\mathbb{E}\\big\\{e^{-r(T-t)}f(S_T)\\mid\\mathbb{F}_t\\big\\}$$\n",
        "\n",
        "et soit\n",
        "\n",
        "$$Z_t:=e^{-rt}u(t,S_t)=\\mathbb{E}\\big\\{e^{-rT}f(S_T)\\mid\\mathbb{F}_t\\big\\}$$\n",
        "\n",
        "Alors $Z_t$ est une martingale, en effet on a pour $s\\leq t$:\n",
        "\n",
        "$$\\mathbb{E}\\big\\{Z_t\\mid\\mathbb{F}_s\\big\\}=\\mathbb{E}\\big\\{\\mathbb{E}\\big\\{e^{-rT}f(S_T)\\mid\\mathbb{F}_t\\big\\}\\mid\\mathbb{F}_s\\big\\}=\\mathbb{E}\\big\\{e^{-rT}f(S_T)\\mid\\mathbb{F}_s\\big\\}=Z_s$$\n",
        "\n",
        "d'autre part on a d'apres le lemme d'Ito,\n",
        "\n",
        "$$dZ_t=e^{-rt}\\big\\{\\partial_tu+rS_t\\partial_xu+\\frac{1}{2}\\sigma^2S^{2}_t\\partial^{2}_xu-ru\\big\\}dt+e^{-rt}\\sigma S_tdB_t$$\n",
        "\n",
        "or $Z_t$ est une martingale, donc,\n",
        "$$\\partial_tu+rS_t\\partial_xu+\\frac{1}{2}\\sigma^2S^{2}_t\\partial^{2}_xu-ru=0$$\n",
        "\n",
        "## discretisation avec différences finies\n",
        " soit une discretisation du temps et du prix :\n",
        " $$\\begin{cases}\n",
        "      t_0\\leq t_1\\leq ...\\leq t_n \\leq...\\leq t_N=T\\\\\n",
        "      0\\leq 1\\leq ...\\leq j\\leq...\\leq 2K &\n",
        "    \\end{cases}$$\n",
        "\n",
        "On aproxime la solution $u(t_n,j)$ avec la discretisation suivante\n",
        "\n",
        "\n",
        " $$\\begin{cases}\n",
        "      \\partial_tu =\\frac{u^{t+1}_j-u^t_j}{dt} \\\\\n",
        "      \\partial_xu =\\frac{u^t_{j+1}-u^t_{j-1}}{2dx}\\\\\n",
        "      \\partial^{2}_xu=\\frac{u^t_{j+1}+u^t_j-2u^t_{j-1}}{dx^2}\n",
        "    \\end{cases}$$\n",
        "    \n",
        "On remplace dans notre équation et on trouve\n",
        "\n",
        "$$u^{t+1}_j=u^t_{j-1}\\big(\\frac{v_1c_1}{2}+v_2c_2\\big)+u^t_j\\big(1+v_1c_1+rdt\\big)+u^t_{j+1}\\big(\\frac{v_1c_1}{2}-\\frac{v_2c_2}{2}\\big)$$\n",
        "\n",
        "avec\n",
        "\n",
        "$$\\begin{cases}\n",
        "      v_1=\\frac{dt}{dx^2} \\\\\n",
        "      v_2=\\frac{dt}{dx}\\\\\n",
        "      c_1=\\sigma^2S^{2}\\\\\n",
        "      c_2=rS\n",
        "    \\end{cases}$$"
      ]
    },
    {
      "cell_type": "code",
      "execution_count": null,
      "id": "e0cfe2ec",
      "metadata": {
        "id": "e0cfe2ec",
        "outputId": "d42d8018-e6dc-4583-f76b-9dd0b130ccc4"
      },
      "outputs": [
        {
          "name": "stdout",
          "output_type": "stream",
          "text": [
            "True\n"
          ]
        },
        {
          "name": "stderr",
          "output_type": "stream",
          "text": [
            "C:\\Users\\oessadde040723\\AppData\\Local\\Temp\\ipykernel_22540\\555677718.py:35: RuntimeWarning: overflow encountered in scalar multiply\n",
            "  u[s_steps] = 2*u[s_steps-1] - u[s_steps-2]\n",
            "C:\\Users\\oessadde040723\\AppData\\Local\\Temp\\ipykernel_22540\\555677718.py:31: RuntimeWarning: overflow encountered in scalar multiply\n",
            "  u[j] = temp1*u_prev[j-1] + temp2*u_prev[j] + temp3*u_prev[j+1]\n",
            "C:\\Users\\oessadde040723\\AppData\\Local\\Temp\\ipykernel_22540\\555677718.py:35: RuntimeWarning: invalid value encountered in scalar subtract\n",
            "  u[s_steps] = 2*u[s_steps-1] - u[s_steps-2]\n",
            "C:\\Users\\oessadde040723\\AppData\\Local\\Temp\\ipykernel_22540\\555677718.py:31: RuntimeWarning: overflow encountered in scalar add\n",
            "  u[j] = temp1*u_prev[j-1] + temp2*u_prev[j] + temp3*u_prev[j+1]\n",
            "C:\\Users\\oessadde040723\\AppData\\Local\\Temp\\ipykernel_22540\\555677718.py:53: RuntimeWarning: divide by zero encountered in log\n",
            "  d1 = 1/(vol*sqrt(time_max))*log(s/strike) + (r + vol**2/2)*time_max\n"
          ]
        },
        {
          "data": {
            "image/png": "[encoded data removed]",
            "text/plain": [
              "<Figure size 640x480 with 1 Axes>"
            ]
          },
          "metadata": {},
          "output_type": "display_data"
        }
      ],
      "source": [
        "from numpy import *\n",
        "import matplotlib.pyplot as plt\n",
        "from matplotlib import cm\n",
        "from scipy.stats import norm\n",
        "\n",
        "\n",
        "\n",
        "\n",
        "def fdm_call(vol, r, strike):\n",
        "\n",
        "    print(dt <= 1/(vol**2*s_steps**2))\n",
        "\n",
        "    spanS = [startS+s*ds for s in range(s_steps+1)]\n",
        "    u = [max(s - strike, 0) for s in spanS]\n",
        "\n",
        "    v1 = dt/ds**2\n",
        "    v2 = dt/ds\n",
        "\n",
        "\n",
        "    soln_grid = []\n",
        "    for i in range(t_steps+1):\n",
        "        u_prev = u\n",
        "        for j in range(1, s_steps):\n",
        "            coeff = vol**2*spanS[j]**2\n",
        "            coeff1 = r*spanS[j]\n",
        "\n",
        "            temp1 = v1*coeff/2 + v2*coeff1\n",
        "            temp2 = 1 + v1*coeff + dt*r\n",
        "            temp3 = v1*coeff/2 - v2*coeff1/2\n",
        "\n",
        "            u[j] = temp1*u_prev[j-1] + temp2*u_prev[j] + temp3*u_prev[j+1]\n",
        "\n",
        "\n",
        "        u[0] = 0\n",
        "        u[s_steps] = 2*u[s_steps-1] - u[s_steps-2]\n",
        "\n",
        "        soln_grid.append(array(u))\n",
        "\n",
        "\n",
        "\n",
        "\n",
        "    def F_BS(x,U,S_0):\n",
        "        T=1\n",
        "        return np.exp(-r*T)*max(S_0*np.exp((r-0.5*x**2)*T+x*np.sqrt(T)*U)-K,0)\n",
        "\n",
        "    MC_sol=[]\n",
        "    bs_soln = []\n",
        "\n",
        "    for s in spanS:\n",
        "        G=np.random.normal(size=600)\n",
        "        MC_sol.append(np.mean([F_BS(sigma_prim,g,s) for g in G]))\n",
        "\n",
        "        d1 = 1/(vol*sqrt(time_max))*log(s/strike) + (r + vol**2/2)*time_max\n",
        "        d2 = d1-vol*sqrt(time_max)\n",
        "        val = norm.cdf(d1)*s-norm.cdf(d2)*strike*exp(-r*time_max)\n",
        "        bs_soln.append(val)\n",
        "\n",
        "    return spanS, soln_grid, bs_soln, MC_sol\n",
        "\n",
        "\n",
        "\n",
        "\n",
        "def graphs(spanS,soln_grid,bs_soln,mc_sol,option):\n",
        "    final_soln = soln_grid[len(soln_grid)-1]\n",
        "    plt.plot(spanS, final_soln,'yellow', label = 'FDM')\n",
        "    plt.plot(spanS, mc_sol,'red', label = 'MC Solution')\n",
        "    plt.plot(spanS, bs_soln,'black', label = 'Solution')\n",
        "\n",
        "    plt.plot()\n",
        "    plt.legend(loc=2)\n",
        "    plt.xlabel(\"Stock price\")\n",
        "    plt.ylabel(\"Option price\")\n",
        "    plt.title(option)\n",
        "\n",
        "\n",
        "\n",
        "\n",
        "vol = sigma_prim\n",
        "\n",
        "strike = K\n",
        "\n",
        "\n",
        "time_max = 1\n",
        "dt = .0001\n",
        "\n",
        "startS = 0\n",
        "endS = 2 * strike\n",
        "ds = 1\n",
        "\n",
        "s_steps = int((endS-startS)/ds)\n",
        "\n",
        "t_steps = int(time_max/dt)\n",
        "\n",
        "\n",
        "spanS, soln_grid_C, bs_soln_C, MC_sol = fdm_call(vol,r,strike)\n",
        "graphs(spanS,soln_grid_C,bs_soln_C,MC_sol,\"Call\")\n"
      ]
    },
    {
      "cell_type": "markdown",
      "id": "f3ca0a4e",
      "metadata": {
        "id": "f3ca0a4e"
      },
      "source": [
        "# Systeme de particules\n",
        "\n",
        "Soit\n",
        "\n",
        "$$X_t=log(St)$$\n",
        "\n",
        "\n",
        "Alors,\n",
        "\n",
        "$$dX_t=\\mu dt+\\sigma dB_t$$\n",
        "\n",
        "On definit alors la suite\n",
        "\n",
        "$$X_{k+1}=X_k+\\mu dt +Y_k \\text{ou , }Y_k \\sim N(0,\\sigma^2 d t)$$\n",
        "\n",
        "On veut estimer la probalilité:\n",
        "\n",
        "$$p=\\mathbb{P}\\big(X_T> x\\big) \\text{, avec,  } x=log(K)$$\n",
        "**************\n",
        "**Theorem de Radon-Nikodym**\n",
        "\n",
        "Soient $(\\Omega, \\mathbb{F}, \\mu)$ un espace mesuré $\\sigma$ fini et $\\eta$ une mesure sur $(\\Omega, \\mathbb{F})$\n",
        "Si $\\eta$ absolument continue par rapport à $\\mu$, alors si il existe une fonction $f$ $\\mathbb{F}$-Mesurable telle que\n",
        "\n",
        "$$\\eta (A)=\\int_A f d\\mu$$\n",
        "\n",
        "La fonction f est appeleé dérivé de Radon Nikodym et\n",
        "\n",
        "$$f=\\frac{d\\eta}{d\\mu}$$\n",
        "\n",
        "*****************\n",
        "\n",
        "**Preuve**\n",
        "\n",
        "\n",
        "On veut montrer qu'il existe une fonction  $f\\in L^1(\\mu)$ telle que\n",
        "\n",
        "$$∀ A\\in \\mathbb{F}, ∫_Afd\\mu=\\eta (A)$$\n",
        "Definisons l'operateur $T$ sur $L^{∞}(\\mu)$\n",
        "$$\\forall \\phi\\in L^{∞}(\\mu), T(\\phi)=∫_X\\phi d\\eta$$\n",
        "\n",
        "Alors\n",
        "+ $T$ est bien defini car $\\phi$ est borné et $\\eta$ est une mesure finie\n",
        "+ $T$ est un operateur positif\n",
        "+$T$ est continu car $\\mid T(\\phi)\\mid=\\mid∫_X\\phi d\\eta\\mid\\leq\\mid\\mid\\phi\\mid\\mid_{∞}\\eta(X)$\n",
        "\n",
        "Le Theoreme de representation de Riesz pour l'espace $L^{∞}(\\mu)$ affirme que tout operateur continue positif sur $L^{∞}(\\mu)$ est donné par l'integration contre une fonction;\n",
        "\n",
        " $$∃f\\in L^1(\\mu)\\text{ telle que }∀\\phi\\in L^{∞}(\\mu), T(\\phi)=∫_Xf\\phi d\\mu$$\n",
        "\n",
        " en prenant $\\phi=\\mathbb{1}_A$ on trouve que\n",
        " $$∫_Afd\\mu=\\eta (A)$$\n",
        "\n",
        "maintenant, pour l'unicité de $f$, on suppose $f_1, f_2$ telles que\n",
        "\n",
        "$$\\eta (A)=∫_Af_1d\\mu=∫_Af_2d\\mu$$\n",
        "\n",
        "donc,\n",
        "\n",
        "$$0=∫_A(f_1-f_2)d\\mu$$\n",
        "\n",
        "Donc $f$ est unique $\\mu$ $P.P$\n",
        "\n",
        "\n",
        "**********************\n",
        "**Theorem de Riesz**\n",
        "\n",
        "Soit $ (X,\\mathbb{F},\\mu)$ un espace mesuré avec $\\mu$ une mesure positive.\n",
        "Soit\n",
        "\n",
        "$$T: L^{∞}(\\mu)→\\mathbb{R}$$\n",
        "Un fonctionel lineaire, continue et positif\n",
        "\n",
        "Alors, il existe une fonction $f\\in  L^{1}(\\mu)$, $f\\geq0$\n",
        "\n",
        "presque partouttelle que:\n",
        "\n",
        "$$∀\\phi\\in  L^{∞}(\\mu), T(\\phi)=∫_Xf\\phi d\\mu$$\n",
        "****************\n",
        "**Preuve**\n",
        "\n",
        "\n",
        "\n",
        "**A : Construction des partition $P_n=\\{A^{(n)}_j\\}_{j=0}^{N^n}$ tels que**\n",
        "\n",
        "+ Chaque $A^{(n)}_j$ est reunion d'elements de $P_{n+1}$\n",
        "+  On suppose que $𝑼_{n}P_n$ engendre la tribu $\\mathbb{F}$\n",
        "\n",
        "+ sur chaque partition $A^{(n)}_j$ on definit :\n",
        "\n",
        "$$f_n(x)=\\frac{T(\\mathbb{1}_{A^{(n)}_j})}{\\mu(A^{(n)}_j)} \\text{, si }x\\in A^{(n)}_j$$\n",
        "\n",
        "**B : Propriétés de la suite $(f_n)_n$**\n",
        "\n",
        " chaque $f_n$ est une fonction simple mesurable, constante sur chaque $A^{(n)}_j$\n",
        "\n",
        "Par positivité de $T$ on a,\n",
        "\n",
        "$$f_n(x)\\geq 0,   \\text{ $\\mu$ P.P}$$\n",
        "\n",
        "On a aussi\n",
        "\n",
        "$$\\begin{align*}\n",
        "\\mid\\mid f_n\\mid\\mid_{L^{∞}(\\mu)}&=\\sum_jf_n(x_j)\\mu(A^{(n)}_j)\\\\\n",
        "  &=\\sum_jT(\\mathbb{1}_{A^{(n)}_j})\\\\\n",
        "  &=T\\Big(\\sum_j\\mathbb{1}_{A^{(n)}_j}\\Big)\\\\\n",
        "  &=T(1)<\\infty\n",
        "\\end{align*}$$\n",
        "\n",
        "**$f_n$ est une martingale, Montrons que**\n",
        "$$\\mathbb{E}\\Big\\{f_{n+1}\\mid \\mathbb{F}_n\\Big\\}(x)=f_n(x)$$\n",
        "\n",
        "Soit $x\\in A^{(n)}_j$, On a\n",
        "\n",
        "$$f_n(x)=\\frac{T(\\mathbb{1}_{A^{(n)}_j})}{\\mu(A^{(n)}_j)}$$\n",
        "\n",
        "Or,\n",
        "$$A^{(n)}_j=\\bigcup_{k\\in I_j}A^{(n+1)}_k$$\n",
        "\n",
        " Ou $I_j$ l'ensemble des indice $k$ tels que $A^{(n+1)}_k\\subset A^{(n)}_j $, et on a\n",
        "\n",
        " $$T(\\mathbb{1}_{A^{(n)}_j})=\\sum_{k\\in I_j}T(\\mathbb{1}_{A^{(n+1)}_k})$$\n",
        "\n",
        "Donc,\n",
        "\n",
        "$$f_n(x)=\\frac{\\sum_{k\\in I_j}T(\\mathbb{1}_{A^{(n+1)}_k})}{\\mu(A^{(n)}_j)}$$\n",
        "\n",
        "On a aussi pour $x\\in A^{(n+1)}_k\\subset A^{(n)}_j $\n",
        "\n",
        "$$f_{n+1}(x)=\\frac{T(\\mathbb{1}_{A^{(n+1)}_k})}{\\mu(A^{(n+1)}_k)}$$\n",
        "\n",
        "On a ,\n",
        "\n",
        "$$\\mathbb{E}\\Big\\{f_{n+1}\\mid \\mathbb{F}_n\\Big\\}(x)=\\frac{1}{\\mu(A^{(n)}_j)}∫_{A^{(n)}_j}f_{n+1}(y)d\\mu(y)$$\n",
        "\n",
        "Or, $f_n$ est constante sur chaque $A^{(n+1)}_k$, donc\n",
        "\n",
        "$$\\begin{align*}\n",
        "∫_{A^{(n)}_j}f_{n+1}(y)d\\mu(y)&=\\sum_{k\\in I_j}∫_{A^{(n+1)}_k}f_{n+1}(y)d\\mu(y)\\\\\n",
        "&=\\sum_{k\\in I_j}f_{n+1}(x_k)\\mu(A^{(n+1)}_k)\n",
        "\\end{align*}$$\n",
        "\n",
        "Don,\n",
        "\n",
        "$$\\begin{align*}\n",
        "\\mathbb{E}\\Big\\{f_{n+1}\\mid \\mathbb{F}_n\\Big\\}(x)&=\\frac{\\sum_{k\\in I_j}\\frac{T(\\mathbb{1}_{A^{(n+1)}_k})}{\\mu(A^{(n+1)}_k)}\\mu(A^{(n+1)}_k)}{\\mu(A^{(n)}_j)}\\\\\n",
        "&=\\frac{\\sum_{k\\in I_j}T(\\mathbb{1}_{A^{(n+1)}_k})}{\\mu(A^{(n)}_j)}\\\\\n",
        "&=\\frac{T(\\mathbb{1}_{A^{(n)}_j})}{\\mu(A^{(n)}_j)}\\\\\n",
        "&=f_n(x)\n",
        "\\end{align*}$$\n",
        "\n",
        "**Convergence p.p et $L^{1}(\\mu)$**\n",
        "\n",
        "avec le theoreme de convergence des martingales, la suite $f_n$ converge vers une fonction $f\\in L^{1}(\\mu)$\n",
        "\n",
        "**Representation de $T$**\n",
        "\n",
        "Pour toute fonction simple $\\phi$ mesurable\n",
        "\n",
        "$$\\begin{align*}\n",
        "T(\\phi)&=\\sum_j \\phi(x_j)T(\\mathbb{1}_{A^{(n)}_j})\\\\\n",
        "&=\\sum_j \\phi(x_j)f_n(x_j)\\mu(A^{(n)}_j)\\\\\n",
        "&=\\int_Xf_n\\phi d\\mu\n",
        "\\end{align*}$$\n",
        "Par passage à la limite, on trouve que\n",
        "$$T(\\phi)=\\int_Xf\\phi d\\mu$$\n",
        "enfin par densité des fonctions simple dans $L^{∞}(\\mu)$ on trouve que\n",
        "\n",
        "$$∀\\phi\\in L^{∞}(\\mu) , T(\\phi)=\\int_Xf\\phi d\\mu$$\n",
        "*********\n",
        "Dans notre cas on définit\n",
        "\n",
        "**la mesure $\\mathbb{P}$** La mesure sous laquelle\n",
        "\n",
        "$$X_t=log(S_t), \\text{ suit la dynamique suivante } dX_t = \\mu dt+\\sigma dB_t$$\n",
        "\n",
        "\n",
        "**la mesure $\\mathbb{Q}^\\theta$** La mesure sous laquelle le precessus suit la dynamique\n",
        "\n",
        "$$dX_t = (\\mu-\\sigma\\theta)dt+\\sigma dB_t$$\n",
        "\n",
        "Donc\n",
        "\n",
        "$$\\mathbb{E}\\Big\\{f_{n+1}\\mid \\mathbb{F}_n\\Big\\}(x)=f_n(x)$$\n",
        "\n",
        "avec\n",
        "\n",
        "$$\\theta=\\frac{x-log(S_0)-\\mu T}{\\sigma \\sqrt{T}}$$\n",
        "\n",
        "D'apres le theoreme de girsanov, la dérivé de Radon Nikodym est :\n",
        "\n",
        "$$L_T=\\frac{d\\mathbb{Q}^\\theta}{d\\mathbb{P}}=exp\\Big\\{\\theta\\int_0^TdB_s-\\frac{1}{2}\\theta^2T\\Big\\}$$\n",
        "\n",
        "en utilisant la propriéte d'Ito, on trouve que $\\int_0^TdB_s=B_T$, donc\n",
        "\n",
        "\n",
        "$$L_T=exp\\Big\\{\\theta B_T-\\frac{1}{2}\\theta^2T\\Big\\}$$\n",
        "\n",
        "et\n",
        "\n",
        "$$B_T=\\frac{X_T-X_0-\\mu T}{\\sigma}=\\frac{Y_T}{\\sigma}$$\n",
        "\n",
        "donc\n",
        "\n",
        "$$L_T=exp\\Big\\{\\theta \\frac{X_T-X_0-\\mu T}{\\sigma}-\\frac{1}{2}\\theta^2T\\Big\\}=exp\\Big\\{\\frac{\\theta}{\\sigma} Y_T-\\frac{1}{2}\\theta^2T\\Big\\}$$\n",
        "\n",
        "En utilisant le théorème de Raddon Nikodym on trouve que\n",
        "\n",
        "$$I=\\mathbb{E}^{\\mathbb{P}}\\Big\\{\\mathbb{1}_{\\{X_T>x\\}}\\Big\\}=\\mathbb{E}^{\\mathbb{Q}^{\\theta}}\\Big\\{\\frac{1}{L_T} \\mathbb{1}_{\\{X_T>x\\}}\\Big\\}$$\n",
        "\n",
        "\n",
        "\n",
        "et\n",
        "\n",
        "$$\\frac{1}{L_T}=exp\\Big\\{-\\theta \\frac{X_T-X_0-\\mu T}{\\sigma}+\\frac{1}{2}\\theta^2T\\Big\\}=exp\\Big\\{-\\frac{\\theta}{\\sigma} Y_T+\\frac{1}{2}\\theta^2T\\Big\\}$$\n",
        "\n",
        "\n",
        "$\\frac{1}{L_T}$ est bornée en moyenne:\n",
        "\n",
        "$$\\mathbb{E}^{\\mathbb{Q}^{\\theta}}\\Big\\{\\frac{1}{L_T}\\Big\\}=\\mathbb{E}^{\\mathbb{Q}^{\\theta}}\\Big\\{\\frac{d\\mathbb{P}}{\\mathbb{Q}^{\\theta}}\\Big\\}=1$$\n",
        "\n",
        "\n",
        "\n",
        "$$I=\\mathbb{E}^{\\mathbb{Q}^{\\theta}}\\Big\\{\\frac{1}{L_T} \\mathbb{1}_{\\{X_T>x\\}}\\Big\\}=\\mathbb{E}^{\\mathbb{Q}^{\\theta}}\\Big\\{exp\\Big\\{\\frac{-\\theta Y}{\\sigma}+\\frac{1}{2}\\theta^2T\\Big\\} \\mathbb{1}_{\\{X_T>x\\}}\\Big\\}=\\mathbb{E}^{\\mathbb{Q}^{\\theta}}\\Big\\{exp\\{\\frac{-\\theta Y}{\\sigma}\\} \\mathbb{1}_{\\{X_T>x\\}}\\Big\\}exp\\{\\frac{1}{2}\\theta^2T\\}$$\n",
        "\n",
        "## Convergence Monte Carlo\n",
        "\n",
        "\n",
        "\n",
        "$$\\prod^{n-1}_{k=0}\\frac{1}{M}\\sum_{j=1}^Mexp\\big\\{\\frac{\\theta}{\\sigma}Y_k^{(j)}\\big\\}$$\n",
        "\n",
        "$$\\text{ converge preseque surement vers, } exp\\{\\frac{1}{2}\\theta^2T\\}\\text { quand } n,M\\rightarrow \\infty$$\n",
        "\n",
        "d'une autre part,\n",
        "\n",
        "$$\\prod^{n-1}_{k=0}\\frac{1}{M}\\sum_{j=1}^Mexp\\big\\{\\frac{\\theta}{\\sigma} Y_k^{(j)}\\big\\}\\frac{1}{M}\\sum_{j=1}^M\\mathbb{1}_{\\{X_n^{(j)}>x\\}}exp(-\\frac{\\theta}{\\sigma} Y_n)$$\n",
        "\n",
        "$$\\text{ converge preseque surement vers, } I=\\mathbb{E}^{\\mathbb{Q}^{\\theta}}\\Big\\{exp\\{\\frac{-\\theta Y}{\\sigma}\\} \\mathbb{1}_{\\{X_T>x\\}}\\Big\\}exp\\{\\frac{1}{2}\\theta^2T\\}=\\mathbb{E}^{\\mathbb{Q}^{\\theta}}\\Big\\{\\frac{1}{L_T} \\mathbb{1}_{\\{X_T>x\\}}\\Big\\}\\text { quand } n,M\\rightarrow \\infty$$\n"
      ]
    },
    {
      "cell_type": "markdown",
      "id": "cc2304b9",
      "metadata": {
        "id": "cc2304b9"
      },
      "source": []
    },
    {
      "cell_type": "code",
      "execution_count": null,
      "id": "f056412a",
      "metadata": {
        "id": "f056412a",
        "outputId": "c08f619a-9f1d-4c1f-dcec-4e337b70b210"
      },
      "outputs": [
        {
          "data": {
            "text/plain": [
              "[<matplotlib.lines.Line2D at 0x21bfb1d9d90>]"
            ]
          },
          "execution_count": 100,
          "metadata": {},
          "output_type": "execute_result"
        },
        {
          "data": {
            "image/png": "[encoded data removed]",
            "text/plain": [
              "<Figure size 640x480 with 1 Axes>"
            ]
          },
          "metadata": {},
          "output_type": "display_data"
        }
      ],
      "source": [
        "import numpy as np\n",
        "import matplotlib.pyplot as plt\n",
        "\n",
        "K=120\n",
        "S_0=100\n",
        "sigma=sigma_prim\n",
        "r=0.05\n",
        "T=1\n",
        "# temps\n",
        "n=90\n",
        "st=T/n\n",
        "\n",
        "dt=1/n\n",
        "# nb particule\n",
        "M=60\n",
        "\n",
        "#nb simulation\n",
        "N=900\n",
        "\n",
        "x=np.log(K)\n",
        "\n",
        "mu=r-0.5*sigma**2\n",
        "\n",
        "theta=(x - np.log(S_0) - mu*T)/(sigma*np.sqrt(T))\n",
        "\n",
        "\n",
        "\n",
        "means=[]\n",
        "cumul_sum=0\n",
        "\n",
        "for i in range(1,N+1):\n",
        "    #Y=np.random.normal(0,1,M)*(sigma*np.sqrt(dt))\n",
        "    #X=np.log(S_0)+mu*dt+Y\n",
        "    X=np.full(M,np.log(S_0))\n",
        "    norm=1\n",
        "\n",
        "    #temps\n",
        "    for k in range(1,n):\n",
        "\n",
        "        Y=np.random.normal(0,sigma*np.sqrt(dt),M)\n",
        "\n",
        "        X+=mu*dt+Y\n",
        "\n",
        "\n",
        "\n",
        "        G=np.exp(theta/sigma*Y)\n",
        "        norm*=np.mean(G)\n",
        "\n",
        "        w=G/np.sum(G)\n",
        "        cdf=np.cumsum(w)\n",
        "        u0=np.random.uniform(0,1/M)\n",
        "        u=u0+np.arange(M)/M\n",
        "        ind=np.searchsorted(cdf,u)\n",
        "        X=X[ind]\n",
        "\n",
        "    Y_final=X-np.log(S_0)-mu*T\n",
        "    weightsFinal=np.exp(-theta/sigma*Y_final)\n",
        "    indicators=(X>x).astype(float)\n",
        "    estimate=norm*np.mean(indicators*weightsFinal)\n",
        "\n",
        "    cumul_sum+=estimate\n",
        "    means.append(cumul_sum/i)\n",
        "\n",
        "\n",
        "\n",
        "\n",
        "X_T=np.log(S_0)+mu*T+sigma*np.sqrt(T)*np.random.randn(N)\n",
        "\n",
        "indicators=(X_T>np.log(K)).astype(float)\n",
        "\n",
        "pEstimate=np.mean(indicators)\n",
        "\n",
        "MeansNaive=np.cumsum(indicators)/np.arange(1,N+1)\n",
        "MeanNaive=np.mean(indicators)\n",
        "plt.plot(MeansNaive,'black')\n",
        "plt.plot(means,'red')\n",
        "# plt.plot([MeanNaive for _ in range(len(indicators))],)\n",
        "\n",
        "\n"
      ]
    },
    {
      "cell_type": "markdown",
      "source": [
        "# Calcul de Malliavin et grecs\n",
        "\n",
        "## Notations et définitions\n",
        "\n",
        "***********************\n",
        "### Notation\n",
        "\n",
        "On considère un espace de probabilité $(Ω,\\mathbb{F},\\mathbb{P})$ sur lequel est défini un mouvement brownien $(B_t)_{t\\geq 0}$ et on note $\\mathbb{F}_t=\\sigma(B_s,s\\leq t)$.\n",
        "\n",
        "On subdivise l'interval $[0,T]$ à l'aide des dyadique $t^n_k=\\frac{k}{2^n} $ avec $n\\in\\mathbb{N}^*$ et $k\\in\\{0,...,2^n\\}$\n",
        "\n",
        "Enfin, on note $Δ^n_k=B_{t^n_{k+1}}-B_{t^n_{k}}$, les acroissement du brownien et $Δ^n=(Δ^n_0,...,Δ^n_{2^n-1})$\n",
        "\n",
        "On introduit les espace simples sur lesquels on va définir nos deux operateur. $C^∞_p$ designe l'ensemble des fonctions infiniment derivables à croissance au plus polynomial\n",
        "*********\n",
        "**************\n",
        "### Définitions\n",
        "**Définition 1**\n",
        "\n",
        "l'ensemble des fonction simples\n",
        "\n",
        "$$S_n=\\Big\\{f(Δ^n_0,...,Δ^n_{2^n-1}); f\\in C^∞_p(\\mathbb{R}^{2^n}) \\Big\\}$$\n",
        "\n",
        "les $S_n$ forment une suite croissante d'ensembles inclus dans $L_2(Ω)$, les éléments de $S=⋃ _{n\\geq 0}S_n$  s'appellent fonctionnelles simples.\n",
        "\n",
        "Cet ensemble nous permettera de définir la dérivé de Malliavin. L'espace des fonctionnelles simple est construit de telle sorte qu'apparaise clairement la dépendance d'une variable aléatoire de $S_n$ avec les accroissement du brownien\n",
        "************\n",
        "**********\n",
        "**Définition 2**\n",
        "l'ensemble des processus simples\n",
        "\n",
        "$$P_n=\\Big\\{\\sum _{i=0}^{2^n-1}𝟙 _{[t^n_i,t^n_{i+1}[}(t)F_i(ω)\\text{ ;  } (t,ω)\\in [0,T],Ω\\text{ et } F_i\\in S_n\\Big\\}$$\n",
        "\n",
        "Les $P_n$ forment une suite croissante d'ensemble inclus dans $L_2([0,T]\\times Ω)$.\n",
        "\n",
        "Les element de $P=⋃_{n\\geq1}P_n$ s'appellent processus simples.\n",
        "*************\n",
        "***********\n",
        "**Définition 3**\n",
        "\n",
        "soit $F\\in S$, alors $∃n\\in \\mathbb{N}^*$tel que\n",
        "\n",
        "$$F=f(Δ^n)$$\n",
        "L'operateur de dérivation au sens de Malliavin de la fonctionelle simple $F$ en un point $s\\in [t^n_i,t^n_{i+1}[$ est alors la fonction\n",
        "\n",
        "$$D_sF=\\sum _{i=0}^{2^n-1}𝟙 _{[t^n_i,t^n_{i+1}[}(s)∂_if(Δ^n)$$\n",
        "Il est logique que cet operateur associe à une variable aléatoire un processus.\n",
        "\n",
        "A la date $s$ la dérivée au sens de Malliavin traduit l'impacte des acroissement du brownien sur une variable aléatoire\n",
        "***************\n",
        "****************\n",
        "**Définition 4 : l'operateur de dérivation de Skorokhod**\n",
        "\n",
        "Soit $u\\in P$, alors $∃n\\in\\mathbb{N}^*$ tel que $u\\in P_n$.L'operateur d'integration au sens de Skorokhos du processus simple $u$ est\n",
        "\n",
        "$$δ(u)=\\sum _{i=0}^{2^n-1}f_i(Δ^n)Δ^n_i-\\sum _{i=0}^{2^n-1}∂_if_i(Δ^n)\\frac{1}{2^n}$$\n",
        "avec\n",
        "\n",
        "$$u(t,ω)=\\sum _{i=0}^{2^n-1}𝟙 _{[t^n_i,t^n_{i+1}[}(t)F_i(ω) \\text{ et } F_i=f_i(Δ^n)$$\n",
        "\n",
        "Notons que le premier terme correspond à une integrale d'Ito, le second prend en compte le fait que le processus n'est pas necessairement adapté. Ce deuxieme terme est necessaire pour obtenir la relation d'integration par partie et a été integré dans la définition dans ce but.\n",
        "\n",
        "Si on définit les processus prévisible par\n",
        "$$∀k\\in \\big\\{0,...,2^n-1\\big\\}, f_k(Δ^n)=f_k(Δ^n_0,...,Δ^n_{k-1})$$\n",
        "On remarque que dans ce cas le deuxieme terme s'annule\n",
        "**********\n",
        "## Extention des operateur\n",
        "Nous allons maintenant etendre les operateur $D$ et $δ$ à $L_2(Ω)$, $L_2([0,T],Ω)$\n",
        "***********\n",
        "**Proposition**\n",
        "\n",
        "$D$ et $δ$ sont des operateur férmés, c'est à dire si $(F_n)_n$ est une suite de $S$ qui tends vers $0$ dans $L_2([0,T],Ω)$ et si $DF_n$ tends vers $u$ alors, $u=0$\n",
        "************\n",
        "************\n",
        "**Définition 5**\n",
        "\n",
        "On définit\n",
        "$$\\mathbb{D}^{1,2}=\\Big\\{F\\in L_2(Ω) \\text{ tq }∃(F_n)\\in S\\text{ tq }F_n\\xrightarrow{L_2(Ω)}F \\text{ et }DF_n\\xrightarrow{L_2([0,T],Ω)}u\\Big\\}$$\n",
        "\n",
        "on pose alors\n",
        "\n",
        "$$Df=u$$\n",
        "******************\n",
        "\n",
        "*************\n",
        "**Définition 6**\n",
        "\n",
        "On définit\n",
        "\n",
        "$$Dom(δ)=\\Big\\{u\\in L_2([0,T],Ω) \\text{ tq }∃(u_n)\\in P \\text{ tq }u_n\\xrightarrow{L_2([0,T],Ω)}u \\text{ et }\\delta (u_n)\\xrightarrow{L_2(Ω)}F\\Big\\}$$\n",
        "\n",
        "On pose alors\n",
        "\n",
        "$$F=δ(u)$$\n",
        "**********\n",
        "\n",
        "## formule d'integration par partie\n",
        "\n",
        "************\n",
        "**Proposition 1**\n",
        "\n",
        "$∀F\\in \\mathbb{D}^{1,2}$ et $∀u\\in Dom(δ)$\n",
        "\n",
        "$$\\mathbb{E}\\Big\\{∫_0^TD_sFu_sds\\Big\\}=\\mathbb{E}\\big\\{Fδ(u)\\big\\}$$\n",
        "On a donc la relation\n",
        "$$\\Big<DF,u\\Big>_{L_2([0,T],Ω)}=\\Big<F,\\delta( u)\\Big>_{L_2(Ω)}$$\n",
        "**************\n",
        "************\n",
        "**Lemme 1**\n",
        "\n",
        "Soit $Δ\\sim N(0,σ^2)$, alors pour $f,g$ dans $C^1(\\mathbb{R})$\n",
        "\n",
        "$$\\mathbb{E}\\big\\{f'(Δ)g(Δ)\\big\\}=\\mathbb{E}\\Big\\{f(Δ)\\big(\\frac{Δ}{σ^2}g(Δ)-g'(\\Delta)\\big)\\Big\\}$$\n",
        "**********\n",
        "********\n",
        "**Preuve du lemme 1**\n",
        "\n",
        "On a\n",
        "$$\\begin{align*}\n",
        "\\mathbb{E}\\big\\{f'(Δ)g(Δ)\\big\\}&=∫_{\\mathbb{R}}f'(x)g(x)\\frac{e^{-\\frac{x^2}{2σ^2}}}{\\sqrt{2\\piσ^2}}dx\\\\\n",
        "&=\\Big[f(x)g(x)\\frac{e^{-\\frac{x^2}{2σ^2}}}{\\sqrt{2\\piσ^2}}\\Big]_{\\mathbb{R}}-∫_{\\mathbb{R}}f(x)\\Big(g'(x)-\\frac{x}{\\sigma^2}g(x)\\Big)\\frac{e^{-\\frac{x^2}{2σ^2}}}{\\sqrt{2\\piσ^2}}dx\\\\\n",
        "&=\\mathbb{E}\\Big\\{f(Δ)\\big(\\frac{Δ}{σ^2}g(Δ)-g'(\\Delta)\\big)\\Big\\}\n",
        "\\end{align*}$$\n",
        "************\n",
        "***********\n",
        "**Preuve de la proposition 1**\n",
        "\n",
        "Soit $F\\in S_n$ et $u\\in P_n$\n",
        "\n",
        "$$\\begin{align*}\n",
        "\\mathbb{E}\\Big\\{∫_0^TD_sFu_sds\\Big\\}&=\\sum _{i=0}^{2^n-1}\\mathbb{E}\\Big\\{∂_if(Δ^n)f_i(Δ^n)\\Big\\}\\frac{1}{2^n}\\\\\n",
        "&=\\sum _{i=0}^{2^n-1}\\mathbb{E}\\Big\\{f(Δ^n)\\Big(\\frac{Δ_i^n}{2^{-n}}f_i(Δ^n)-∂_if_i(Δ^n)\\Big)\\Big\\}\\frac{1}{2^n}\\\\\n",
        "&=\\mathbb{E}\\Big\\{F\\Big(\\sum _{i=0}^{2^n-1}f_i(Δ^n)Δ^n_i-\\sum _{i=0}^{2^n-1}∂_if_i(Δ^n)\\frac{1}{2^n}\\Big)\\Big\\}\\\\\n",
        "&=\\mathbb{E}\\big\\{Fδ(u)\\big\\}\n",
        "\\end{align*}$$\n",
        "\n",
        "*****************\n",
        "\n",
        "## Application au modèle de Black Scholes\n",
        "\n",
        "### Calcul du Delta d'un call\n",
        "\n",
        "avec\n",
        "\n",
        "$$S_T=S_0exp\\left\\{(r-\\frac{\\sigma^2}{2})T+\\sigma B_T\\right\\}=S_0Y_T$$\n",
        "On veux calculer\n",
        "\n",
        "$$Δ=\\frac{∂}{∂S_0}e^{-rT}\\mathbb{E}\\Big\\{F\\Big\\} \\text{, avec } F=f(S_T)\\text{, et } f(x)=(x-K)_+$$\n",
        "\n",
        "\n",
        "On a donc,\n",
        "\n",
        "$$D_sF=f'(S_T)D_sS_T=f'(S_T)σS_T𝟙_{[0,T]}(s)$$\n",
        "Donc, avec\n",
        "\n",
        "$$u_s=\\frac{1}{σS_0T}𝟙_{[0,T]}(s)$$\n",
        "\n",
        "On obitient que ,\n",
        "\n",
        " $$\\begin{align*}\n",
        " \\Big<DF,u\\Big>_{L_2([0,T],Ω)}&=∫_0^TD_sFu_sds\\\\\n",
        " &=f'(S_T)\\frac{S_T}{S_0T}∫_0^Tds\\\\\n",
        " &=f'(S_T)\\frac{S_T}{S_0}\\\\\n",
        " &=\\frac{∂F}{∂S_0}\n",
        " \\end{align*}$$\n",
        "\n",
        " Donc,\n",
        "\n",
        " $$\\begin{align*}\n",
        " \\frac{∂}{∂S_0}\\mathbb{E}\\Big\\{F\\Big\\}&=\\mathbb{E}\\Big\\{\\frac{∂F}{∂S_0}\\Big\\}\\\\\n",
        " &=\\mathbb{E}\\Big\\{∫_0^TD_sFu_sds\\Big\\}\\\\\n",
        " &=\\mathbb{E}\\big\\{Fδ(u)\\big\\}\n",
        " \\end{align*}$$\n",
        "\n",
        " avec\n",
        "\n",
        " $$δ(u)=\\int_0^Tu_sdB_s=\\frac{B_T}{σS_0T}$$\n",
        " On touve finalement que\n",
        "\n",
        " $$Δ=\\mathbb{E}\\big\\{f(S_T)\\frac{e^{-rT}B_T}{σS_0T}\\big\\}$$"
      ],
      "metadata": {
        "id": "bA8hacTv7PlQ"
      },
      "id": "bA8hacTv7PlQ"
    },
    {
      "cell_type": "code",
      "source": [
        "def payoff(x, kind=\"call\"):\n",
        "    if kind == \"call\":\n",
        "        return np.maximum(x-K, 0)\n",
        "    elif kidn == \"put\":\n",
        "        return np.maximum(K - x, 0)\n",
        "    else:\n",
        "        return 0\n",
        "\n",
        "sigma=sigma_prim\n",
        "x0=S_0\n",
        "d_plus = (np.log(x0/K)+(r + 0.5*sigma**2)*T)*(1.0/(sigma*np.sqrt(T)))\n",
        "d_minus = d_plus - sigma*np.sqrt(T)\n",
        "std_normal = norm(loc=0, scale=np.sqrt(1))\n",
        "delta = std_normal.cdf(d_plus)\n",
        "\n",
        "\n",
        "def estimate_delta_malliavin(payoff, r, sigma, x0, T, N):\n",
        "\n",
        "\n",
        "    browniam_marginal = norm(loc=0, scale=np.sqrt(T))\n",
        "    brownian_sample = browniam_marginal.rvs(N)\n",
        "    gbm_sample = x0*np.exp((r - 0.5*sigma**2)*T + sigma*brownian_sample)\n",
        "\n",
        "    constant = np.exp(-1.0*r*T)/(sigma*x0*T)\n",
        "\n",
        "    deltas = []\n",
        "    sizes = range(100, N+1, 100)\n",
        "    for k in sizes:\n",
        "\n",
        "        mc_estimator = np.mean(payoff(gbm_sample[:k])*brownian_sample[:k])\n",
        "        delta = constant*mc_estimator\n",
        "        deltas.append(delta)\n",
        "\n",
        "\n",
        "    return sizes, deltas\n",
        "\n",
        "N = 100000\n",
        "sizes, malliavin_deltas = estimate_delta_malliavin(payoff=payoff,  r=r, sigma=sigma, x0=x0, T=T, N=N)\n",
        "\n",
        "plt.rcParams.update(plt.rcParamsDefault)\n",
        "plt.plot(sizes, malliavin_deltas, color=\"red\", label=\"Malliavin Estimator\")\n",
        "plt.hlines(delta, 0, sizes[-1], color=\"green\", linestyle=\":\", label=\"Exact Value\")\n",
        "plt.xlim([0.0, sizes[-1]])\n",
        "plt.ylabel(\"Delta $\\Delta$\")\n",
        "plt.xlabel(\"Number of Simulations\")\n",
        "plt.title(\"Greeks Approximation\\n Using a Monte Carlo Malliavin Estimator\")\n",
        "plt.legend()\n",
        "plt.show()"
      ],
      "metadata": {
        "colab": {
          "base_uri": "https://localhost:8080/",
          "height": 493
        },
        "id": "V-Qs6Dg8FFfY",
        "outputId": "a0162a2a-5e68-456c-eba2-3a334221bbc8"
      },
      "id": "V-Qs6Dg8FFfY",
      "execution_count": 12,
      "outputs": [
        {
          "output_type": "display_data",
          "data": {
            "text/plain": [
              "<Figure size 640x480 with 1 Axes>"
            ],
            "image/png": "[encoded data removed]"
          },
          "metadata": {}
        }
      ]
    },
    {
      "cell_type": "code",
      "source": [
        "def estimate_delta_fd(payoff, r, sigma, x0, T, N, epsilon=0.001):\n",
        "\n",
        "    browniam_marginal = norm(loc=0, scale=np.sqrt(T))\n",
        "\n",
        "    brownian_sample = browniam_marginal.rvs(N)\n",
        "    gbm_sample_up= (x0 + epsilon)*np.exp((r - 0.5*sigma**2)*T + sigma*brownian_sample)\n",
        "    gbm_sample_down = (x0 - epsilon)*np.exp((r - 0.5*sigma**2)*T + sigma*brownian_sample)\n",
        "    constant = np.exp(-1.0*r*T)\n",
        "\n",
        "    pv_plus = payoff(gbm_sample_up)\n",
        "    pv_minus = payoff(gbm_sample_down)\n",
        "\n",
        "    deltas = []\n",
        "    sizes = range(100, N+1, 100)\n",
        "    for k in sizes:\n",
        "\n",
        "        fd = np.mean((pv_plus[:k] - pv_minus[:k])/(2.0*epsilon))\n",
        "        delta = constant*fd\n",
        "        deltas.append(delta)\n",
        "\n",
        "    return sizes, deltas\n",
        "\n",
        "\n",
        "sizes, fd_deltas = estimate_delta_fd(payoff=payoff, r=r, sigma=sigma, x0=x0, T=T, N=N)\n",
        "\n",
        "plt.plot(sizes, malliavin_deltas, color=\"red\", label=\"Malliavin Estimator\")\n",
        "plt.plot(sizes, fd_deltas, color=\"black\", label=\"FD Estimator\")\n",
        "plt.hlines(delta, 0, sizes[-1], color=\"green\", linestyle=\":\", label=\"Exact Value\")\n",
        "plt.xlim([0.0, sizes[-1]])\n",
        "plt.ylabel(\"Delta $\\Delta$\")\n",
        "plt.xlabel(\"Number of Simulations\")\n",
        "plt.title(\"Greeks Approximation\\n Using a Monte Carlo Malliavin Estimator\\n European Option\")\n",
        "plt.legend()\n",
        "plt.show()\n"
      ],
      "metadata": {
        "colab": {
          "base_uri": "https://localhost:8080/",
          "height": 513
        },
        "id": "80yCCoMHsS5Z",
        "outputId": "4005b856-dcd1-40f4-ca25-bb4fffa1dadd"
      },
      "id": "80yCCoMHsS5Z",
      "execution_count": 13,
      "outputs": [
        {
          "output_type": "display_data",
          "data": {
            "text/plain": [
              "<Figure size 640x480 with 1 Axes>"
            ],
            "image/png": "[encoded data removed]"
          },
          "metadata": {}
        }
      ]
    },
    {
      "cell_type": "markdown",
      "id": "c0e305c0",
      "metadata": {
        "id": "c0e305c0"
      },
      "source": [
        "# Playing around\n",
        "## 1\n",
        "\n",
        "Si on prends le modele de black scholes\n",
        "$$dS_t=S_t\\left(rdt+\\sigma dB_t\\right)$$\n",
        "Donc\n",
        "$$S_{n+1}-S_{n}=-\\theta_nB(S_n,G_{n+1})$$\n",
        "avec\n",
        "$$B(S_n,G_{n+1})=\\frac{S_n}{n}\\left(r+\\sigma \\sqrt{n} G_{n+1}\\right)$$\n",
        "et si on fixe $n=N (\\text{ maturité } T)$ et on prends\n",
        "$$B(S_n,G_{n+1})=\\frac{S_n}{N}\\left(r+\\sigma \\sqrt{N} G_{n+1}\\right)$$\n",
        "\n",
        "On trouve le processus suivant :"
      ]
    },
    {
      "cell_type": "code",
      "execution_count": null,
      "id": "da5d9a35",
      "metadata": {
        "id": "da5d9a35",
        "outputId": "d1411214-b546-404e-9dd1-70dd3fb3d38e"
      },
      "outputs": [
        {
          "data": {
            "text/plain": [
              "[<matplotlib.lines.Line2D at 0x21bf3dca5b0>]"
            ]
          },
          "execution_count": 44,
          "metadata": {},
          "output_type": "execute_result"
        },
        {
          "data": {
            "image/png": "[encoded data removed]",
            "text/plain": [
              "<Figure size 640x480 with 1 Axes>"
            ]
          },
          "metadata": {},
          "output_type": "display_data"
        }
      ],
      "source": [
        "n=1000\n",
        "\n",
        "def B(x,u):\n",
        "    return x*(r/n+sigma_prim/n*np.sqrt(n)*u)\n",
        "\n",
        "\n",
        "G=np.random.normal(size=n)\n",
        "\n",
        "\n",
        "cible =100\n",
        "Y=algorithme_rm_chen(cible,cible*5,n,B,G)\n",
        "plt.plot(Y,'red')"
      ]
    },
    {
      "cell_type": "markdown",
      "id": "46bee18b",
      "metadata": {
        "id": "46bee18b"
      },
      "source": [
        "\n",
        "\n",
        "## 2\n",
        "On suppose que le prix $S_t$ d'une action A suit la dynamique suivante:\n",
        "\n",
        "$$dS_t=rS_t+\\sigma dB_t$$\n",
        "\n",
        "\n",
        "\n",
        "On alors avec $d_t=1/n$ et $\\theta_n=\\frac{1}{\\sqrt{n}}$\n",
        "$$S_{n+1}-S_{n}=-\\theta_nB(S_n,G_{n+1})$$\n",
        "avec\n",
        "$$B(S_n,G_{n+1})=-S_nnr-\\sigma \\frac{n}{\\sqrt{n}} G_{n+1}$$\n",
        "\n"
      ]
    },
    {
      "cell_type": "code",
      "execution_count": null,
      "id": "69fa3b24",
      "metadata": {
        "id": "69fa3b24"
      },
      "outputs": [],
      "source": [
        "def algorithme_rm_chen_martingal(x_0,MAX,t,F,G):\n",
        "    X=np.zeros(t);\n",
        "    X[0] = x_0;\n",
        "    for i in range(1,t-1):\n",
        "        X[i+1]=X[i]-gamma(i)*F(X[i],G[i],i)\n",
        "        if(abs(X[i+1]) >= MAX):\n",
        "            X[i+1]=0\n",
        "    return X\n"
      ]
    },
    {
      "cell_type": "code",
      "execution_count": 14,
      "id": "afd5dd9a",
      "metadata": {
        "scrolled": true,
        "id": "afd5dd9a",
        "outputId": "704228e5-2157-4959-b5e3-5c4184b446fa",
        "colab": {
          "base_uri": "https://localhost:8080/",
          "height": 211
        }
      },
      "outputs": [
        {
          "output_type": "display_data",
          "data": {
            "text/plain": [
              "<IPython.core.display.HTML object>"
            ],
            "text/html": [
              "<style>div.output_scroll { height: 64em; }</style>"
            ]
          },
          "metadata": {}
        },
        {
          "output_type": "error",
          "ename": "NameError",
          "evalue": "name 'algorithme_rm_chen_martingal' is not defined",
          "traceback": [
            "\u001b[0;31m---------------------------------------------------------------------------\u001b[0m",
            "\u001b[0;31mNameError\u001b[0m                                 Traceback (most recent call last)",
            "\u001b[0;32m/tmp/ipython-input-14-521329726.py\u001b[0m in \u001b[0;36m<cell line: 0>\u001b[0;34m()\u001b[0m\n\u001b[1;32m     32\u001b[0m \u001b[0mG\u001b[0m\u001b[0;34m=\u001b[0m\u001b[0mnp\u001b[0m\u001b[0;34m.\u001b[0m\u001b[0mrandom\u001b[0m\u001b[0;34m.\u001b[0m\u001b[0mnormal\u001b[0m\u001b[0;34m(\u001b[0m\u001b[0msize\u001b[0m\u001b[0;34m=\u001b[0m\u001b[0;36m2\u001b[0m\u001b[0;34m*\u001b[0m\u001b[0mn\u001b[0m\u001b[0;34m)\u001b[0m\u001b[0;34m\u001b[0m\u001b[0;34m\u001b[0m\u001b[0m\n\u001b[1;32m     33\u001b[0m \u001b[0mG2\u001b[0m\u001b[0;34m=\u001b[0m\u001b[0mnp\u001b[0m\u001b[0;34m.\u001b[0m\u001b[0mrandom\u001b[0m\u001b[0;34m.\u001b[0m\u001b[0mnormal\u001b[0m\u001b[0;34m(\u001b[0m\u001b[0msize\u001b[0m\u001b[0;34m=\u001b[0m\u001b[0;36m2\u001b[0m\u001b[0;34m*\u001b[0m\u001b[0mn\u001b[0m\u001b[0;34m)\u001b[0m\u001b[0;34m\u001b[0m\u001b[0;34m\u001b[0m\u001b[0m\n\u001b[0;32m---> 34\u001b[0;31m \u001b[0mY\u001b[0m\u001b[0;34m=\u001b[0m\u001b[0malgorithme_rm_chen_martingal\u001b[0m\u001b[0;34m(\u001b[0m\u001b[0;36m0\u001b[0m\u001b[0;34m,\u001b[0m\u001b[0;36m2.5\u001b[0m\u001b[0;34m*\u001b[0m\u001b[0mS_0\u001b[0m\u001b[0;34m,\u001b[0m\u001b[0;36m2\u001b[0m\u001b[0;34m*\u001b[0m\u001b[0mn\u001b[0m\u001b[0;34m,\u001b[0m\u001b[0mF\u001b[0m\u001b[0;34m,\u001b[0m\u001b[0mG\u001b[0m\u001b[0;34m)\u001b[0m\u001b[0;34m\u001b[0m\u001b[0;34m\u001b[0m\u001b[0m\n\u001b[0m\u001b[1;32m     35\u001b[0m \u001b[0mu\u001b[0m\u001b[0;34m=\u001b[0m\u001b[0malgorithme_rm_chen_martingal\u001b[0m\u001b[0;34m(\u001b[0m\u001b[0;36m0\u001b[0m\u001b[0;34m,\u001b[0m\u001b[0;36m2.5\u001b[0m\u001b[0;34m*\u001b[0m\u001b[0mS_0\u001b[0m\u001b[0;34m,\u001b[0m\u001b[0;36m2\u001b[0m\u001b[0;34m*\u001b[0m\u001b[0mn\u001b[0m\u001b[0;34m,\u001b[0m\u001b[0mF\u001b[0m\u001b[0;34m,\u001b[0m\u001b[0mG\u001b[0m\u001b[0;34m)\u001b[0m\u001b[0;34m\u001b[0m\u001b[0;34m\u001b[0m\u001b[0m\n\u001b[1;32m     36\u001b[0m \u001b[0mZ\u001b[0m\u001b[0;34m=\u001b[0m\u001b[0;34m[\u001b[0m\u001b[0mx\u001b[0m \u001b[0;32mfor\u001b[0m \u001b[0mx\u001b[0m \u001b[0;32min\u001b[0m \u001b[0mreversed\u001b[0m\u001b[0;34m(\u001b[0m\u001b[0mu\u001b[0m\u001b[0;34m)\u001b[0m\u001b[0;34m]\u001b[0m\u001b[0;34m\u001b[0m\u001b[0;34m\u001b[0m\u001b[0m\n",
            "\u001b[0;31mNameError\u001b[0m: name 'algorithme_rm_chen_martingal' is not defined"
          ]
        }
      ],
      "source": [
        "from IPython.core.display import display, HTML\n",
        "display(HTML(\"<style>div.output_scroll { height: 64em; }</style>\"))\n",
        "\n",
        "n=10000\n",
        "\n",
        "\n",
        "def F(x,U,n):\n",
        "    return x*r/n+sigma_prim*1*np.sqrt(n)*U\n",
        "\n",
        "\n",
        "def Bi(x,U,n):\n",
        "    return x*r*1+sigma_prim*U\n",
        "\n",
        "\n",
        "def B(x,u,i):\n",
        "    return -x*r*i-sigma_prim*np.sqrt(i)*u\n",
        "    #return np.exp((r-sigma_prim**2/2)*i+sigma_prim*np.sqrt(i)*u)\n",
        "\n",
        "G=np.random.normal(size=n)\n",
        "\n",
        "def algorithme_rm_chen_Price(x_0,MAX,n,F,G):\n",
        "    X=np.zeros(n);\n",
        "    X[0] = x_0;\n",
        "    for i in range(1,n-1):\n",
        "        X[i+1]=X[i]-gamma(i)*F(X[i],G[i],i)\n",
        "        if(abs(X[i+1]) >= MAX):\n",
        "            X[i+1]=0\n",
        "    return X\n",
        "\n",
        "\n",
        "target=10\n",
        "G=np.random.normal(size=2*n)\n",
        "G2=np.random.normal(size=2*n)\n",
        "Y=algorithme_rm_chen_martingal(0,2.5*S_0,2*n,F,G)\n",
        "u=algorithme_rm_chen_martingal(0,2.5*S_0,2*n,F,G)\n",
        "Z=[x for x in reversed(u)]\n",
        "plt.figure().set_figheight(4)\n",
        "plt.plot(Y,'red',Z,'black')\n",
        "#plt.plot(Z,'black')\n",
        "plt.show()\n",
        "\n",
        "n=700\n",
        "cible =S_0\n",
        "N=int(2*n)\n",
        "# G=np.random.normal(size=N)\n",
        "Y=algorithme_rm_chen_martingal(cible,cible*6.6,N,B,G)\n",
        "f=max(Y)\n",
        "U=[y/f for y in Y]\n",
        "#plt.figure().set_figwidth(4)#(figsize=(6,6))\n",
        "plt.figure().set_figheight(4)\n",
        "plt.plot(Y,'red')\n",
        "plt.show()"
      ]
    },
    {
      "cell_type": "code",
      "execution_count": null,
      "id": "21692fbb",
      "metadata": {
        "id": "21692fbb",
        "outputId": "bf62fd9f-3747-434d-d055-c70c7966eba0"
      },
      "outputs": [
        {
          "data": {
            "text/plain": [
              "[<matplotlib.lines.Line2D at 0x200aadd5940>]"
            ]
          },
          "execution_count": 640,
          "metadata": {},
          "output_type": "execute_result"
        },
        {
          "data": {
            "image/png": "[encoded data removed]",
            "text/plain": [
              "<Figure size 640x480 with 1 Axes>"
            ]
          },
          "metadata": {},
          "output_type": "display_data"
        }
      ],
      "source": [
        "def B(x,U):\n",
        "    return x*r/n+sigma*1/np.sqrt(n)*U\n",
        "\n",
        "\n",
        "def BB(x,U):\n",
        "    return +(r-sigma_prim**2/2) + sigma_prim*np.sqrt(n)*U\n",
        "\n",
        "cible=7\n",
        "G=np.random.normal(size=n)\n",
        "\n",
        "Y=algorithme_rm_chen(cible,cible*6,n,B,G)\n",
        "\n",
        "plt.plot(Y,'red')"
      ]
    },
    {
      "cell_type": "markdown",
      "id": "7bbd0dfc",
      "metadata": {
        "id": "7bbd0dfc"
      },
      "source": [
        "# END"
      ]
    },
    {
      "cell_type": "code",
      "execution_count": null,
      "id": "c3a8e0ff",
      "metadata": {
        "id": "c3a8e0ff"
      },
      "outputs": [],
      "source": []
    },
    {
      "cell_type": "code",
      "execution_count": null,
      "id": "c94a2958",
      "metadata": {
        "id": "c94a2958"
      },
      "outputs": [],
      "source": []
    },
    {
      "cell_type": "code",
      "execution_count": null,
      "id": "814946e4",
      "metadata": {
        "id": "814946e4"
      },
      "outputs": [],
      "source": []
    },
    {
      "cell_type": "code",
      "execution_count": null,
      "id": "5b2e36ed",
      "metadata": {
        "id": "5b2e36ed"
      },
      "outputs": [],
      "source": []
    },
    {
      "cell_type": "code",
      "execution_count": null,
      "id": "89fdb406",
      "metadata": {
        "id": "89fdb406"
      },
      "outputs": [],
      "source": []
    },
    {
      "cell_type": "code",
      "execution_count": null,
      "id": "54792d20",
      "metadata": {
        "id": "54792d20"
      },
      "outputs": [],
      "source": []
    },
    {
      "cell_type": "code",
      "execution_count": null,
      "id": "370509b6",
      "metadata": {
        "id": "370509b6"
      },
      "outputs": [],
      "source": []
    },
    {
      "cell_type": "code",
      "execution_count": null,
      "id": "9ef201a8",
      "metadata": {
        "id": "9ef201a8"
      },
      "outputs": [],
      "source": []
    },
    {
      "cell_type": "code",
      "execution_count": null,
      "id": "b9b34834",
      "metadata": {
        "id": "b9b34834"
      },
      "outputs": [],
      "source": []
    },
    {
      "cell_type": "code",
      "execution_count": null,
      "id": "ed92256a",
      "metadata": {
        "id": "ed92256a"
      },
      "outputs": [],
      "source": []
    },
    {
      "cell_type": "code",
      "execution_count": null,
      "id": "c010ed15",
      "metadata": {
        "id": "c010ed15"
      },
      "outputs": [],
      "source": []
    },
    {
      "cell_type": "code",
      "execution_count": null,
      "id": "198d0a4a",
      "metadata": {
        "id": "198d0a4a"
      },
      "outputs": [],
      "source": []
    },
    {
      "cell_type": "code",
      "execution_count": null,
      "id": "4196022a",
      "metadata": {
        "id": "4196022a"
      },
      "outputs": [],
      "source": []
    },
    {
      "cell_type": "code",
      "execution_count": null,
      "id": "4326b9d9",
      "metadata": {
        "id": "4326b9d9"
      },
      "outputs": [],
      "source": []
    },
    {
      "cell_type": "code",
      "execution_count": null,
      "id": "f6c8a7f0",
      "metadata": {
        "id": "f6c8a7f0"
      },
      "outputs": [],
      "source": []
    },
    {
      "cell_type": "code",
      "execution_count": null,
      "id": "89c81983",
      "metadata": {
        "id": "89c81983"
      },
      "outputs": [],
      "source": []
    },
    {
      "cell_type": "code",
      "execution_count": null,
      "id": "3bcb4e7c",
      "metadata": {
        "id": "3bcb4e7c"
      },
      "outputs": [],
      "source": []
    },
    {
      "cell_type": "code",
      "execution_count": null,
      "id": "372f5a1e",
      "metadata": {
        "id": "372f5a1e"
      },
      "outputs": [],
      "source": []
    },
    {
      "cell_type": "markdown",
      "id": "a2b8a40c",
      "metadata": {
        "id": "a2b8a40c"
      },
      "source": [
        "# Modèle de Black and Scholes et Ajustement de Valorisation stochastique\n",
        "\n",
        "## Modèle de black scholes\n",
        "\n",
        "### Méthode Monte Carlo\n",
        "Soit\n",
        "$$S_t=\\frac{1}{r}\\sigma dB_t-\\frac{1}{r}dS_t$$\n",
        "\n",
        "On suppose que le prix $S_t$ d'une action A suit la dynamique suivante:\n",
        "\n",
        "$$dS_t=S_t\\left(rdt+\\sigma dB_t\\right)$$\n",
        "\n",
        "Où\n",
        "\n",
        "$$X_t=ln(S_t)$$\n",
        "\n",
        "donc\n",
        "\n",
        "$$dX_t=(r-\\frac{\\sigma^2}{2})dt+\\sigma dB_t$$\n",
        "\n",
        "\n",
        "\n",
        "\n",
        "\n",
        "\n",
        "\n",
        "\n",
        "\n",
        "\n",
        "\n",
        "\n",
        "Soit $Y_t=exp(-rt+X_t)=exp(-rt)S_t$\n",
        "donc,\n",
        "\n",
        "$$dY_t=X_tY_tdt+Y_tdX_t+\\frac{1}{2}\\sigma^2Y_tdt=Y_t(r-\\frac{\\sigma^2}{2}dt+\\sigma dB_t)+\\frac{1}{2}\\sigma^2Y_tdt=X_tY_tdt+Y_t\\left(rdt+\\sigma dB_t\\right)$$\n",
        "\n",
        "donc\n",
        "\n",
        "$$dY_t=X_tY_tdt+exp(-rt)dS_t=exp(-rt)(S_tln(S_t)+dS_t)$$\n",
        "\n",
        "\n",
        "On a alors,$$X_{n+1}-X_{n}=(r-\\frac{\\sigma^2}{2})\\frac{1}{n}+\\sigma \\frac{1}{\\sqrt{n}}G=-\\theta_nB(S_n,G_{n+1})$$\n",
        "\n",
        "\n",
        "\n",
        "\n",
        "\n",
        "\n",
        "\n",
        "\n",
        "\n",
        "$$\\begin{cases}\n",
        "      r= 5\\text{% : taux d'actualisation} & \\\\\n",
        "      \\sigma \\text{ : la volatilité} & \\\\\n",
        "      B_t \\text{ : Un mouvement brownien standard, } B_t \\sim \\mathcal{N}(0,\\,t) &\n",
        "    \\end{cases}$$\n",
        "\n",
        "la solution de cette EDS est la diffusion suivante $\\forall t\\geq 0$ et $\\sigma \\in [0,1]$:\n",
        "\n",
        "$$S_t(\\sigma)=S_0exp\\left\\{(r-\\frac{\\sigma^2}{2})t+\\sigma B_t\\right\\}=S_0exp\\left\\{(r-\\frac{\\sigma^2}{2})t+\\sigma \\sqrt{t} G\\right\\}$$\n",
        "\n",
        "On définit alors le prix d'un call europeen dont le sous jacent est A de la maniere suivante:\n",
        "\n",
        "$$C(\\sigma)=\\mathbb{E}\\left[e^{-rT}(S_T(\\sigma)-K)_+\\right]=\\mathbb{E}\\left[\\mathbb{1}_{e^{-rT}(S_T(\\sigma)-K)>0}e^{-rT}(S_T(\\sigma)-K)\\right]$$\n",
        "\n",
        "\n",
        "On a $\\forall t>0$\n",
        "\n",
        "$$e^{-rT}(S_T(\\sigma)-K)>0 \\iff S_0exp\\left\\{(r-\\frac{\\sigma^2}{2})T+\\sigma B_T\\right\\}>0$$\n",
        "\n",
        "$$\\iff S_0exp\\left\\{(r-\\frac{\\sigma^2}{2})T+\\sigma B_T\\right\\}>0$$\n",
        "\n",
        "On a aussi avec $d_t=1/n$ et $\\theta_n=\\frac{1}{\\sqrt{n}}$\n",
        "$$S_{n+1}-S_{n}=-\\theta_nB(S_n,G_{n+1})$$\n",
        "avec\n",
        "$$B(S_n,G_{n+1})=\\frac{S_n}{n}\\left(r+\\sigma \\sqrt{n} G\\right)$$\n",
        "\n",
        "soit la suite de variable aleatoires\n",
        "$$V_i=(S_T-K)_{+}=\\left(S_0exp\\left\\{(r-\\frac{\\sigma^2}{2})T+\\sigma \\sqrt{T}G_i\\right\\}-K\\right)_{+}$$\n",
        "avec\n",
        "$$t_i=\\frac{i}{n} \\text{  pour 0$\\leq$ i$\\leq$ n}$$\n",
        "\n",
        "Soit\n",
        "$$M_n=\\frac{V_0+....+V_n}{n} \\text{, alors, $M_n$ converge présque surement vers } C \\text{ le prix d'un call}$$\n",
        "\n",
        "On a avec $\\gamma_n=\\frac{1}{n+1}$\n",
        "\n",
        "$$M_{n+1} = M_n -\\gamma_n \\left(M_n - V_{n+1}\\right)= M_n -\\gamma_n F \\left(M_n , V_{n+1}\\right)$$\n",
        "En effet,\n",
        "\n",
        "$$\\begin{align*}\n",
        "M_{n+1}-M_n&=\\frac{n\\sum_{i=1}^{n+1}V_i-(n+1)\\sum_{i=1}^nG_i}{n(n+1)}&\\\\\n",
        "&=\\frac{V_{n+1}}{n+1}-\\frac{M_n}{n+1}&\\\\\n",
        "&=-\\gamma_n(M_n-V_{n+1})\n",
        "\\end{align*}$$\n",
        "\n",
        "Soit $f(x)=x-C$  et $x'$ tel que $f(x')=x'-C=0$ et $G$ une gaussienne centrée réduite, donc $\\mathbb{E}[G]=0$ et $Var[G]=1$.\n",
        "\n",
        "On a alors avec $F(x,G)=x-H(\\sigma,G)$\n",
        "\n",
        "avec\n",
        "\n",
        "$$F(\\sigma,G)=e^{-rT}\\left(S_0exp\\left\\{(r-\\frac{\\sigma^2}{2})T+\\sigma \\sqrt{T}G\\right\\}-K\\right)_+$$\n",
        "donc\n",
        "\n",
        "$$f(x)=\\mathbb{E}[F(x,G)]=x-C$$\n"
      ]
    }
  ],
  "metadata": {
    "kernelspec": {
      "display_name": "rdwsenv_py39",
      "language": "python",
      "name": "rdwsenv_py39"
    },
    "language_info": {
      "codemirror_mode": {
        "name": "ipython",
        "version": 3
      },
      "file_extension": ".py",
      "mimetype": "text/x-python",
      "name": "python",
      "nbconvert_exporter": "python",
      "pygments_lexer": "ipython3",
      "version": "3.9.18"
    },
    "colab": {
      "provenance": []
    }
  },
  "nbformat": 4,
  "nbformat_minor": 5
}